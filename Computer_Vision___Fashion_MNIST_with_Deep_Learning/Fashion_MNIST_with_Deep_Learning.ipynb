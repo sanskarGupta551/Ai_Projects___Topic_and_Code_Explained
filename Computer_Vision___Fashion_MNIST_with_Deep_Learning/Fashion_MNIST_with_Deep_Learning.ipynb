{
  "cells": [
    {
      "attachments": {},
      "cell_type": "markdown",
      "metadata": {
        "id": "mwucQvi41Gjj"
      },
      "source": [
        "# **Fashion_MNIST_with_Deep_Learning**\n",
        "\n",
        "> Here, we will solve a very common Computer Vision project `Fashion MNIST` using `Deep Learning`.\n",
        "\n",
        "'''\n",
        "\n",
        "* `Fashion MNIST` is a `Image Classification` dataset with `28x28` grayscale images of `10` Fashion categories.\n",
        "* Here, we will build a` Deep Learning model` using `Convolutional Neural Networks (CNNs)` to solve this Image Classification problem.\n",
        "\n",
        "***\n",
        "***"
      ]
    },
    {
      "attachments": {},
      "cell_type": "markdown",
      "metadata": {
        "id": "W79bcuCL9cTZ"
      },
      "source": [
        "### **Importing Libraries**\n",
        "\n",
        "We will import some basic python libraires, such as:\n",
        "\n",
        "* `Numpy` - a Python library used for working with arrays.\n",
        "* `Pandas` - a Python library used for data analysis and manipulation.\n",
        "* `Matplotlib` - a plotting library for the Python programming language and its numerical mathematics extension NumPy.\n",
        "* Additionally, `%matplotlib inline` is a magic command in Jupyter Notebook that allows you to display plots in the notebook itself. It is used to set the backend of matplotlib to the inline backend.\n",
        "* `Pyplot` - a module in the Matplotlib library which provides a convenient interface for creating plots and charts.\n",
        "* `Tensorflow` - a free and open-source software library for machine learning and artificial intelligence.\n",
        "* `Keras` - an open-source high-level neural network library, which is written in Python."
      ]
    },
    {
      "cell_type": "code",
      "execution_count": 1,
      "metadata": {
        "id": "WGXz99hx0_k1"
      },
      "outputs": [],
      "source": [
        "import numpy as np\n",
        "import pandas as pd\n",
        "%matplotlib inline\n",
        "import matplotlib as mpl\n",
        "import matplotlib.pyplot as plt\n",
        "\n",
        "import tensorflow as tf\n",
        "from tensorflow import keras"
      ]
    },
    {
      "attachments": {},
      "cell_type": "markdown",
      "metadata": {
        "id": "9w7m2GJL-PwU"
      },
      "source": [
        "### **Importing Dataset**\n",
        "\n",
        "* Here we import Fashion MNIST dataset from `keras.datasets`.\n",
        "* There are `60,000` Train images and labels and `10,000` for Test."
      ]
    },
    {
      "cell_type": "code",
      "execution_count": 2,
      "metadata": {
        "id": "-zKqn5nJ9v6f"
      },
      "outputs": [],
      "source": [
        "fashion_mnist = keras.datasets.fashion_mnist\n",
        "(X_train_full, y_train_full), (X_test, y_test) = fashion_mnist.load_data()"
      ]
    },
    {
      "attachments": {},
      "cell_type": "markdown",
      "metadata": {
        "id": "kcwzgzyVOuXt"
      },
      "source": [
        "* Also we will make a `list` of the `10 classes` (clothing categories). We will later use it to `predict` using our Model."
      ]
    },
    {
      "cell_type": "code",
      "execution_count": 3,
      "metadata": {
        "id": "7rK1rbhZA97Q"
      },
      "outputs": [],
      "source": [
        "class_names = [\"T-shirt/top\", \"Trouser\", \"Pullover\", \"Dress\", \"Coat\",\n",
        "               \"Sandal\", \"Shirt\", \"Sneaker\", \"Bag\", \"Ankle Boot\"]"
      ]
    },
    {
      "attachments": {},
      "cell_type": "markdown",
      "metadata": {
        "id": "JVV7jxq6BqEt"
      },
      "source": [
        "### **Reshaping Data**\n",
        "\n",
        "* We will reshape our Train and Test Image dataset.\n",
        "* `60,000` and `10,000` are the number of images for `Train` and `Test` respectively.\n",
        "* `28,28` are the dimensions of the images in `pixels`.\n",
        "* And since the images are in `grayscale`, they only need `1` colour channel."
      ]
    },
    {
      "cell_type": "code",
      "execution_count": 4,
      "metadata": {
        "id": "d0k1GUkjBZNf"
      },
      "outputs": [],
      "source": [
        "X_train_full = X_train_full.reshape((60000, 28,28, 1))\n",
        "X_test = X_test.reshape((10000, 28,28, 1))"
      ]
    },
    {
      "attachments": {},
      "cell_type": "markdown",
      "metadata": {
        "id": "oAeWC78HD506"
      },
      "source": [
        "### **Split the data into Train/ Validation/ Test Datasets**\n",
        "\n",
        "* In the earlier step of importing the date, we had 60,000 datasets or Training and 10,000 Test datasets.\n",
        "* Now we further split the Training data into Train/ Validation. Here is how each type of dataset is used in Deep Learning.\n",
        "\n",
        "Use of each each type of Dataset in Deep Learning:-\n",
        "\n",
        "* `Training Data` - used for Training model.\n",
        "* `Validation Data` - used for tuning the Hyper-parameters and evaluate the Models.\n",
        "* `Test Data` - used to test the Model after the Model has been trained.\n",
        "\n",
        "'''\n",
        "\n",
        "* We will take first `5000` images and labels  out of the `60,000` as `Validation` dataset, and the rest for the model to `Train` on."
      ]
    },
    {
      "cell_type": "code",
      "execution_count": 5,
      "metadata": {
        "id": "OhXRnMVCDp30"
      },
      "outputs": [],
      "source": [
        "X_valid, X_train = X_train_full[:5000], X_train_full[5000:]\n",
        "y_valid, y_train = y_train_full[:5000], y_train_full[5000:]"
      ]
    },
    {
      "attachments": {},
      "cell_type": "markdown",
      "metadata": {
        "id": "clCQ_XMvx6aJ"
      },
      "source": [
        "### **Data Augmentation**\n",
        "\n",
        "> `Data Augmentation` is a technique used in machine learning to `reduce overfitting` when training a machine learning model by training models on several `slightly-modified` copies of `existing data`.\n",
        "\n",
        "'''\n",
        "\n",
        "We will perform `Data Augmentation` on `Train` and `Validation` images using following Augmentation:-\n",
        "\n",
        "* `rescale=1./255` - used to convert the pixels in range `[0,255]` to range `[0,1]`. This process is also called `Normalizing the Input`.\n",
        "* `rotation_range=20` - used to `rotate` the image by `0 to 20 degrees`. This method of augmentation rotates the pixels of the image.\n",
        "* `width_shift_range=0.2` - used to `shift` the image in the `horizontal` direction.\n",
        "* `height_shift_range=0.2` - used to `shift` the image in the `vertical` direction.\n",
        "* `shear_range=0.2` - used to apply `shear` transformation to the image. `Shear` is a transformation that `shifts the rows or columns` of an image or a video frame by gradually `increasing the offset` from left to right or right to left.\n",
        "* `zoom_range=0.2` - used to apply `zoom` transformation to the image.\n",
        "* `horizontal_flip=True` - used to `flip` the image `horizontally`."
      ]
    },
    {
      "cell_type": "code",
      "execution_count": 6,
      "metadata": {
        "id": "5hDw2zvWx5gA"
      },
      "outputs": [],
      "source": [
        "from keras.preprocessing.image import ImageDataGenerator\n",
        "\n",
        "# Generating batches of tensor image data\n",
        "train_datagen = ImageDataGenerator(rescale=1./255,\n",
        "                                   rotation_range=20,\n",
        "                                   width_shift_range=0.2,\n",
        "                                   height_shift_range=0.2,\n",
        "                                   shear_range=0.2,\n",
        "                                   zoom_range=0.2,\n",
        "                                   horizontal_flip=True)\n",
        "validation_datagen = ImageDataGenerator(rescale=1./255)\n",
        "\n",
        "train_generator = train_datagen.flow(X_train, y_train, batch_size=32)\n",
        "validation_generator = validation_datagen.flow(X_valid, y_valid, batch_size=32)"
      ]
    },
    {
      "attachments": {},
      "cell_type": "markdown",
      "metadata": {
        "id": "egJFAOubIvyq"
      },
      "source": [
        "### **Model Architecture**\n",
        "\n",
        "* Here we will build a `Convolutional Neural Network` using keras `Sequential API`."
      ]
    },
    {
      "cell_type": "code",
      "execution_count": 7,
      "metadata": {
        "id": "7PK0iI2XJRUQ"
      },
      "outputs": [],
      "source": [
        "from keras.layers import Conv2D, MaxPooling2D, Flatten, Dense\n",
        "\n",
        "model = keras.models.Sequential()\n",
        "model.add(Conv2D(filters=32, kernel_size=(3,3), strides=1, padding=\"valid\", activation=\"relu\", input_shape=(28,28,1)))\n",
        "model.add(MaxPooling2D((2,2)))\n",
        "model.add(Conv2D(filters=64, kernel_size=(3,3), strides=1, padding=\"valid\", activation=\"relu\"))\n",
        "model.add(MaxPooling2D((2,2)))\n",
        "model.add(Conv2D(filters=128, kernel_size=(3,3), strides=1, padding=\"valid\", activation=\"relu\"))\n",
        "model.add(MaxPooling2D((2,2)))\n",
        "\n",
        "model.add(Flatten())\n",
        "model.add(Dense(512, activation=\"relu\"))\n",
        "model.add(Dense(10, activation=\"softmax\"))"
      ]
    },
    {
      "attachments": {},
      "cell_type": "markdown",
      "metadata": {
        "id": "LRVbi6ykQ2_U"
      },
      "source": [
        "#### **Architecture Explained**\n",
        "\n",
        "**1.** `Conv2D [2D Convolutional Neural Network]` - There are `3 Conv2D` networks. Conv2D is designed to `learn features or patterns in an input image` by applying a set of `learnable filters` on the input image.\n",
        "\n",
        "* `filters` - The filters argument sets the `number of convolutional filters` in that layer. These filters are `initialized to small-random values`. During network training, the filters are `updated` in a way that `minimizes the loss`. We `double` the `number of Filters` in every consecutive Conv2D Neural Network to `preserve the details` learned.\n",
        "\n",
        "* `kernel_size` - The kernel_size parameter is a `2-tuple` specifying the `width and height` of the `2D convolution window`. The kernel_size must be an `odd integer` as well. Typical values for kernel_size include: (1,1), (3,3), (5,5), (7,7).\n",
        "\n",
        "* `strides` - The strides parameter specifies the `strides of the convolution` along the `height and width`. The default value is (1,1) or 1.\n",
        "\n",
        "* `padding` - Padding is to `preserve the spatial dimensions` of the input volume so that the `output volume size matches the input volume` size. When padding is set to `valid`, `no padding is used` and the `spatial dimensions` of the output volume are `reduced` after convolution.\n",
        "\n",
        "* `activation` - An activation function is a `mathematical function` that is applied to the `output` of a neural network layer to introduce `nonlinearity` into the output which allows the neural network to `learn more complex functions and make better predictions`. `ReLU` (Rectified Linear Unit) is an activation function which is defined as `f(x) = max(0,x)`, where x is the input to the layer.\n",
        "\n",
        "* `input_shape` - The first `Conv2D` neural network takes this as an argument to specify the `shape of each input image`.\n",
        "\n",
        "**2.** `MaxPooling2D` - MaxPooling2D is a type of `pooling layer` that is used to `downsample` the spatial dimensions of the output volume after convolution while `preserving the most important features`.\n",
        "\n",
        "* We have a pool size of `2x2`.\n",
        "* This means that the `input volume` is divided into `non-overlapping 2x2 regions` and the maximum value within each region is taken.\n",
        "* The output volume has `half` the spatial dimensions of the input volume.\n",
        "\n",
        "**3.** `Flatten` - The Flatten layer is used to `convert` the `output` of a convolutional neural network `(CNN)` or a pooling layer into a `1D feature vector` that can be fed into a fully connected neural network (FCN). It works by `flattening` the spatial dimensions of the output volume into a single dimension while `preserving the channel dimension`.\n",
        "\n",
        "**4.** `Dense` - The Dense layer is a `fully connected neural network layer` that is used to compute the output of a neural network.\n",
        "\n",
        "* The `first` Dense layer has `512 neurons` with `Relu` as activation fuction.\n",
        "* The `second` Dense layer acts as an `output layer` with `10 neurons` and `Softmax` as it's activation function.\n",
        "* The `softmax` function is an activation function that is used to `convert the output` of a neural network into a `probability distribution over the output classes`. It works by exponentiating the output of the neural network and then `normalizing` it so that the `sum of the outputs is equal to 1`."
      ]
    },
    {
      "cell_type": "code",
      "execution_count": 8,
      "metadata": {
        "colab": {
          "base_uri": "https://localhost:8080/"
        },
        "id": "RQnbmO6pK0HY",
        "outputId": "ddfa3904-251f-4a3a-f9e0-f5927ff4d72f"
      },
      "outputs": [
        {
          "name": "stdout",
          "output_type": "stream",
          "text": [
            "Model: \"sequential\"\n",
            "_________________________________________________________________\n",
            " Layer (type)                Output Shape              Param #   \n",
            "=================================================================\n",
            " conv2d (Conv2D)             (None, 26, 26, 32)        320       \n",
            "                                                                 \n",
            " max_pooling2d (MaxPooling2D  (None, 13, 13, 32)       0         \n",
            " )                                                               \n",
            "                                                                 \n",
            " conv2d_1 (Conv2D)           (None, 11, 11, 64)        18496     \n",
            "                                                                 \n",
            " max_pooling2d_1 (MaxPooling  (None, 5, 5, 64)         0         \n",
            " 2D)                                                             \n",
            "                                                                 \n",
            " conv2d_2 (Conv2D)           (None, 3, 3, 128)         73856     \n",
            "                                                                 \n",
            " max_pooling2d_2 (MaxPooling  (None, 1, 1, 128)        0         \n",
            " 2D)                                                             \n",
            "                                                                 \n",
            " flatten (Flatten)           (None, 128)               0         \n",
            "                                                                 \n",
            " dense (Dense)               (None, 512)               66048     \n",
            "                                                                 \n",
            " dense_1 (Dense)             (None, 10)                5130      \n",
            "                                                                 \n",
            "=================================================================\n",
            "Total params: 163,850\n",
            "Trainable params: 163,850\n",
            "Non-trainable params: 0\n",
            "_________________________________________________________________\n"
          ]
        }
      ],
      "source": [
        "model.summary()"
      ]
    },
    {
      "attachments": {},
      "cell_type": "markdown",
      "metadata": {
        "id": "qQFWfPVF5-3m"
      },
      "source": [
        "### **Callbacks**\n",
        "\n",
        "* We will also use some `Callbacks` to improve our effectiveness and efficiency in training the Model.\n",
        "\n",
        "> `Callbacks` are functions that can be passed to a neural network `during training` to perform certain `actions at specific points` during the `training` process.\n",
        "\n",
        "* We will use following Callbacks -\n",
        "\n",
        "1. `early_stopping` - The `EarlyStopping` callback is a Keras callback that can be used to `stop the training process early` if the monitored value stops improving. Here we monitor `val_loss` and use `10` as `patience` value, which means the callback will wait `10 epochs` before executing.\n",
        "2. `model_checkpoint` - The `ModelCheckpoint` callback is a Keras callback that can be used to `save the weights` of the neural network at certain intervals during training. Here we will `save only best model`.\n",
        "3. `reduce_lr_on_plateau` - ReduceLROnPlateau is a callback that `monitors a quantity` and if no improvement is seen for a patience number of epochs, the `learning rate is reduced`. Here we reduce the learning rate by `10 percent`.\n",
        "4. `tensorboard` - TensorBoard is a `visualization tool` provided with TensorFlow. This callback `logs events` for TensorBoard, including metrics summary plots, training graph visualization, weight histograms, and sampled profiling."
      ]
    },
    {
      "cell_type": "code",
      "execution_count": 9,
      "metadata": {
        "id": "hG-UPCH86DhG"
      },
      "outputs": [],
      "source": [
        "from keras.callbacks import EarlyStopping, ModelCheckpoint, ReduceLROnPlateau, TensorBoard\n",
        "\n",
        "early_stopping = EarlyStopping(monitor='val_loss', patience=10)\n",
        "model_checkpoint = ModelCheckpoint('best_model.h5', save_best_only=True)\n",
        "reduce_lr_on_plateau = ReduceLROnPlateau(monitor='val_loss', factor=0.1, patience=5)\n",
        "tensorboard = TensorBoard(log_dir='./logs')\n",
        "\n",
        "callbacks = [early_stopping, model_checkpoint, reduce_lr_on_plateau, tensorboard]"
      ]
    },
    {
      "attachments": {},
      "cell_type": "markdown",
      "metadata": {
        "id": "wwxphlf56Guh"
      },
      "source": [
        "### **Training Model**\n",
        "\n",
        "* Building of every `batch` used into training uses random images.\n",
        "* Before beginning to train, we will set `random seed number`, so that every time we train our model we get the `same results`."
      ]
    },
    {
      "cell_type": "code",
      "execution_count": 10,
      "metadata": {
        "id": "6NwedQz16Izw"
      },
      "outputs": [],
      "source": [
        "np.random.seed(42)\n",
        "tf.random.set_seed(42)"
      ]
    },
    {
      "attachments": {},
      "cell_type": "markdown",
      "metadata": {
        "id": "N41CZth-1TrC"
      },
      "source": [
        "We then compile our model using -\n",
        "\n",
        "* `sparse_categorical_crossentropy` - We use this as our `loss` function as we are training a `Multi-Class Classification` model.\n",
        "* `sgd` - `Stochastic Gradient Descent` (SGD) is an iterative method for `minimizing a function`, such as the loss or error function, by moving in the direction of the gradient. It is a type of `gradient descent` optimizer that uses a `randomly selected subset` of the data instead of the entire data set for each iteration.\n",
        "* `accuracy` -  The metrics argument is used to specify the metrics to be `evaluated` by the model during `training and testing`. Here we use `accuracy`."
      ]
    },
    {
      "cell_type": "code",
      "execution_count": 11,
      "metadata": {
        "id": "xAlhqLu3K5kX"
      },
      "outputs": [],
      "source": [
        "model.compile(loss=\"sparse_categorical_crossentropy\",\n",
        "              optimizer=\"sgd\",\n",
        "              metrics=[\"accuracy\"])"
      ]
    },
    {
      "attachments": {},
      "cell_type": "markdown",
      "metadata": {
        "id": "J88AA3Wt1piX"
      },
      "source": [
        "* Now we train our model."
      ]
    },
    {
      "cell_type": "code",
      "execution_count": 12,
      "metadata": {
        "colab": {
          "base_uri": "https://localhost:8080/"
        },
        "id": "yOr1W_ACLLQi",
        "outputId": "467d161e-470f-4046-d9b6-f5add26c696f"
      },
      "outputs": [
        {
          "name": "stdout",
          "output_type": "stream",
          "text": [
            "Epoch 1/100\n",
            "100/100 [==============================] - 13s 109ms/step - loss: 2.2945 - accuracy: 0.0997 - val_loss: 2.2803 - val_accuracy: 0.1063 - lr: 0.0100\n",
            "Epoch 2/100\n",
            "100/100 [==============================] - 9s 90ms/step - loss: 2.2815 - accuracy: 0.1509 - val_loss: 2.2627 - val_accuracy: 0.1469 - lr: 0.0100\n",
            "Epoch 3/100\n",
            "100/100 [==============================] - 8s 77ms/step - loss: 2.2665 - accuracy: 0.1928 - val_loss: 2.2354 - val_accuracy: 0.2575 - lr: 0.0100\n",
            "Epoch 4/100\n",
            "100/100 [==============================] - 6s 61ms/step - loss: 2.2339 - accuracy: 0.2275 - val_loss: 2.1733 - val_accuracy: 0.3456 - lr: 0.0100\n",
            "Epoch 5/100\n",
            "100/100 [==============================] - 6s 55ms/step - loss: 2.1655 - accuracy: 0.2447 - val_loss: 2.0279 - val_accuracy: 0.3531 - lr: 0.0100\n",
            "Epoch 6/100\n",
            "100/100 [==============================] - 5s 48ms/step - loss: 2.0264 - accuracy: 0.2650 - val_loss: 1.7915 - val_accuracy: 0.4269 - lr: 0.0100\n",
            "Epoch 7/100\n",
            "100/100 [==============================] - 6s 61ms/step - loss: 1.8901 - accuracy: 0.2862 - val_loss: 1.6328 - val_accuracy: 0.4263 - lr: 0.0100\n",
            "Epoch 8/100\n",
            "100/100 [==============================] - 6s 63ms/step - loss: 1.7944 - accuracy: 0.3116 - val_loss: 1.5228 - val_accuracy: 0.4244 - lr: 0.0100\n",
            "Epoch 9/100\n",
            "100/100 [==============================] - 5s 47ms/step - loss: 1.7292 - accuracy: 0.3381 - val_loss: 1.4619 - val_accuracy: 0.4762 - lr: 0.0100\n",
            "Epoch 10/100\n",
            "100/100 [==============================] - 6s 63ms/step - loss: 1.6919 - accuracy: 0.3681 - val_loss: 1.4122 - val_accuracy: 0.5156 - lr: 0.0100\n",
            "Epoch 11/100\n",
            "100/100 [==============================] - 6s 56ms/step - loss: 1.6222 - accuracy: 0.4112 - val_loss: 1.3832 - val_accuracy: 0.5319 - lr: 0.0100\n",
            "Epoch 12/100\n",
            "100/100 [==============================] - 5s 48ms/step - loss: 1.6062 - accuracy: 0.3947 - val_loss: 1.4198 - val_accuracy: 0.4688 - lr: 0.0100\n",
            "Epoch 13/100\n",
            "100/100 [==============================] - 6s 61ms/step - loss: 1.5321 - accuracy: 0.4394 - val_loss: 1.3113 - val_accuracy: 0.5225 - lr: 0.0100\n",
            "Epoch 14/100\n",
            "100/100 [==============================] - 5s 47ms/step - loss: 1.5187 - accuracy: 0.4414 - val_loss: 1.2555 - val_accuracy: 0.5706 - lr: 0.0100\n",
            "Epoch 15/100\n",
            "100/100 [==============================] - 6s 60ms/step - loss: 1.4880 - accuracy: 0.4437 - val_loss: 1.2067 - val_accuracy: 0.5894 - lr: 0.0100\n",
            "Epoch 16/100\n",
            "100/100 [==============================] - 5s 53ms/step - loss: 1.4402 - accuracy: 0.4797 - val_loss: 1.1483 - val_accuracy: 0.6062 - lr: 0.0100\n",
            "Epoch 17/100\n",
            "100/100 [==============================] - 5s 48ms/step - loss: 1.4555 - accuracy: 0.4644 - val_loss: 1.1683 - val_accuracy: 0.5856 - lr: 0.0100\n",
            "Epoch 18/100\n",
            "100/100 [==============================] - 7s 65ms/step - loss: 1.4285 - accuracy: 0.4737 - val_loss: 1.3034 - val_accuracy: 0.4956 - lr: 0.0100\n",
            "Epoch 19/100\n",
            "100/100 [==============================] - 5s 48ms/step - loss: 1.3756 - accuracy: 0.4972 - val_loss: 1.1119 - val_accuracy: 0.5950 - lr: 0.0100\n",
            "Epoch 20/100\n",
            "100/100 [==============================] - 6s 61ms/step - loss: 1.3895 - accuracy: 0.5038 - val_loss: 1.0559 - val_accuracy: 0.6350 - lr: 0.0100\n",
            "Epoch 21/100\n",
            "100/100 [==============================] - 6s 58ms/step - loss: 1.3791 - accuracy: 0.4966 - val_loss: 1.0336 - val_accuracy: 0.6650 - lr: 0.0100\n",
            "Epoch 22/100\n",
            "100/100 [==============================] - 5s 49ms/step - loss: 1.3403 - accuracy: 0.5066 - val_loss: 1.0400 - val_accuracy: 0.6256 - lr: 0.0100\n",
            "Epoch 23/100\n",
            "100/100 [==============================] - 5s 47ms/step - loss: 1.2876 - accuracy: 0.5219 - val_loss: 1.0264 - val_accuracy: 0.6156 - lr: 0.0100\n",
            "Epoch 24/100\n",
            "100/100 [==============================] - 6s 62ms/step - loss: 1.2687 - accuracy: 0.5403 - val_loss: 1.0628 - val_accuracy: 0.6037 - lr: 0.0100\n",
            "Epoch 25/100\n",
            "100/100 [==============================] - 6s 57ms/step - loss: 1.2991 - accuracy: 0.5241 - val_loss: 0.9778 - val_accuracy: 0.6231 - lr: 0.0100\n",
            "Epoch 26/100\n",
            "100/100 [==============================] - 5s 47ms/step - loss: 1.2303 - accuracy: 0.5475 - val_loss: 0.8942 - val_accuracy: 0.6731 - lr: 0.0100\n",
            "Epoch 27/100\n",
            "100/100 [==============================] - 6s 61ms/step - loss: 1.2267 - accuracy: 0.5547 - val_loss: 0.9305 - val_accuracy: 0.6513 - lr: 0.0100\n",
            "Epoch 28/100\n",
            "100/100 [==============================] - 5s 47ms/step - loss: 1.2329 - accuracy: 0.5428 - val_loss: 0.8911 - val_accuracy: 0.7038 - lr: 0.0100\n",
            "Epoch 29/100\n",
            "100/100 [==============================] - 7s 72ms/step - loss: 1.2045 - accuracy: 0.5569 - val_loss: 0.8689 - val_accuracy: 0.6925 - lr: 0.0100\n",
            "Epoch 30/100\n",
            "100/100 [==============================] - 6s 56ms/step - loss: 1.2037 - accuracy: 0.5609 - val_loss: 0.8774 - val_accuracy: 0.6669 - lr: 0.0100\n",
            "Epoch 31/100\n",
            "100/100 [==============================] - 5s 48ms/step - loss: 1.1598 - accuracy: 0.5722 - val_loss: 0.8644 - val_accuracy: 0.6844 - lr: 0.0100\n",
            "Epoch 32/100\n",
            "100/100 [==============================] - 6s 61ms/step - loss: 1.1875 - accuracy: 0.5545 - val_loss: 1.0068 - val_accuracy: 0.6025 - lr: 0.0100\n",
            "Epoch 33/100\n",
            "100/100 [==============================] - 5s 48ms/step - loss: 1.1783 - accuracy: 0.5689 - val_loss: 0.8717 - val_accuracy: 0.6812 - lr: 0.0100\n",
            "Epoch 34/100\n",
            "100/100 [==============================] - 6s 57ms/step - loss: 1.1431 - accuracy: 0.5803 - val_loss: 0.8614 - val_accuracy: 0.7000 - lr: 0.0100\n",
            "Epoch 35/100\n",
            "100/100 [==============================] - 6s 61ms/step - loss: 1.1338 - accuracy: 0.5866 - val_loss: 0.8299 - val_accuracy: 0.7063 - lr: 0.0100\n",
            "Epoch 36/100\n",
            "100/100 [==============================] - 5s 48ms/step - loss: 1.1459 - accuracy: 0.5844 - val_loss: 0.9082 - val_accuracy: 0.6812 - lr: 0.0100\n",
            "Epoch 37/100\n",
            "100/100 [==============================] - 5s 55ms/step - loss: 1.1710 - accuracy: 0.5728 - val_loss: 0.8794 - val_accuracy: 0.6619 - lr: 0.0100\n",
            "Epoch 38/100\n",
            "100/100 [==============================] - 5s 48ms/step - loss: 1.1191 - accuracy: 0.5947 - val_loss: 0.7671 - val_accuracy: 0.7262 - lr: 0.0100\n",
            "Epoch 39/100\n",
            "100/100 [==============================] - 6s 61ms/step - loss: 1.0898 - accuracy: 0.5869 - val_loss: 0.8681 - val_accuracy: 0.6506 - lr: 0.0100\n",
            "Epoch 40/100\n",
            "100/100 [==============================] - 5s 53ms/step - loss: 1.0938 - accuracy: 0.5913 - val_loss: 0.7997 - val_accuracy: 0.7081 - lr: 0.0100\n",
            "Epoch 41/100\n",
            "100/100 [==============================] - 5s 46ms/step - loss: 1.1010 - accuracy: 0.5875 - val_loss: 0.8059 - val_accuracy: 0.7287 - lr: 0.0100\n",
            "Epoch 42/100\n",
            "100/100 [==============================] - 6s 60ms/step - loss: 1.0477 - accuracy: 0.6024 - val_loss: 0.7972 - val_accuracy: 0.7181 - lr: 0.0100\n",
            "Epoch 43/100\n",
            "100/100 [==============================] - 5s 51ms/step - loss: 1.0670 - accuracy: 0.6097 - val_loss: 0.7727 - val_accuracy: 0.7256 - lr: 0.0100\n",
            "Epoch 44/100\n",
            "100/100 [==============================] - 5s 48ms/step - loss: 1.0461 - accuracy: 0.6137 - val_loss: 0.7935 - val_accuracy: 0.7138 - lr: 1.0000e-03\n",
            "Epoch 45/100\n",
            "100/100 [==============================] - 6s 60ms/step - loss: 1.0490 - accuracy: 0.6147 - val_loss: 0.7921 - val_accuracy: 0.7169 - lr: 1.0000e-03\n",
            "Epoch 46/100\n",
            "100/100 [==============================] - 5s 46ms/step - loss: 1.0202 - accuracy: 0.6200 - val_loss: 0.7927 - val_accuracy: 0.7156 - lr: 1.0000e-03\n",
            "Epoch 47/100\n",
            "100/100 [==============================] - 6s 59ms/step - loss: 1.0400 - accuracy: 0.6234 - val_loss: 0.7680 - val_accuracy: 0.7188 - lr: 1.0000e-03\n",
            "Epoch 48/100\n",
            "100/100 [==============================] - 5s 47ms/step - loss: 1.0259 - accuracy: 0.6256 - val_loss: 0.7570 - val_accuracy: 0.7337 - lr: 1.0000e-03\n",
            "Epoch 49/100\n",
            "100/100 [==============================] - 6s 62ms/step - loss: 1.0179 - accuracy: 0.6319 - val_loss: 0.7692 - val_accuracy: 0.7181 - lr: 1.0000e-03\n",
            "Epoch 50/100\n",
            "100/100 [==============================] - 5s 54ms/step - loss: 1.0180 - accuracy: 0.6247 - val_loss: 0.7545 - val_accuracy: 0.7350 - lr: 1.0000e-03\n",
            "Epoch 51/100\n",
            "100/100 [==============================] - 5s 53ms/step - loss: 0.9769 - accuracy: 0.6509 - val_loss: 0.7853 - val_accuracy: 0.7231 - lr: 1.0000e-03\n",
            "Epoch 52/100\n",
            "100/100 [==============================] - 6s 59ms/step - loss: 0.9910 - accuracy: 0.6441 - val_loss: 0.7976 - val_accuracy: 0.7081 - lr: 1.0000e-03\n",
            "Epoch 53/100\n",
            "100/100 [==============================] - 6s 55ms/step - loss: 0.9915 - accuracy: 0.6413 - val_loss: 0.7657 - val_accuracy: 0.7312 - lr: 1.0000e-03\n",
            "Epoch 54/100\n",
            "100/100 [==============================] - 5s 51ms/step - loss: 0.9930 - accuracy: 0.6363 - val_loss: 0.7650 - val_accuracy: 0.7437 - lr: 1.0000e-03\n",
            "Epoch 55/100\n",
            "100/100 [==============================] - 6s 60ms/step - loss: 1.0186 - accuracy: 0.6300 - val_loss: 0.7833 - val_accuracy: 0.7188 - lr: 1.0000e-03\n",
            "Epoch 56/100\n",
            "100/100 [==============================] - 6s 59ms/step - loss: 1.0252 - accuracy: 0.6325 - val_loss: 0.7370 - val_accuracy: 0.7300 - lr: 1.0000e-04\n",
            "Epoch 57/100\n",
            "100/100 [==============================] - 5s 47ms/step - loss: 1.0038 - accuracy: 0.6191 - val_loss: 0.7773 - val_accuracy: 0.7113 - lr: 1.0000e-04\n",
            "Epoch 58/100\n",
            "100/100 [==============================] - 6s 62ms/step - loss: 1.0042 - accuracy: 0.6341 - val_loss: 0.7634 - val_accuracy: 0.7219 - lr: 1.0000e-04\n",
            "Epoch 59/100\n",
            "100/100 [==============================] - 6s 59ms/step - loss: 1.0385 - accuracy: 0.6234 - val_loss: 0.7643 - val_accuracy: 0.7312 - lr: 1.0000e-04\n",
            "Epoch 60/100\n",
            "100/100 [==============================] - 5s 46ms/step - loss: 1.0164 - accuracy: 0.6397 - val_loss: 0.7770 - val_accuracy: 0.7175 - lr: 1.0000e-04\n",
            "Epoch 61/100\n",
            "100/100 [==============================] - 6s 60ms/step - loss: 1.0065 - accuracy: 0.6253 - val_loss: 0.7660 - val_accuracy: 0.7194 - lr: 1.0000e-04\n",
            "Epoch 62/100\n",
            "100/100 [==============================] - 5s 53ms/step - loss: 1.0082 - accuracy: 0.6306 - val_loss: 0.7521 - val_accuracy: 0.7287 - lr: 1.0000e-05\n",
            "Epoch 63/100\n",
            "100/100 [==============================] - 5s 46ms/step - loss: 1.0235 - accuracy: 0.6094 - val_loss: 0.7695 - val_accuracy: 0.7150 - lr: 1.0000e-05\n",
            "Epoch 64/100\n",
            "100/100 [==============================] - 6s 60ms/step - loss: 1.0104 - accuracy: 0.6284 - val_loss: 0.7445 - val_accuracy: 0.7269 - lr: 1.0000e-05\n",
            "Epoch 65/100\n",
            "100/100 [==============================] - 5s 49ms/step - loss: 0.9872 - accuracy: 0.6344 - val_loss: 0.7959 - val_accuracy: 0.7144 - lr: 1.0000e-05\n",
            "Epoch 66/100\n",
            "100/100 [==============================] - 6s 55ms/step - loss: 0.9879 - accuracy: 0.6353 - val_loss: 0.7859 - val_accuracy: 0.7031 - lr: 1.0000e-05\n"
          ]
        }
      ],
      "source": [
        "history = model.fit(train_generator,\n",
        "                    epochs=100,\n",
        "                    steps_per_epoch=100,\n",
        "                    validation_data=validation_generator,\n",
        "                    validation_steps=50,\n",
        "                    callbacks=callbacks)"
      ]
    },
    {
      "attachments": {},
      "cell_type": "markdown",
      "metadata": {
        "id": "qYgOgacqirvr"
      },
      "source": [
        "### **Plotting Performance Graphs**\n",
        "\n",
        "* Here we plot a performance graph showing our `Train` and `Validation` `loss` and `accurracy` along with the `learning rate`."
      ]
    },
    {
      "cell_type": "code",
      "execution_count": 13,
      "metadata": {
        "colab": {
          "base_uri": "https://localhost:8080/",
          "height": 451
        },
        "id": "CHtxlBwTI94Z",
        "outputId": "33610e27-c2e5-4e96-a690-53bfdc579b16"
      },
      "outputs": [
        {
          "data": {
            "image/png": "[encoded data removed]",
            "text/plain": [
              "<Figure size 800x500 with 1 Axes>"
            ]
          },
          "metadata": {},
          "output_type": "display_data"
        }
      ],
      "source": [
        "pd.DataFrame(history.history).plot(figsize=(8,5))\n",
        "plt.grid(True)\n",
        "plt.gca().set_ylim(0,1)\n",
        "plt.show()"
      ]
    },
    {
      "attachments": {},
      "cell_type": "markdown",
      "metadata": {
        "id": "2ERMzE01bQLr"
      },
      "source": [
        "### **Loading Best Model**\n",
        "\n",
        "* We first use `clear_session` to free up our memory and then delete the model."
      ]
    },
    {
      "cell_type": "code",
      "execution_count": 14,
      "metadata": {
        "colab": {
          "base_uri": "https://localhost:8080/"
        },
        "id": "pbGY-D2UbRmh",
        "outputId": "c0dacbad-8d30-4524-e84d-6eccb70f3029"
      },
      "outputs": [
        {
          "data": {
            "text/plain": [
              "<function keras.backend.clear_session()>"
            ]
          },
          "execution_count": 14,
          "metadata": {},
          "output_type": "execute_result"
        }
      ],
      "source": [
        "keras.backend.clear_session"
      ]
    },
    {
      "cell_type": "code",
      "execution_count": 15,
      "metadata": {
        "id": "Ee0INurrbTuc"
      },
      "outputs": [],
      "source": [
        "del model"
      ]
    },
    {
      "attachments": {},
      "cell_type": "markdown",
      "metadata": {
        "id": "3T0iN-Kf2Qp1"
      },
      "source": [
        "* Now we load the `Best model` that our `callback` saved."
      ]
    },
    {
      "cell_type": "code",
      "execution_count": 16,
      "metadata": {
        "id": "B5BxYz7y1mCA"
      },
      "outputs": [],
      "source": [
        "from keras.models import load_model\n",
        "\n",
        "model = load_model('best_model.h5')"
      ]
    },
    {
      "attachments": {},
      "cell_type": "markdown",
      "metadata": {
        "id": "wSJb9uTP1fLI"
      },
      "source": [
        "### **Evaluating Model**\n",
        "\n",
        "* Here we evaluate the overall `performance` of our model on the `Test Dataset`."
      ]
    },
    {
      "cell_type": "code",
      "execution_count": 17,
      "metadata": {
        "colab": {
          "base_uri": "https://localhost:8080/"
        },
        "id": "WrvsrL6ijHxJ",
        "outputId": "6970723e-feb7-46ef-fc7f-e41e9fbd8c83"
      },
      "outputs": [
        {
          "name": "stdout",
          "output_type": "stream",
          "text": [
            "313/313 [==============================] - 5s 14ms/step - loss: 110.1562 - accuracy: 0.6693\n"
          ]
        }
      ],
      "source": [
        "result = model.evaluate(X_test, y_test)"
      ]
    },
    {
      "cell_type": "code",
      "execution_count": 18,
      "metadata": {
        "colab": {
          "base_uri": "https://localhost:8080/"
        },
        "id": "BW1xozH_jdNP",
        "outputId": "0c1d4f3e-d1cc-4945-fc6e-73eb1de447c5"
      },
      "outputs": [
        {
          "data": {
            "text/plain": [
              "[110.15623474121094, 0.6693000197410583]"
            ]
          },
          "execution_count": 18,
          "metadata": {},
          "output_type": "execute_result"
        }
      ],
      "source": [
        "result"
      ]
    },
    {
      "attachments": {},
      "cell_type": "markdown",
      "metadata": {
        "id": "2A1a6Eo4awvW"
      },
      "source": [
        "### **Predicting Classes**\n",
        "\n",
        "* Now we will `predict classes` using our model.\n",
        "* First we take a small subset from our `Test Dataset`."
      ]
    },
    {
      "cell_type": "code",
      "execution_count": 19,
      "metadata": {
        "id": "-5Xr7dJejgmm"
      },
      "outputs": [],
      "source": [
        "X_new = X_test[:3]"
      ]
    },
    {
      "attachments": {},
      "cell_type": "markdown",
      "metadata": {
        "id": "wcX2tFSA3LhX"
      },
      "source": [
        "* The we use predict function using our model on the subset."
      ]
    },
    {
      "cell_type": "code",
      "execution_count": 20,
      "metadata": {
        "colab": {
          "base_uri": "https://localhost:8080/"
        },
        "id": "9V3rU006jrBu",
        "outputId": "6009d0d8-8e07-4143-8468-7012753120ed"
      },
      "outputs": [
        {
          "name": "stdout",
          "output_type": "stream",
          "text": [
            "1/1 [==============================] - 0s 120ms/step\n"
          ]
        }
      ],
      "source": [
        "y_pred = model.predict(X_new) "
      ]
    },
    {
      "attachments": {},
      "cell_type": "markdown",
      "metadata": {
        "id": "PSAxDN853sbF"
      },
      "source": [
        "* Rounding off to 2 Decimal digits."
      ]
    },
    {
      "cell_type": "code",
      "execution_count": 21,
      "metadata": {
        "id": "NkiOK_QE3mul"
      },
      "outputs": [],
      "source": [
        "y_pred = np.round(y_pred, 2)"
      ]
    },
    {
      "attachments": {},
      "cell_type": "markdown",
      "metadata": {
        "id": "zBBfKLlU3w2M"
      },
      "source": [
        "* Making an array of the position of the highest number present in each list."
      ]
    },
    {
      "cell_type": "code",
      "execution_count": 22,
      "metadata": {
        "colab": {
          "base_uri": "https://localhost:8080/"
        },
        "id": "Z-CRYJn33o6l",
        "outputId": "ef670b32-90f7-4fe5-8462-cbe46f5e7349"
      },
      "outputs": [
        {
          "name": "stdout",
          "output_type": "stream",
          "text": [
            "[9 2 1]\n"
          ]
        }
      ],
      "source": [
        "y_pred = np.argmax(y_pred, axis=1)\n",
        "\n",
        "print(y_pred)"
      ]
    },
    {
      "attachments": {},
      "cell_type": "markdown",
      "metadata": {
        "id": "K0C4BN9S35R0"
      },
      "source": [
        "* Now we see the values in our Test Subset."
      ]
    },
    {
      "cell_type": "code",
      "execution_count": 23,
      "metadata": {
        "colab": {
          "base_uri": "https://localhost:8080/"
        },
        "id": "N2rAXxRUj7PF",
        "outputId": "dff774d6-9280-458c-fed6-1d82df1aa04f"
      },
      "outputs": [
        {
          "data": {
            "text/plain": [
              "array([9, 2, 1], dtype=uint8)"
            ]
          },
          "execution_count": 23,
          "metadata": {},
          "output_type": "execute_result"
        }
      ],
      "source": [
        "y_test[:3]"
      ]
    },
    {
      "attachments": {},
      "cell_type": "markdown",
      "metadata": {
        "id": "vlC698Fo4AwL"
      },
      "source": [
        "* Our model predicted it accurately.\n",
        "\n",
        "'''\n",
        "\n",
        "* Let's Display the first image in our Subset."
      ]
    },
    {
      "cell_type": "code",
      "execution_count": 24,
      "metadata": {
        "colab": {
          "base_uri": "https://localhost:8080/",
          "height": 447
        },
        "id": "S3J08XJjnyyB",
        "outputId": "b88ba500-9b8c-4f6b-ea86-be15ff670a35"
      },
      "outputs": [
        {
          "name": "stdout",
          "output_type": "stream",
          "text": [
            "AxesImage(size=(28, 28))\n"
          ]
        },
        {
          "data": {
            "image/png": "[encoded data removed]",
            "text/plain": [
              "<Figure size 640x480 with 1 Axes>"
            ]
          },
          "metadata": {},
          "output_type": "display_data"
        }
      ],
      "source": [
        "print(plt.imshow(X_test[0].reshape((28,28))))"
      ]
    },
    {
      "attachments": {},
      "cell_type": "markdown",
      "metadata": {
        "id": "Vz2Ja21J4YOx"
      },
      "source": [
        "* And the value model predicted for the first image was `9` which according to our `class_names` list is ..."
      ]
    },
    {
      "cell_type": "code",
      "execution_count": 25,
      "metadata": {
        "colab": {
          "base_uri": "https://localhost:8080/",
          "height": 35
        },
        "id": "8SfbF2YMOVDo",
        "outputId": "1a18f3c0-5f02-4483-e1c3-ac7ff82c8cb3"
      },
      "outputs": [
        {
          "data": {
            "application/vnd.google.colaboratory.intrinsic+json": {
              "type": "string"
            },
            "text/plain": [
              "'Ankle Boot'"
            ]
          },
          "execution_count": 25,
          "metadata": {},
          "output_type": "execute_result"
        }
      ],
      "source": [
        "class_names[9]"
      ]
    },
    {
      "attachments": {},
      "cell_type": "markdown",
      "metadata": {
        "id": "eXZ65WY64p2Q"
      },
      "source": [
        "* Seems to match perfectly.\n",
        "\n",
        "***\n",
        "***"
      ]
    },
    {
      "cell_type": "code",
      "execution_count": 25,
      "metadata": {
        "id": "KhvAJvYBoQXP"
      },
      "outputs": [],
      "source": []
    }
  ],
  "metadata": {
    "colab": {
      "provenance": [],
      "toc_visible": true
    },
    "kernelspec": {
      "display_name": "Python 3",
      "name": "python3"
    },
    "language_info": {
      "name": "python",
      "version": "3.9.16"
    }
  },
  "nbformat": 4,
  "nbformat_minor": 0
}
