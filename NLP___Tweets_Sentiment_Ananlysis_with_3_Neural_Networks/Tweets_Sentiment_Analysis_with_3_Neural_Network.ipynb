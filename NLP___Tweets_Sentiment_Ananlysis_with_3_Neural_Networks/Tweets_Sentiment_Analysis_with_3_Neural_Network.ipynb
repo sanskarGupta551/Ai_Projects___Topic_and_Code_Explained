{
 "cells": [
  {
   "attachments": {},
   "cell_type": "markdown",
   "metadata": {},
   "source": [
    "# **Sentment Analysis and 3 Deep Neural Networks**\n",
    "\n",
    "> A **deep neural network (DNN)** is an **artificial neural network (ANN**) with **multiple layers** between the **input and output layers**.\n",
    "\n",
    "***\n",
    "\n",
    "#### **Purpose of this Project**\n",
    "\n",
    "* In this project, we will Build **Deep Neural Networks** for Sentiment Analysis.\n",
    "\n",
    "* We will **Build, Train** and **Save 3** different types of **Neural Networks**:  \n",
    "\n",
    "1. **Multi-Layer Perceptron**\n",
    "2. **Convolutional Neural Networks** \n",
    "3. **Recurrent Neural Networks (LSTM)** \n",
    "\n",
    "* We will then **Compare** these models.\n",
    "\n",
    "***\n",
    "\n",
    "#### **STEPS**\n",
    "\n",
    "* [A. Preprocessing Dataset](#1)\n",
    "\n",
    "* [B. Embedding Layer](#2)\n",
    "\n",
    "'''\n",
    "\n",
    "* [C. Deep Neural Networks](#3)\n",
    "    * [1. Multi-Layer Perceptron](#4)\n",
    "    * [2. Convolutional Neural Networks](#5)\n",
    "    * [3. Recurrent Neural Networks (LSTM)](#6)\n",
    "\n",
    "'''\n",
    "\n",
    "* [D. Comparing Neural Networks](#7)\n",
    "\n",
    "***\n",
    "***"
   ]
  },
  {
   "attachments": {},
   "cell_type": "markdown",
   "metadata": {},
   "source": [
    "## **A. Preprocessing Dataset** <a id='1'></a>\n",
    "\n",
    "* We will use this [1 million Tweets](https://www.kaggle.com/datasets/tariqsays/sentiment-dataset-with-1-million-tweets) dataset.\n",
    "* Download and Extract the Dataset.\n",
    "\n",
    "***\n",
    "\n",
    "### **Read-in Dataset**"
   ]
  },
  {
   "cell_type": "code",
   "execution_count": 63,
   "metadata": {},
   "outputs": [
    {
     "data": {
      "text/html": [
       "<div>\n",
       "<style scoped>\n",
       "    .dataframe tbody tr th:only-of-type {\n",
       "        vertical-align: middle;\n",
       "    }\n",
       "\n",
       "    .dataframe tbody tr th {\n",
       "        vertical-align: top;\n",
       "    }\n",
       "\n",
       "    .dataframe thead th {\n",
       "        text-align: right;\n",
       "    }\n",
       "</style>\n",
       "<table border=\"1\" class=\"dataframe\">\n",
       "  <thead>\n",
       "    <tr style=\"text-align: right;\">\n",
       "      <th></th>\n",
       "      <th>Text</th>\n",
       "      <th>Language</th>\n",
       "      <th>Label</th>\n",
       "    </tr>\n",
       "  </thead>\n",
       "  <tbody>\n",
       "    <tr>\n",
       "      <th>0</th>\n",
       "      <td>@Charlie_Corley @Kristine1G @amyklobuchar @Sty...</td>\n",
       "      <td>en</td>\n",
       "      <td>litigious</td>\n",
       "    </tr>\n",
       "    <tr>\n",
       "      <th>1</th>\n",
       "      <td>#BadBunny: Como dos gotas de agua: Joven se di...</td>\n",
       "      <td>es</td>\n",
       "      <td>negative</td>\n",
       "    </tr>\n",
       "    <tr>\n",
       "      <th>2</th>\n",
       "      <td>https://t.co/YJNiO0p1JV Flagstar Bank disclose...</td>\n",
       "      <td>en</td>\n",
       "      <td>litigious</td>\n",
       "    </tr>\n",
       "    <tr>\n",
       "      <th>3</th>\n",
       "      <td>Rwanda is set to host the headquarters of Unit...</td>\n",
       "      <td>en</td>\n",
       "      <td>positive</td>\n",
       "    </tr>\n",
       "    <tr>\n",
       "      <th>4</th>\n",
       "      <td>OOPS. I typed her name incorrectly (today’s br...</td>\n",
       "      <td>en</td>\n",
       "      <td>litigious</td>\n",
       "    </tr>\n",
       "  </tbody>\n",
       "</table>\n",
       "</div>"
      ],
      "text/plain": [
       "                                                Text Language      Label\n",
       "0  @Charlie_Corley @Kristine1G @amyklobuchar @Sty...       en  litigious\n",
       "1  #BadBunny: Como dos gotas de agua: Joven se di...       es   negative\n",
       "2  https://t.co/YJNiO0p1JV Flagstar Bank disclose...       en  litigious\n",
       "3  Rwanda is set to host the headquarters of Unit...       en   positive\n",
       "4  OOPS. I typed her name incorrectly (today’s br...       en  litigious"
      ]
     },
     "execution_count": 63,
     "metadata": {},
     "output_type": "execute_result"
    }
   ],
   "source": [
    "import pandas as pd\n",
    "\n",
    "dir = r\"D:\\Data_Bag\\Machine_Learning_Pipelines\\NLP\\1_million_Tweets_Sentiment_Analysis\\dataset.csv\"\n",
    "df = pd.read_csv(dir)\n",
    "\n",
    "df.head()"
   ]
  },
  {
   "attachments": {},
   "cell_type": "markdown",
   "metadata": {},
   "source": [
    "#### **Cleaning Dataset**\n",
    "\n",
    "* This dataset has tweets in 3 languages - english **en**, spanish **es** and french **fr**. \n",
    "* We will only keep English tweets and remove the rest."
   ]
  },
  {
   "cell_type": "code",
   "execution_count": null,
   "metadata": {},
   "outputs": [
    {
     "name": "stdout",
     "output_type": "stream",
     "text": [
      "['en']\n"
     ]
    },
    {
     "data": {
      "text/html": [
       "<div>\n",
       "<style scoped>\n",
       "    .dataframe tbody tr th:only-of-type {\n",
       "        vertical-align: middle;\n",
       "    }\n",
       "\n",
       "    .dataframe tbody tr th {\n",
       "        vertical-align: top;\n",
       "    }\n",
       "\n",
       "    .dataframe thead th {\n",
       "        text-align: right;\n",
       "    }\n",
       "</style>\n",
       "<table border=\"1\" class=\"dataframe\">\n",
       "  <thead>\n",
       "    <tr style=\"text-align: right;\">\n",
       "      <th></th>\n",
       "      <th>Text</th>\n",
       "      <th>Language</th>\n",
       "      <th>Label</th>\n",
       "    </tr>\n",
       "  </thead>\n",
       "  <tbody>\n",
       "    <tr>\n",
       "      <th>0</th>\n",
       "      <td>@Charlie_Corley @Kristine1G @amyklobuchar @Sty...</td>\n",
       "      <td>en</td>\n",
       "      <td>litigious</td>\n",
       "    </tr>\n",
       "    <tr>\n",
       "      <th>2</th>\n",
       "      <td>https://t.co/YJNiO0p1JV Flagstar Bank disclose...</td>\n",
       "      <td>en</td>\n",
       "      <td>litigious</td>\n",
       "    </tr>\n",
       "    <tr>\n",
       "      <th>3</th>\n",
       "      <td>Rwanda is set to host the headquarters of Unit...</td>\n",
       "      <td>en</td>\n",
       "      <td>positive</td>\n",
       "    </tr>\n",
       "    <tr>\n",
       "      <th>4</th>\n",
       "      <td>OOPS. I typed her name incorrectly (today’s br...</td>\n",
       "      <td>en</td>\n",
       "      <td>litigious</td>\n",
       "    </tr>\n",
       "    <tr>\n",
       "      <th>5</th>\n",
       "      <td>It sucks for me since I'm focused on the natur...</td>\n",
       "      <td>en</td>\n",
       "      <td>negative</td>\n",
       "    </tr>\n",
       "  </tbody>\n",
       "</table>\n",
       "</div>"
      ],
      "text/plain": [
       "                                                Text Language      Label\n",
       "0  @Charlie_Corley @Kristine1G @amyklobuchar @Sty...       en  litigious\n",
       "2  https://t.co/YJNiO0p1JV Flagstar Bank disclose...       en  litigious\n",
       "3  Rwanda is set to host the headquarters of Unit...       en   positive\n",
       "4  OOPS. I typed her name incorrectly (today’s br...       en  litigious\n",
       "5  It sucks for me since I'm focused on the natur...       en   negative"
      ]
     },
     "execution_count": 2,
     "metadata": {},
     "output_type": "execute_result"
    }
   ],
   "source": [
    "df = df.loc[(df['Language'] == 'en')]\n",
    "\n",
    "print(df.Language.unique())\n",
    "df.head()"
   ]
  },
  {
   "attachments": {},
   "cell_type": "markdown",
   "metadata": {},
   "source": [
    "*** \n",
    "\n",
    "### **Sampling Dataset**\n",
    "\n",
    "* 1 million tweets is a lot to train on.\n",
    "* We will sample 70,000 tweets for each **Positive, Negative** and **Uncertainity (Neutral)** tweets."
   ]
  },
  {
   "cell_type": "code",
   "execution_count": null,
   "metadata": {},
   "outputs": [
    {
     "name": "stdout",
     "output_type": "stream",
     "text": [
      "(210000, 3)\n"
     ]
    },
    {
     "data": {
      "text/html": [
       "<div>\n",
       "<style scoped>\n",
       "    .dataframe tbody tr th:only-of-type {\n",
       "        vertical-align: middle;\n",
       "    }\n",
       "\n",
       "    .dataframe tbody tr th {\n",
       "        vertical-align: top;\n",
       "    }\n",
       "\n",
       "    .dataframe thead th {\n",
       "        text-align: right;\n",
       "    }\n",
       "</style>\n",
       "<table border=\"1\" class=\"dataframe\">\n",
       "  <thead>\n",
       "    <tr style=\"text-align: right;\">\n",
       "      <th></th>\n",
       "      <th>Text</th>\n",
       "      <th>Language</th>\n",
       "      <th>Label</th>\n",
       "    </tr>\n",
       "  </thead>\n",
       "  <tbody>\n",
       "    <tr>\n",
       "      <th>3</th>\n",
       "      <td>Rwanda is set to host the headquarters of Unit...</td>\n",
       "      <td>en</td>\n",
       "      <td>positive</td>\n",
       "    </tr>\n",
       "    <tr>\n",
       "      <th>12</th>\n",
       "      <td>Wimbledon: Nick Kyrgios admits spitting toward...</td>\n",
       "      <td>en</td>\n",
       "      <td>positive</td>\n",
       "    </tr>\n",
       "    <tr>\n",
       "      <th>13</th>\n",
       "      <td>is booktwt a thing? if so thats her and she sp...</td>\n",
       "      <td>en</td>\n",
       "      <td>positive</td>\n",
       "    </tr>\n",
       "    <tr>\n",
       "      <th>18</th>\n",
       "      <td>At the end we consume fictional stories to enj...</td>\n",
       "      <td>en</td>\n",
       "      <td>positive</td>\n",
       "    </tr>\n",
       "    <tr>\n",
       "      <th>19</th>\n",
       "      <td>#Duranto Express A1 coach AC not working prope...</td>\n",
       "      <td>en</td>\n",
       "      <td>positive</td>\n",
       "    </tr>\n",
       "  </tbody>\n",
       "</table>\n",
       "</div>"
      ],
      "text/plain": [
       "                                                 Text Language     Label\n",
       "3   Rwanda is set to host the headquarters of Unit...       en  positive\n",
       "12  Wimbledon: Nick Kyrgios admits spitting toward...       en  positive\n",
       "13  is booktwt a thing? if so thats her and she sp...       en  positive\n",
       "18  At the end we consume fictional stories to enj...       en  positive\n",
       "19  #Duranto Express A1 coach AC not working prope...       en  positive"
      ]
     },
     "execution_count": 3,
     "metadata": {},
     "output_type": "execute_result"
    }
   ],
   "source": [
    "positive = df[df['Label'] == 'positive'][:70000]\n",
    "negative = df[df['Label'] == 'negative'][:70000]\n",
    "uncertainty = df[df['Label'] == 'uncertainty'][:70000]\n",
    "\n",
    "sample = pd.concat([positive, negative, uncertainty])\n",
    "print(sample.shape)\n",
    "sample.head()"
   ]
  },
  {
   "cell_type": "code",
   "execution_count": null,
   "metadata": {},
   "outputs": [
    {
     "name": "stdout",
     "output_type": "stream",
     "text": [
      "0    70000\n",
      "1    70000\n",
      "2    70000\n",
      "Name: Label, dtype: int64\n"
     ]
    }
   ],
   "source": [
    "##Dropping irrelevant Column - Language\n",
    "#sample = sample.drop(['Language'], axis=1)\n",
    "\n",
    "print(sample['Label'].value_counts())\n",
    "sample = sample.to_csv('sample.csv', index=False)"
   ]
  },
  {
   "attachments": {},
   "cell_type": "markdown",
   "metadata": {},
   "source": [
    "#### **Creating Labels**\n",
    "\n",
    "* We have three classes here, we will give them index numbers starting from 0.\n",
    "* Positive == 0, Negative == 1, Uncertainity == 2."
   ]
  },
  {
   "cell_type": "code",
   "execution_count": null,
   "metadata": {},
   "outputs": [],
   "source": [
    "##Normalizing Labels\n",
    "sample.loc[sample[\"Label\"] == \"positive\", \"Label\"] = 0\n",
    "sample.loc[sample[\"Label\"] == \"negative\", \"Label\"] = 1\n",
    "sample.loc[sample[\"Label\"] == \"uncertainty\", \"Label\"] = 2"
   ]
  },
  {
   "attachments": {},
   "cell_type": "markdown",
   "metadata": {},
   "source": [
    "***\n",
    "\n",
    "### **Text Preprocessing**\n",
    "\n",
    "* We will preprocess our text to make it more interpretable. We will - \n",
    "    * Remove **irrelevant items** such as **Twitter Handles, and URLs**\n",
    "    * Convert **Emoji, Emoticons and Chat Words** into simple words\n",
    "    * **Tokenize**\n",
    "    * **Lemmatize**\n",
    "* I will use the **tweets_sentiment_analysis** function from this [pipeline](https://www.kaggle.com/code/sanskar551/sentiment-analysis-tweets-preprocessing-pipeline) I created.\n",
    "* This pipeline also removes **irrelevant stopwords**, but I will **comment out this functionality**.\n",
    "\n",
    "#### **Importing Pipeline from another folder**"
   ]
  },
  {
   "cell_type": "code",
   "execution_count": null,
   "metadata": {},
   "outputs": [],
   "source": [
    "import sys\n",
    "sys.path.append(r\"C:\\Users\\Sanskar\\AI\\Machine_Learning_Pipelines\\Natural_Language_Processing\\Pipelines\")\n",
    "\n",
    "import text_preprocessing"
   ]
  },
  {
   "attachments": {},
   "cell_type": "markdown",
   "metadata": {},
   "source": [
    "#### **Read in Sample Data**"
   ]
  },
  {
   "cell_type": "code",
   "execution_count": null,
   "metadata": {},
   "outputs": [
    {
     "data": {
      "text/html": [
       "<div>\n",
       "<style scoped>\n",
       "    .dataframe tbody tr th:only-of-type {\n",
       "        vertical-align: middle;\n",
       "    }\n",
       "\n",
       "    .dataframe tbody tr th {\n",
       "        vertical-align: top;\n",
       "    }\n",
       "\n",
       "    .dataframe thead th {\n",
       "        text-align: right;\n",
       "    }\n",
       "</style>\n",
       "<table border=\"1\" class=\"dataframe\">\n",
       "  <thead>\n",
       "    <tr style=\"text-align: right;\">\n",
       "      <th></th>\n",
       "      <th>Text</th>\n",
       "      <th>Label</th>\n",
       "      <th>Text_Preprocessed</th>\n",
       "    </tr>\n",
       "  </thead>\n",
       "  <tbody>\n",
       "    <tr>\n",
       "      <th>0</th>\n",
       "      <td>Rwanda is set to host the headquarters of Unit...</td>\n",
       "      <td>0</td>\n",
       "      <td>rwanda be set to host the headquarters of unit...</td>\n",
       "    </tr>\n",
       "    <tr>\n",
       "      <th>1</th>\n",
       "      <td>Wimbledon: Nick Kyrgios admits spitting toward...</td>\n",
       "      <td>0</td>\n",
       "      <td>wimbledon nick kyrgios admits spit towards ' d...</td>\n",
       "    </tr>\n",
       "    <tr>\n",
       "      <th>2</th>\n",
       "      <td>is booktwt a thing? if so thats her and she sp...</td>\n",
       "      <td>0</td>\n",
       "      <td>be booktwt a thing if so that s she and she sp...</td>\n",
       "    </tr>\n",
       "    <tr>\n",
       "      <th>3</th>\n",
       "      <td>At the end we consume fictional stories to enj...</td>\n",
       "      <td>0</td>\n",
       "      <td>at the end we consume fictional story to enjoy...</td>\n",
       "    </tr>\n",
       "    <tr>\n",
       "      <th>4</th>\n",
       "      <td>#Duranto Express A1 coach AC not working prope...</td>\n",
       "      <td>0</td>\n",
       "      <td>duranto express a1 coach ac not work properly ...</td>\n",
       "    </tr>\n",
       "  </tbody>\n",
       "</table>\n",
       "</div>"
      ],
      "text/plain": [
       "                                                Text  Label  \\\n",
       "0  Rwanda is set to host the headquarters of Unit...      0   \n",
       "1  Wimbledon: Nick Kyrgios admits spitting toward...      0   \n",
       "2  is booktwt a thing? if so thats her and she sp...      0   \n",
       "3  At the end we consume fictional stories to enj...      0   \n",
       "4  #Duranto Express A1 coach AC not working prope...      0   \n",
       "\n",
       "                                   Text_Preprocessed  \n",
       "0  rwanda be set to host the headquarters of unit...  \n",
       "1  wimbledon nick kyrgios admits spit towards ' d...  \n",
       "2  be booktwt a thing if so that s she and she sp...  \n",
       "3  at the end we consume fictional story to enjoy...  \n",
       "4  duranto express a1 coach ac not work properly ...  "
      ]
     },
     "execution_count": 34,
     "metadata": {},
     "output_type": "execute_result"
    }
   ],
   "source": [
    "import pandas as pd\n",
    "\n",
    "sample = pd.read_csv('sample.csv')\n",
    "sample.head()"
   ]
  },
  {
   "attachments": {},
   "cell_type": "markdown",
   "metadata": {},
   "source": [
    "#### **Applying Pipeline to Dataset**"
   ]
  },
  {
   "cell_type": "code",
   "execution_count": null,
   "metadata": {},
   "outputs": [],
   "source": [
    "sample['Text_Preprocessed'] = sample['Text'].apply(lambda text: text_preprocessing.tweets_sentiment_analysis(text))\n",
    "\n",
    "sample = sample.to_csv('sample.csv', index=False)"
   ]
  },
  {
   "attachments": {},
   "cell_type": "markdown",
   "metadata": {},
   "source": [
    "***\n",
    "***\n",
    "\n",
    "## **B. Embedding Layer** <a id='2'></a>\n",
    "\n",
    "* The **Embedding layer** converts our **textual data into numeric data** and is used as the first layer for the **deep learning models** in Keras.\n",
    "* Let's first do a **Train-Validation split** in our dataset.\n",
    "\n",
    "### **Importing Libraries**"
   ]
  },
  {
   "cell_type": "code",
   "execution_count": 30,
   "metadata": {},
   "outputs": [],
   "source": [
    "import pandas as pd\n",
    "import numpy as np\n",
    "from numpy import array, asarray, zeros\n",
    "import re\n",
    "import nltk\n",
    "from nltk.corpus import stopwords\n",
    "\n",
    "import pydot\n",
    "import seaborn as sns\n",
    "import matplotlib.pyplot as plt\n",
    "\n",
    "from tensorflow import keras\n",
    "from keras.preprocessing.text import one_hot\n",
    "from keras.preprocessing.sequence import pad_sequences\n",
    "from keras.models import Sequential, load_model\n",
    "from keras import backend as K\n",
    "from keras.layers.core import Activation, Dropout, Dense\n",
    "from keras.layers import Flatten, GlobalMaxPooling1D, Conv1D, RNN, LSTM\n",
    "from keras.layers.embeddings import Embedding\n",
    "from sklearn.model_selection import train_test_split\n",
    "from keras.preprocessing.text import Tokenizer"
   ]
  },
  {
   "attachments": {},
   "cell_type": "markdown",
   "metadata": {},
   "source": [
    "### **Read in Data**"
   ]
  },
  {
   "cell_type": "code",
   "execution_count": 31,
   "metadata": {},
   "outputs": [],
   "source": [
    "sample = pd.read_csv('sample.csv')"
   ]
  },
  {
   "attachments": {},
   "cell_type": "markdown",
   "metadata": {},
   "source": [
    "### **Train-Test split**"
   ]
  },
  {
   "cell_type": "code",
   "execution_count": 32,
   "metadata": {},
   "outputs": [],
   "source": [
    "X = sample['Text_Preprocessed']\n",
    "y = sample['Label']\n",
    "\n",
    "X_train, X_test, y_train, y_test = train_test_split(X, y, test_size=0.20, random_state=42)"
   ]
  },
  {
   "cell_type": "code",
   "execution_count": 33,
   "metadata": {},
   "outputs": [
    {
     "data": {
      "text/plain": [
       "0    56167\n",
       "1    55966\n",
       "2    55867\n",
       "Name: Label, dtype: int64"
      ]
     },
     "execution_count": 33,
     "metadata": {},
     "output_type": "execute_result"
    }
   ],
   "source": [
    "y_train.value_counts()"
   ]
  },
  {
   "attachments": {},
   "cell_type": "markdown",
   "metadata": {},
   "source": [
    "***\n",
    "\n",
    "### **Preparing the Embedding Layer**\n",
    "\n",
    "* We will use the **Tokenizer** class from the **keras.preprocessing.text** module to create a **word-to-index dictionary**.\n",
    "* In the **word-to-index dictionary**, each **word** in the corpus is used as a **key**, while a corresponding **unique index** is used as the **value** for the key.\n",
    "\n",
    "#### **Keras Tokenizer**"
   ]
  },
  {
   "cell_type": "code",
   "execution_count": 34,
   "metadata": {},
   "outputs": [],
   "source": [
    "tokenizer = Tokenizer(num_words=5000)\n",
    "tokenizer.fit_on_texts(X_train)\n",
    "\n",
    "X_train = tokenizer.texts_to_sequences(X_train)\n",
    "X_test = tokenizer.texts_to_sequences(X_test)"
   ]
  },
  {
   "cell_type": "code",
   "execution_count": 35,
   "metadata": {},
   "outputs": [
    {
     "data": {
      "text/plain": [
       "[11,\n",
       " 18,\n",
       " 263,\n",
       " 28,\n",
       " 1430,\n",
       " 42,\n",
       " 8,\n",
       " 96,\n",
       " 26,\n",
       " 30,\n",
       " 231,\n",
       " 1,\n",
       " 79,\n",
       " 42,\n",
       " 9,\n",
       " 230,\n",
       " 9,\n",
       " 1,\n",
       " 46,\n",
       " 4,\n",
       " 93,\n",
       " 359,\n",
       " 4,\n",
       " 39,\n",
       " 314,\n",
       " 18,\n",
       " 263,\n",
       " 6,\n",
       " 973,\n",
       " 8]"
      ]
     },
     "execution_count": 35,
     "metadata": {},
     "output_type": "execute_result"
    }
   ],
   "source": [
    "X_train[1]"
   ]
  },
  {
   "attachments": {},
   "cell_type": "markdown",
   "metadata": {},
   "source": [
    "#### **Pad Sequence**\n",
    "\n",
    "* Tweets are usually of varied length.\n",
    "* Since texts have now been converted into a list of unique word index, we set the maximum size of each list to 100.\n",
    "* The lists with size greater than 100 will be truncated to 100. For the lists that have length less than 100, we will add 0 at the end of the list until it reaches the max length."
   ]
  },
  {
   "cell_type": "code",
   "execution_count": 36,
   "metadata": {},
   "outputs": [],
   "source": [
    "# Adding 1 because of reserved 0 index\n",
    "vocab_size = len(tokenizer.word_index) + 1\n",
    "\n",
    "maxlen = 100\n",
    "\n",
    "X_train = pad_sequences(X_train, padding='post', maxlen=maxlen)\n",
    "X_test = pad_sequences(X_test, padding='post', maxlen=maxlen)"
   ]
  },
  {
   "attachments": {},
   "cell_type": "markdown",
   "metadata": {},
   "source": [
    "#### **Feature Matrix**\n",
    "\n",
    "* We will use **GloVe embeddings** to create our **feature matrix**.\n",
    "* Here, we load the **GloVe word embeddings** and create a **dictionary** that will contain **words as keys** and their corresponding **embedding list as values**."
   ]
  },
  {
   "cell_type": "code",
   "execution_count": 37,
   "metadata": {},
   "outputs": [],
   "source": [
    "embeddings_dictionary = dict()\n",
    "glove_file = open(r'D:\\Data_Bag\\Machine_Learning_Pipelines\\NLP\\glove_6B_100d\\glove.6B.100d.txt', encoding=\"utf8\")\n",
    "\n",
    "for line in glove_file:\n",
    "    records = line.split()\n",
    "    word = records[0]\n",
    "    vector_dimensions = asarray(records[1:], dtype='float32')\n",
    "    embeddings_dictionary [word] = vector_dimensions\n",
    "\n",
    "glove_file.close()"
   ]
  },
  {
   "attachments": {},
   "cell_type": "markdown",
   "metadata": {},
   "source": [
    "#### **Embedding Matrix**\n",
    "\n",
    "* Finally, we will create an **embedding matrix** where each **row number** will correspond to the **index of the word** in the corpus. \n",
    "\n",
    "* The matrix will have **100 columns** where each **column will contain the GloVe word embeddings** for the **words** in our corpus."
   ]
  },
  {
   "cell_type": "code",
   "execution_count": 38,
   "metadata": {},
   "outputs": [],
   "source": [
    "embedding_matrix = zeros((vocab_size, 100))\n",
    "\n",
    "for word, index in tokenizer.word_index.items():\n",
    "    embedding_vector = embeddings_dictionary.get(word)\n",
    "    if embedding_vector is not None:\n",
    "        embedding_matrix[index] = embedding_vector"
   ]
  },
  {
   "cell_type": "code",
   "execution_count": 39,
   "metadata": {},
   "outputs": [
    {
     "data": {
      "text/plain": [
       "109629"
      ]
     },
     "execution_count": 39,
     "metadata": {},
     "output_type": "execute_result"
    }
   ],
   "source": [
    "len(embedding_matrix)"
   ]
  },
  {
   "attachments": {},
   "cell_type": "markdown",
   "metadata": {},
   "source": [
    "***\n",
    "***\n",
    "\n",
    "## **C. Deep Neural Networks** <a id='3'></a>\n",
    "\n",
    "* Here We will - \n",
    "    * **Build**, \n",
    "    * **Train and Save Best Model**, and\n",
    "    * **Evaluate** ..... each of the Four **Deep Neural Networks**.\n",
    "\n",
    "***\n",
    "***"
   ]
  },
  {
   "attachments": {},
   "cell_type": "markdown",
   "metadata": {},
   "source": [
    "## **1. Multi-Layer Perceptron** <a id='4'></a>\n",
    "\n",
    "* A **Multilayer Perceptron (MLP)** is a **Feed Forward Artificial Neural Network** that generates a set of outputs from a set of inputs.\n",
    "* An **MLP** is characterized by several **layers of input nodes** connected as a directed graph between the **input nodes** connected as a directed graph between the **input and output layers**.\n",
    "> **MLP** uses **backpropagation** for training the network.\n",
    "\n",
    "***\n",
    "\n",
    "### **Model**"
   ]
  },
  {
   "cell_type": "code",
   "execution_count": 40,
   "metadata": {},
   "outputs": [
    {
     "name": "stdout",
     "output_type": "stream",
     "text": [
      "Model: \"sequential\"\n",
      "_________________________________________________________________\n",
      "Layer (type)                 Output Shape              Param #   \n",
      "=================================================================\n",
      "embedding (Embedding)        (None, 100, 100)          10962900  \n",
      "_________________________________________________________________\n",
      "flatten (Flatten)            (None, 10000)             0         \n",
      "_________________________________________________________________\n",
      "dense (Dense)                (None, 100)               1000100   \n",
      "_________________________________________________________________\n",
      "dense_1 (Dense)              (None, 200)               20200     \n",
      "_________________________________________________________________\n",
      "dense_2 (Dense)              (None, 200)               40200     \n",
      "_________________________________________________________________\n",
      "dense_3 (Dense)              (None, 3)                 603       \n",
      "=================================================================\n",
      "Total params: 12,024,003\n",
      "Trainable params: 1,061,103\n",
      "Non-trainable params: 10,962,900\n",
      "_________________________________________________________________\n",
      "None\n"
     ]
    }
   ],
   "source": [
    "model = Sequential()\n",
    "embedding_layer = Embedding(vocab_size, 100, weights=[embedding_matrix], input_length=maxlen , trainable=False)\n",
    "\n",
    "model.add(embedding_layer)\n",
    "model.add(Flatten())\n",
    "model.add(Dense(100, activation='relu'))\n",
    "model.add(Dense(200, activation='relu'))\n",
    "model.add(Dense(200, activation='relu'))\n",
    "model.add(Dense(3, activation='softmax'))\n",
    "\n",
    "sgd = keras.optimizers.SGD(learning_rate=0.01)\n",
    "model.compile(optimizer=sgd, loss='sparse_categorical_crossentropy', metrics=['acc'])\n",
    "\n",
    "print(model.summary())"
   ]
  },
  {
   "attachments": {},
   "cell_type": "markdown",
   "metadata": {},
   "source": [
    "#### **Model Explained**\n",
    "\n",
    "##### **Sequential API:**\n",
    "* A framework that is used for creating the **Model** of instances in the **Sequential class**. \n",
    "* Since we have only one input **(Text)** and one output **(Labels)**, we will use [keras sequential API](https://keras.io/guides/sequential_model/) to build ur model.\n",
    "\n",
    "##### **Embedding Layer:**\n",
    "* This layer turns **positive integers (indexes)** into **dense vectors of fixed size**.\n",
    "* The **vocab_size** means size of the vocabulary, i.e. **max integer index +1**.\n",
    "* The **100** represents dimension of **dense embeddings**.\n",
    "* We will use the **embedding matrix** we created as **embeddings initializer**.\n",
    "* The **input_length** injects Embeddings into connected layers which is set to **maxlen** i.e. **max length of  the token list** which is 100.\n",
    "* **trainable** is set to **False** as we only wish to **create embeddings** on this layer **not train** it.\n",
    "\n",
    "##### **Model Architecture:**\n",
    "**Embedding Layer:** \n",
    "* Firstly, we add our **Embedding Layer** to create our **embedding**.\n",
    "\n",
    "**Flatten Layer:** \n",
    "* Secondly, we add **Flatten** layer.  \n",
    "* A **Flatten layer** in Keras **reshapes the tensor** to have a shape that is **equal to the number of elements** contained in the **tensor**. \n",
    "* This is the same thing as **making a 1d-array of elements**. \n",
    "* Without this, the shape of the dense outputs cannot be computed.\n",
    "\n",
    "**Hidden Dense Layer:** \n",
    "* Dense layer is the layer that contains all the neurons that are deeply connected within themselves.\n",
    "* These dense layers learn from the data.\n",
    "* **100, 200** show the number of **neurons** in each **layer**\n",
    "* The **activation function decides** whether a **neuron** should be **activated or not** by calculating the **weighted sum** and further **adding bias** to it.\n",
    "* The **relu activation** stands for **Rectified linear unit**. It is **non-linear**, which means we can easily **backpropagate the errors** and have **multiple layers of neurons** being activated by the ReLU function.\n",
    "* **Relu** value range is **[0, inf)**.\n",
    "\n",
    "**Output Layer:**\n",
    "* This layer is also a **Dense layer** with **3** neurons.\n",
    "* This layer has an activation function of **softmax**, as softmax is used to handle **mulitple-classes**.\n",
    "\n",
    "#### **Learning Rate**\n",
    "\n",
    "* We set our **learning rate** using **keras optimizer SGD** as **0.01**.\n",
    "\n",
    "##### **Compiling Model:**\n",
    "\n",
    "**Optimizers**\n",
    "* Optimizers are algorithms or methods used to change the attributes of the neural network such as weights and learning rate to reduce the losses.\n",
    "* **sgd** means **Schocastic Gradient Descent**, which basically means we enable our model for **back-propogation**.\n",
    "\n",
    "**Loss**\n",
    "* These functions tell us how much the predicted output of the model differs from the actual output.\n",
    "* We use **sparse_categorical_crossentropy** as we have our **y** is available as **Multi-class Labels**.\n",
    "\n",
    "**Metrics**\n",
    "* Keras allows you to list the metrics to monitor during the training of your model.\n",
    "* We use **Accuracy (acc)** in our model as metrics."
   ]
  },
  {
   "attachments": {},
   "cell_type": "markdown",
   "metadata": {},
   "source": [
    "***\n",
    "\n",
    "#### **Train and Save Best Model**\n",
    "\n",
    "We will pass some **callbacks** into training of our model.\n",
    "\n",
    "* **ReduceLROnPlateau:** This callback **reduces learning rate** if the **monitored** (validation loss given in this case) hits **stops changing**.\n",
    "\n",
    "* **Early Stopping:** This callback **stops the training** when the given value (validation loss here) stops improving.\n",
    "\n",
    "* **ModelCheckpoint:** This callback **saves the weights and biases** of the **best model** to the given **file path**. It monitors validation accuracy to do so.\n",
    "\n",
    "We will then train our model for **70 epochs**, a **batch size of 32** and a **validation split of 20 percent**."
   ]
  },
  {
   "cell_type": "code",
   "execution_count": 41,
   "metadata": {},
   "outputs": [
    {
     "name": "stdout",
     "output_type": "stream",
     "text": [
      "Epoch 1/70\n"
     ]
    },
    {
     "name": "stderr",
     "output_type": "stream",
     "text": [
      "c:\\Users\\Sanskar\\anaconda3\\envs\\tensorflow\\lib\\site-packages\\keras\\engine\\data_adapter.py:1505: FutureWarning: The behavior of `series[i:j]` with an integer-dtype index is deprecated. In a future version, this will be treated as *label-based* indexing, consistent with e.g. `series[i]` lookups. To retain the old behavior, use `series.iloc[i:j]`. To get the future behavior, use `series.loc[i:j]`.\n",
      "  return t[start:end]\n"
     ]
    },
    {
     "name": "stdout",
     "output_type": "stream",
     "text": [
      "4200/4200 [==============================] - 7s 2ms/step - loss: 0.8138 - acc: 0.6209 - val_loss: 0.6771 - val_acc: 0.7062\n",
      "Epoch 2/70\n",
      "4200/4200 [==============================] - 7s 2ms/step - loss: 0.6603 - acc: 0.7121 - val_loss: 0.6671 - val_acc: 0.7050\n",
      "Epoch 3/70\n",
      "4200/4200 [==============================] - 6s 1ms/step - loss: 0.6181 - acc: 0.7334 - val_loss: 0.6495 - val_acc: 0.7171\n",
      "Epoch 4/70\n",
      "4200/4200 [==============================] - 6s 2ms/step - loss: 0.5872 - acc: 0.7493 - val_loss: 0.6434 - val_acc: 0.7225\n",
      "Epoch 5/70\n",
      "4200/4200 [==============================] - 6s 1ms/step - loss: 0.5556 - acc: 0.7655 - val_loss: 0.6266 - val_acc: 0.7293\n",
      "Epoch 6/70\n",
      "4200/4200 [==============================] - 6s 1ms/step - loss: 0.5231 - acc: 0.7812 - val_loss: 0.6296 - val_acc: 0.7329\n",
      "Epoch 7/70\n",
      "4200/4200 [==============================] - 6s 1ms/step - loss: 0.4869 - acc: 0.7988 - val_loss: 0.5986 - val_acc: 0.7472\n",
      "Epoch 8/70\n",
      "4200/4200 [==============================] - 6s 1ms/step - loss: 0.4515 - acc: 0.8151 - val_loss: 0.6299 - val_acc: 0.7376\n",
      "Epoch 9/70\n",
      "4200/4200 [==============================] - 6s 1ms/step - loss: 0.4144 - acc: 0.8319 - val_loss: 0.6142 - val_acc: 0.7484\n",
      "Epoch 10/70\n",
      "4200/4200 [==============================] - 6s 1ms/step - loss: 0.3765 - acc: 0.8487 - val_loss: 0.6529 - val_acc: 0.7485\n",
      "Epoch 11/70\n",
      "4200/4200 [==============================] - 6s 1ms/step - loss: 0.3383 - acc: 0.8652 - val_loss: 0.7355 - val_acc: 0.7375\n",
      "Epoch 12/70\n",
      "4200/4200 [==============================] - 6s 1ms/step - loss: 0.3062 - acc: 0.8792 - val_loss: 0.7142 - val_acc: 0.7469\n",
      "Epoch 13/70\n",
      "4200/4200 [==============================] - 6s 1ms/step - loss: 0.1673 - acc: 0.9434 - val_loss: 0.7660 - val_acc: 0.7564\n",
      "Epoch 14/70\n",
      "4200/4200 [==============================] - 6s 1ms/step - loss: 0.1371 - acc: 0.9554 - val_loss: 0.8049 - val_acc: 0.7562\n",
      "Epoch 15/70\n",
      "4200/4200 [==============================] - 6s 2ms/step - loss: 0.1161 - acc: 0.9640 - val_loss: 0.8676 - val_acc: 0.7541\n",
      "Epoch 16/70\n",
      "4200/4200 [==============================] - 6s 1ms/step - loss: 0.0987 - acc: 0.9705 - val_loss: 0.9090 - val_acc: 0.7537\n",
      "Epoch 17/70\n",
      "4200/4200 [==============================] - 6s 1ms/step - loss: 0.0829 - acc: 0.9767 - val_loss: 0.9845 - val_acc: 0.7527\n",
      "Epoch 18/70\n",
      "4200/4200 [==============================] - 6s 2ms/step - loss: 0.0593 - acc: 0.9870 - val_loss: 1.0036 - val_acc: 0.7547\n",
      "Epoch 00018: early stopping\n"
     ]
    }
   ],
   "source": [
    "filepath = r'C:\\Users\\Sanskar\\AI\\Machine_Learning_Pipelines\\Natural_Language_Processing\\Models\\best_mpl_model.hdf5'\n",
    "\n",
    "my_callbacks = [\n",
    "    keras.callbacks.ReduceLROnPlateau(monitor='val_loss', factor=0.2, patience=5),\n",
    "    keras.callbacks.EarlyStopping(monitor='val_loss', mode='min', verbose=1, patience=11),\n",
    "    keras.callbacks.ModelCheckpoint(filepath=filepath, monitor='val_acc', mode='max', save_best_only=True)\n",
    "]\n",
    "\n",
    "history = model.fit(X_train, y_train, batch_size=32, epochs=70, verbose=1, validation_split=0.2, callbacks=my_callbacks)"
   ]
  },
  {
   "attachments": {},
   "cell_type": "markdown",
   "metadata": {},
   "source": [
    "***\n",
    "\n",
    "#### **Evaluating Model**"
   ]
  },
  {
   "cell_type": "code",
   "execution_count": 42,
   "metadata": {},
   "outputs": [
    {
     "name": "stdout",
     "output_type": "stream",
     "text": [
      "1313/1313 [==============================] - 2s 1ms/step - loss: 1.0239 - acc: 0.7526\n"
     ]
    }
   ],
   "source": [
    "score = model.evaluate(X_test, y_test, verbose=1)"
   ]
  },
  {
   "cell_type": "code",
   "execution_count": 43,
   "metadata": {},
   "outputs": [
    {
     "name": "stdout",
     "output_type": "stream",
     "text": [
      "Test Score: 1.0238629579544067\n",
      "Test Accuracy: 0.7526190280914307\n"
     ]
    }
   ],
   "source": [
    "print(\"Test Score:\", score[0])\n",
    "print(\"Test Accuracy:\", score[1])"
   ]
  },
  {
   "cell_type": "code",
   "execution_count": 44,
   "metadata": {},
   "outputs": [
    {
     "data": {
      "image/png": "[encoded data removed]",
      "text/plain": [
       "<Figure size 640x480 with 1 Axes>"
      ]
     },
     "metadata": {},
     "output_type": "display_data"
    },
    {
     "data": {
      "image/png": "[encoded data removed]",
      "text/plain": [
       "<Figure size 640x480 with 1 Axes>"
      ]
     },
     "metadata": {},
     "output_type": "display_data"
    }
   ],
   "source": [
    "plt.plot(history.history['acc'])\n",
    "plt.plot(history.history['val_acc'])\n",
    "\n",
    "plt.title('model accuracy')\n",
    "plt.ylabel('accuracy')\n",
    "plt.xlabel('epoch')\n",
    "plt.legend(['train','test'], loc='upper left')\n",
    "plt.show()\n",
    "\n",
    "plt.plot(history.history['loss'])\n",
    "plt.plot(history.history['val_loss'])\n",
    "\n",
    "plt.title('model loss')\n",
    "plt.ylabel('loss')\n",
    "plt.xlabel('epoch')\n",
    "plt.legend(['train','test'], loc='upper left')\n",
    "plt.show()"
   ]
  },
  {
   "attachments": {},
   "cell_type": "markdown",
   "metadata": {},
   "source": [
    "#### **Clear Model**"
   ]
  },
  {
   "cell_type": "code",
   "execution_count": 45,
   "metadata": {},
   "outputs": [],
   "source": [
    "keras.backend.clear_session()"
   ]
  },
  {
   "attachments": {},
   "cell_type": "markdown",
   "metadata": {},
   "source": [
    "***\n",
    "***\n",
    "\n",
    "## **2. Convolutional Neural Network** <a id='5'></a>\n",
    "\n",
    "* **Convolutional neural network** is a type of network that is primarily used for **2D data classification**, such as images.\n",
    "* **Convolutional neural networks** have been found to **work well** with **text dat**a as well.\n",
    "* We can use **1D convolutional neural networks** to extract features from our data.\n",
    "\n",
    "#### **Model**"
   ]
  },
  {
   "cell_type": "code",
   "execution_count": 46,
   "metadata": {},
   "outputs": [
    {
     "name": "stdout",
     "output_type": "stream",
     "text": [
      "Model: \"sequential\"\n",
      "_________________________________________________________________\n",
      "Layer (type)                 Output Shape              Param #   \n",
      "=================================================================\n",
      "embedding (Embedding)        (None, 100, 100)          10962900  \n",
      "_________________________________________________________________\n",
      "conv1d (Conv1D)              (None, 96, 128)           64128     \n",
      "_________________________________________________________________\n",
      "conv1d_1 (Conv1D)            (None, 92, 256)           164096    \n",
      "_________________________________________________________________\n",
      "conv1d_2 (Conv1D)            (None, 88, 256)           327936    \n",
      "_________________________________________________________________\n",
      "global_max_pooling1d (Global (None, 256)               0         \n",
      "_________________________________________________________________\n",
      "dense (Dense)                (None, 3)                 771       \n",
      "=================================================================\n",
      "Total params: 11,519,831\n",
      "Trainable params: 556,931\n",
      "Non-trainable params: 10,962,900\n",
      "_________________________________________________________________\n",
      "None\n"
     ]
    }
   ],
   "source": [
    "model = Sequential()\n",
    "embedding_layer = Embedding(vocab_size, 100, weights=[embedding_matrix], input_length=maxlen , trainable=False)\n",
    "\n",
    "model.add(embedding_layer)\n",
    "model.add(Conv1D(filters=128, kernel_size=5, activation='relu'))\n",
    "model.add(Conv1D(filters=256, kernel_size=5, activation='relu'))\n",
    "model.add(Conv1D(filters=256, kernel_size=5, activation='relu'))\n",
    "model.add(GlobalMaxPooling1D())\n",
    "model.add(Dense(3, activation='softmax'))\n",
    "\n",
    "sgd = keras.optimizers.SGD(learning_rate=0.01)\n",
    "model.compile(optimizer=sgd, loss='sparse_categorical_crossentropy', metrics=['acc'])\n",
    "\n",
    "print(model.summary())"
   ]
  },
  {
   "attachments": {},
   "cell_type": "markdown",
   "metadata": {},
   "source": [
    "#### **Model Explained**\n",
    "\n",
    "The only difference here is in the **Hidden Layers** of the **Model Architecture**.\n",
    "\n",
    "* **Conv1D** are **1 dimensional Convolutional Neural Network.**\n",
    "* **Filters** are the **dimensionality** of the **output space** (i.e. the number of output filters in the convolution).\n",
    "* **Kernel Size** is an **integer or tuple/list** of a **single integer**, specifying the **length of the 1D convolution window**.\n",
    "* The **relu activation** stands for **Rectified linear unit**. It is **non-linear**, which means we can easily **backpropagate the errors** and have **multiple layers of neurons** being activated by the ReLU function.\n",
    "* **Relu** value range is **[0, inf)**."
   ]
  },
  {
   "attachments": {},
   "cell_type": "markdown",
   "metadata": {},
   "source": [
    "***\n",
    "\n",
    "#### **Train and Save Model**\n",
    "\n",
    "* We will use same callbacks and Hyperparameters.\n",
    "* We will change filepath to - best_cnn_model.hdf5"
   ]
  },
  {
   "cell_type": "code",
   "execution_count": 47,
   "metadata": {},
   "outputs": [
    {
     "name": "stdout",
     "output_type": "stream",
     "text": [
      "Epoch 1/70\n"
     ]
    },
    {
     "name": "stderr",
     "output_type": "stream",
     "text": [
      "c:\\Users\\Sanskar\\anaconda3\\envs\\tensorflow\\lib\\site-packages\\keras\\engine\\data_adapter.py:1505: FutureWarning: The behavior of `series[i:j]` with an integer-dtype index is deprecated. In a future version, this will be treated as *label-based* indexing, consistent with e.g. `series[i]` lookups. To retain the old behavior, use `series.iloc[i:j]`. To get the future behavior, use `series.loc[i:j]`.\n",
      "  return t[start:end]\n"
     ]
    },
    {
     "name": "stdout",
     "output_type": "stream",
     "text": [
      "4200/4200 [==============================] - 12s 2ms/step - loss: 0.6213 - acc: 0.7296 - val_loss: 0.3462 - val_acc: 0.8734\n",
      "Epoch 2/70\n",
      "4200/4200 [==============================] - 9s 2ms/step - loss: 0.2194 - acc: 0.9209 - val_loss: 0.1595 - val_acc: 0.9424\n",
      "Epoch 3/70\n",
      "4200/4200 [==============================] - 9s 2ms/step - loss: 0.1282 - acc: 0.9524 - val_loss: 0.1247 - val_acc: 0.9547\n",
      "Epoch 4/70\n",
      "4200/4200 [==============================] - 9s 2ms/step - loss: 0.1035 - acc: 0.9601 - val_loss: 0.1036 - val_acc: 0.9589\n",
      "Epoch 5/70\n",
      "4200/4200 [==============================] - 9s 2ms/step - loss: 0.0919 - acc: 0.9639 - val_loss: 0.1000 - val_acc: 0.9605\n",
      "Epoch 6/70\n",
      "4200/4200 [==============================] - 9s 2ms/step - loss: 0.0839 - acc: 0.9669 - val_loss: 0.0984 - val_acc: 0.9602\n",
      "Epoch 7/70\n",
      "4200/4200 [==============================] - 9s 2ms/step - loss: 0.0772 - acc: 0.9701 - val_loss: 0.0992 - val_acc: 0.9604\n",
      "Epoch 8/70\n",
      "4200/4200 [==============================] - 9s 2ms/step - loss: 0.0725 - acc: 0.9721 - val_loss: 0.0961 - val_acc: 0.9617\n",
      "Epoch 9/70\n",
      "4200/4200 [==============================] - 9s 2ms/step - loss: 0.0674 - acc: 0.9739 - val_loss: 0.0989 - val_acc: 0.9609\n",
      "Epoch 10/70\n",
      "4200/4200 [==============================] - 9s 2ms/step - loss: 0.0631 - acc: 0.9760 - val_loss: 0.0977 - val_acc: 0.9608\n",
      "Epoch 11/70\n",
      "4200/4200 [==============================] - 9s 2ms/step - loss: 0.0586 - acc: 0.9777 - val_loss: 0.1000 - val_acc: 0.9601\n",
      "Epoch 12/70\n",
      "4200/4200 [==============================] - 9s 2ms/step - loss: 0.0545 - acc: 0.9795 - val_loss: 0.1058 - val_acc: 0.9599\n",
      "Epoch 13/70\n",
      "4200/4200 [==============================] - 9s 2ms/step - loss: 0.0504 - acc: 0.9816 - val_loss: 0.1050 - val_acc: 0.9611\n",
      "Epoch 14/70\n",
      "4200/4200 [==============================] - 9s 2ms/step - loss: 0.0393 - acc: 0.9881 - val_loss: 0.1016 - val_acc: 0.9612\n",
      "Epoch 15/70\n",
      "4200/4200 [==============================] - 9s 2ms/step - loss: 0.0377 - acc: 0.9887 - val_loss: 0.1021 - val_acc: 0.9615\n",
      "Epoch 16/70\n",
      "4200/4200 [==============================] - 9s 2ms/step - loss: 0.0367 - acc: 0.9892 - val_loss: 0.1032 - val_acc: 0.9615\n",
      "Epoch 17/70\n",
      "4200/4200 [==============================] - 9s 2ms/step - loss: 0.0357 - acc: 0.9898 - val_loss: 0.1031 - val_acc: 0.9618\n",
      "Epoch 18/70\n",
      "4200/4200 [==============================] - 9s 2ms/step - loss: 0.0349 - acc: 0.9902 - val_loss: 0.1042 - val_acc: 0.9611\n",
      "Epoch 19/70\n",
      "4200/4200 [==============================] - 9s 2ms/step - loss: 0.0329 - acc: 0.9914 - val_loss: 0.1044 - val_acc: 0.9616\n",
      "Epoch 00019: early stopping\n"
     ]
    }
   ],
   "source": [
    "filepath = r'C:\\Users\\Sanskar\\AI\\Machine_Learning_Pipelines\\Natural_Language_Processing\\Models\\best_cnn_model.hdf5'\n",
    "\n",
    "my_callbacks = [\n",
    "    keras.callbacks.ReduceLROnPlateau(monitor='val_loss', factor=0.2, patience=5),\n",
    "    keras.callbacks.EarlyStopping(monitor='val_loss', mode='min', verbose=1, patience=11),\n",
    "    keras.callbacks.ModelCheckpoint(filepath=filepath, monitor='val_acc', mode='max', save_best_only=True)\n",
    "]\n",
    "\n",
    "history = model.fit(X_train, y_train, batch_size=32, epochs=70, verbose=1, validation_split=0.2, callbacks=my_callbacks)"
   ]
  },
  {
   "attachments": {},
   "cell_type": "markdown",
   "metadata": {},
   "source": [
    "***\n",
    "\n",
    "#### **Evaluating Model**"
   ]
  },
  {
   "cell_type": "code",
   "execution_count": 48,
   "metadata": {},
   "outputs": [
    {
     "name": "stdout",
     "output_type": "stream",
     "text": [
      "1313/1313 [==============================] - 2s 2ms/step - loss: 0.1055 - acc: 0.9610\n"
     ]
    }
   ],
   "source": [
    "score = model.evaluate(X_test, y_test, verbose=1)"
   ]
  },
  {
   "cell_type": "code",
   "execution_count": 49,
   "metadata": {},
   "outputs": [
    {
     "name": "stdout",
     "output_type": "stream",
     "text": [
      "Test Score: 0.10549582540988922\n",
      "Test Accuracy: 0.9610475897789001\n"
     ]
    }
   ],
   "source": [
    "print(\"Test Score:\", score[0])\n",
    "print(\"Test Accuracy:\", score[1])"
   ]
  },
  {
   "attachments": {},
   "cell_type": "markdown",
   "metadata": {},
   "source": [
    "* **CNN** model shows an accuracy of **95 percent** whereas **MPL** model showed **75 percent** accuracy.\n",
    "* That's a big improvement."
   ]
  },
  {
   "cell_type": "code",
   "execution_count": 50,
   "metadata": {},
   "outputs": [
    {
     "data": {
      "image/png": "[encoded data removed]",
      "text/plain": [
       "<Figure size 640x480 with 1 Axes>"
      ]
     },
     "metadata": {},
     "output_type": "display_data"
    },
    {
     "data": {
      "image/png": "[encoded data removed]",
      "text/plain": [
       "<Figure size 640x480 with 1 Axes>"
      ]
     },
     "metadata": {},
     "output_type": "display_data"
    }
   ],
   "source": [
    "plt.plot(history.history['acc'])\n",
    "plt.plot(history.history['val_acc'])\n",
    "\n",
    "plt.title('model accuracy')\n",
    "plt.ylabel('accuracy')\n",
    "plt.xlabel('epoch')\n",
    "plt.legend(['train','test'], loc='upper left')\n",
    "plt.show()\n",
    "\n",
    "plt.plot(history.history['loss'])\n",
    "plt.plot(history.history['val_loss'])\n",
    "\n",
    "plt.title('model loss')\n",
    "plt.ylabel('loss')\n",
    "plt.xlabel('epoch')\n",
    "plt.legend(['train','test'], loc='upper left')\n",
    "plt.show()"
   ]
  },
  {
   "attachments": {},
   "cell_type": "markdown",
   "metadata": {},
   "source": [
    "#### **Clear Model**"
   ]
  },
  {
   "cell_type": "code",
   "execution_count": 51,
   "metadata": {},
   "outputs": [],
   "source": [
    "keras.backend.clear_session()"
   ]
  },
  {
   "attachments": {},
   "cell_type": "markdown",
   "metadata": {},
   "source": [
    "***\n",
    "***\n",
    "\n",
    "## **3. Recurrent Neural Network (LSTM)** <a id='6'></a>\n",
    "\n",
    "* **Recurrent neural network** is a type of **neural networks** that is proven to work well with **sequence data**. \n",
    "* Since **text** is actually a **sequence of words**, a recurrent neural network is an automatic choice to solve text-related problems.\n",
    "* Here, we will use an **LSTM (Long Short Term Memory network)** which is a variant of **RNN**.\n",
    "\n",
    "#### **Model**"
   ]
  },
  {
   "cell_type": "code",
   "execution_count": 52,
   "metadata": {},
   "outputs": [
    {
     "name": "stdout",
     "output_type": "stream",
     "text": [
      "Model: \"sequential\"\n",
      "_________________________________________________________________\n",
      "Layer (type)                 Output Shape              Param #   \n",
      "=================================================================\n",
      "embedding (Embedding)        (None, 100, 100)          10962900  \n",
      "_________________________________________________________________\n",
      "lstm (LSTM)                  (None, 100, 128)          117248    \n",
      "_________________________________________________________________\n",
      "lstm_1 (LSTM)                (None, 100, 256)          394240    \n",
      "_________________________________________________________________\n",
      "lstm_2 (LSTM)                (None, 256)               525312    \n",
      "_________________________________________________________________\n",
      "dense (Dense)                (None, 3)                 771       \n",
      "=================================================================\n",
      "Total params: 12,000,471\n",
      "Trainable params: 1,037,571\n",
      "Non-trainable params: 10,962,900\n",
      "_________________________________________________________________\n",
      "None\n"
     ]
    }
   ],
   "source": [
    "model = Sequential()\n",
    "embedding_layer = Embedding(vocab_size, 100, weights=[embedding_matrix], input_length=maxlen , trainable=False)\n",
    "\n",
    "model.add(embedding_layer)\n",
    "model.add(LSTM(128, return_sequences=True))\n",
    "model.add(LSTM(256, return_sequences=True))\n",
    "model.add(LSTM(256))\n",
    "model.add(Dense(3, activation='softmax'))\n",
    "\n",
    "sgd = keras.optimizers.SGD(learning_rate=0.01)\n",
    "model.compile(optimizer=sgd, loss='sparse_categorical_crossentropy', metrics=['acc'])\n",
    "\n",
    "print(model.summary())"
   ]
  },
  {
   "attachments": {},
   "cell_type": "markdown",
   "metadata": {},
   "source": [
    "#### **Model Explained**\n",
    "\n",
    "Here too, everything will be same except the **Hidden Layers** in the **Model Architecture.**\n",
    "\n",
    "* **LSTM** layers are used with **128 & 256** neurons.\n",
    "* **Activation** is default to **tanh** when used in [keras](https://keras.io/)\n",
    "* **return_sequence=True** returns **full sequence** for next layer."
   ]
  },
  {
   "attachments": {},
   "cell_type": "markdown",
   "metadata": {},
   "source": [
    "***\n",
    "\n",
    "#### **Train and Save Model**\n",
    "\n",
    "* We will use same callbacks and Hyperparameters.\n",
    "* We will change filepath to - best_lstm_model.hdf5"
   ]
  },
  {
   "cell_type": "code",
   "execution_count": 53,
   "metadata": {},
   "outputs": [
    {
     "name": "stdout",
     "output_type": "stream",
     "text": [
      "Epoch 1/70\n"
     ]
    },
    {
     "name": "stderr",
     "output_type": "stream",
     "text": [
      "c:\\Users\\Sanskar\\anaconda3\\envs\\tensorflow\\lib\\site-packages\\keras\\engine\\data_adapter.py:1505: FutureWarning: The behavior of `series[i:j]` with an integer-dtype index is deprecated. In a future version, this will be treated as *label-based* indexing, consistent with e.g. `series[i]` lookups. To retain the old behavior, use `series.iloc[i:j]`. To get the future behavior, use `series.loc[i:j]`.\n",
      "  return t[start:end]\n"
     ]
    },
    {
     "name": "stdout",
     "output_type": "stream",
     "text": [
      "4200/4200 [==============================] - 95s 22ms/step - loss: 1.0988 - acc: 0.3330 - val_loss: 1.0988 - val_acc: 0.3346\n",
      "Epoch 2/70\n",
      "4200/4200 [==============================] - 92s 22ms/step - loss: 1.0988 - acc: 0.3333 - val_loss: 1.0987 - val_acc: 0.3336\n",
      "Epoch 3/70\n",
      "4200/4200 [==============================] - 91s 22ms/step - loss: 1.0988 - acc: 0.3331 - val_loss: 1.0989 - val_acc: 0.3335\n",
      "Epoch 4/70\n",
      "4200/4200 [==============================] - 93s 22ms/step - loss: 1.0988 - acc: 0.3319 - val_loss: 1.0986 - val_acc: 0.3346\n",
      "Epoch 5/70\n",
      "4200/4200 [==============================] - 94s 22ms/step - loss: 1.0988 - acc: 0.3345 - val_loss: 1.0993 - val_acc: 0.3320\n",
      "Epoch 6/70\n",
      "4200/4200 [==============================] - 94s 22ms/step - loss: 1.0988 - acc: 0.3340 - val_loss: 1.0987 - val_acc: 0.3346\n",
      "Epoch 7/70\n",
      "4200/4200 [==============================] - 94s 22ms/step - loss: 1.0988 - acc: 0.3320 - val_loss: 1.0986 - val_acc: 0.3346\n",
      "Epoch 8/70\n",
      "4200/4200 [==============================] - 95s 23ms/step - loss: 1.0986 - acc: 0.3369 - val_loss: 1.0983 - val_acc: 0.3346\n",
      "Epoch 9/70\n",
      "4200/4200 [==============================] - 94s 22ms/step - loss: 1.0957 - acc: 0.3562 - val_loss: 1.0867 - val_acc: 0.3782\n",
      "Epoch 10/70\n",
      "4200/4200 [==============================] - 94s 22ms/step - loss: 1.0814 - acc: 0.3767 - val_loss: 1.0581 - val_acc: 0.4465\n",
      "Epoch 11/70\n",
      "4200/4200 [==============================] - 95s 23ms/step - loss: 1.0948 - acc: 0.3458 - val_loss: 1.0980 - val_acc: 0.3346\n",
      "Epoch 12/70\n",
      "4200/4200 [==============================] - 95s 23ms/step - loss: 1.0958 - acc: 0.3452 - val_loss: 1.0996 - val_acc: 0.3319\n",
      "Epoch 13/70\n",
      "4200/4200 [==============================] - 94s 22ms/step - loss: 1.0990 - acc: 0.3402 - val_loss: 1.0985 - val_acc: 0.3319\n",
      "Epoch 14/70\n",
      "4200/4200 [==============================] - 94s 22ms/step - loss: 1.0964 - acc: 0.3561 - val_loss: 1.0947 - val_acc: 0.3615\n",
      "Epoch 15/70\n",
      "4200/4200 [==============================] - 94s 22ms/step - loss: 0.9336 - acc: 0.5159 - val_loss: 0.7817 - val_acc: 0.6126\n",
      "Epoch 16/70\n",
      "4200/4200 [==============================] - 94s 22ms/step - loss: 0.6899 - acc: 0.6867 - val_loss: 0.5192 - val_acc: 0.7984\n",
      "Epoch 17/70\n",
      "4200/4200 [==============================] - 94s 22ms/step - loss: 0.4885 - acc: 0.8112 - val_loss: 0.3986 - val_acc: 0.8564\n",
      "Epoch 18/70\n",
      "4200/4200 [==============================] - 94s 22ms/step - loss: 0.4045 - acc: 0.8538 - val_loss: 0.3523 - val_acc: 0.8750\n",
      "Epoch 19/70\n",
      "4200/4200 [==============================] - 94s 22ms/step - loss: 0.3439 - acc: 0.8778 - val_loss: 0.3481 - val_acc: 0.8815\n",
      "Epoch 20/70\n",
      "4200/4200 [==============================] - 94s 22ms/step - loss: 0.2994 - acc: 0.8934 - val_loss: 0.2666 - val_acc: 0.9050\n",
      "Epoch 21/70\n",
      "4200/4200 [==============================] - 94s 22ms/step - loss: 0.2574 - acc: 0.9086 - val_loss: 0.2262 - val_acc: 0.9205\n",
      "Epoch 22/70\n",
      "4200/4200 [==============================] - 94s 22ms/step - loss: 0.2051 - acc: 0.9259 - val_loss: 0.1736 - val_acc: 0.9363\n",
      "Epoch 23/70\n",
      "4200/4200 [==============================] - 94s 22ms/step - loss: 0.1649 - acc: 0.9388 - val_loss: 0.1429 - val_acc: 0.9487\n",
      "Epoch 24/70\n",
      "4200/4200 [==============================] - 94s 22ms/step - loss: 0.1433 - acc: 0.9460 - val_loss: 0.1395 - val_acc: 0.9467\n",
      "Epoch 25/70\n",
      "4200/4200 [==============================] - 94s 22ms/step - loss: 0.1320 - acc: 0.9500 - val_loss: 0.1338 - val_acc: 0.9504\n",
      "Epoch 26/70\n",
      "4200/4200 [==============================] - 94s 22ms/step - loss: 0.1230 - acc: 0.9521 - val_loss: 0.1149 - val_acc: 0.9541\n",
      "Epoch 27/70\n",
      "4200/4200 [==============================] - 94s 22ms/step - loss: 0.1199 - acc: 0.9535 - val_loss: 0.1110 - val_acc: 0.9559\n",
      "Epoch 28/70\n",
      "4200/4200 [==============================] - 95s 23ms/step - loss: 0.1130 - acc: 0.9554 - val_loss: 0.1116 - val_acc: 0.9563\n",
      "Epoch 29/70\n",
      "4200/4200 [==============================] - 95s 23ms/step - loss: 0.1126 - acc: 0.9554 - val_loss: 0.1042 - val_acc: 0.9573\n",
      "Epoch 30/70\n",
      "4200/4200 [==============================] - 94s 22ms/step - loss: 0.1086 - acc: 0.9571 - val_loss: 0.1013 - val_acc: 0.9581\n",
      "Epoch 31/70\n",
      "4200/4200 [==============================] - 95s 23ms/step - loss: 0.1144 - acc: 0.9553 - val_loss: 0.1043 - val_acc: 0.9576\n",
      "Epoch 32/70\n",
      "4200/4200 [==============================] - 92s 22ms/step - loss: 0.1056 - acc: 0.9578 - val_loss: 0.0993 - val_acc: 0.9595\n",
      "Epoch 33/70\n",
      "4200/4200 [==============================] - 92s 22ms/step - loss: 0.1028 - acc: 0.9589 - val_loss: 0.1011 - val_acc: 0.9574\n",
      "Epoch 34/70\n",
      "4200/4200 [==============================] - 92s 22ms/step - loss: 0.1032 - acc: 0.9584 - val_loss: 0.1065 - val_acc: 0.9566\n",
      "Epoch 35/70\n",
      "4200/4200 [==============================] - 92s 22ms/step - loss: 0.1010 - acc: 0.9594 - val_loss: 0.0970 - val_acc: 0.9592\n",
      "Epoch 36/70\n",
      "4200/4200 [==============================] - 92s 22ms/step - loss: 0.1007 - acc: 0.9591 - val_loss: 0.0977 - val_acc: 0.9584\n",
      "Epoch 37/70\n",
      "4200/4200 [==============================] - 92s 22ms/step - loss: 0.1301 - acc: 0.9510 - val_loss: 0.1051 - val_acc: 0.9571\n",
      "Epoch 38/70\n",
      "4200/4200 [==============================] - 93s 22ms/step - loss: 0.1095 - acc: 0.9576 - val_loss: 0.0985 - val_acc: 0.9588\n",
      "Epoch 39/70\n",
      "4200/4200 [==============================] - 92s 22ms/step - loss: 0.0989 - acc: 0.9598 - val_loss: 0.0960 - val_acc: 0.9601\n",
      "Epoch 40/70\n",
      "4200/4200 [==============================] - 93s 22ms/step - loss: 0.0964 - acc: 0.9602 - val_loss: 0.0958 - val_acc: 0.9601\n",
      "Epoch 41/70\n",
      "4200/4200 [==============================] - 94s 22ms/step - loss: 0.0972 - acc: 0.9607 - val_loss: 0.0965 - val_acc: 0.9601\n",
      "Epoch 42/70\n",
      "4200/4200 [==============================] - 94s 22ms/step - loss: 0.0948 - acc: 0.9604 - val_loss: 0.0946 - val_acc: 0.9606\n",
      "Epoch 43/70\n",
      "4200/4200 [==============================] - 94s 22ms/step - loss: 0.0946 - acc: 0.9610 - val_loss: 0.0964 - val_acc: 0.9601\n",
      "Epoch 44/70\n",
      "4200/4200 [==============================] - 94s 22ms/step - loss: 0.0934 - acc: 0.9613 - val_loss: 0.0990 - val_acc: 0.9598\n",
      "Epoch 45/70\n",
      "4200/4200 [==============================] - 93s 22ms/step - loss: 0.0924 - acc: 0.9619 - val_loss: 0.0939 - val_acc: 0.9607\n",
      "Epoch 46/70\n",
      "4200/4200 [==============================] - 94s 22ms/step - loss: 0.0916 - acc: 0.9626 - val_loss: 0.0932 - val_acc: 0.9610\n",
      "Epoch 47/70\n",
      "4200/4200 [==============================] - 93s 22ms/step - loss: 0.0915 - acc: 0.9625 - val_loss: 0.0917 - val_acc: 0.9614\n",
      "Epoch 48/70\n",
      "4200/4200 [==============================] - 93s 22ms/step - loss: 0.0913 - acc: 0.9622 - val_loss: 0.0946 - val_acc: 0.9601\n",
      "Epoch 49/70\n",
      "4200/4200 [==============================] - 95s 23ms/step - loss: 0.0903 - acc: 0.9626 - val_loss: 0.0938 - val_acc: 0.9599\n",
      "Epoch 50/70\n",
      "4200/4200 [==============================] - 92s 22ms/step - loss: 0.0900 - acc: 0.9627 - val_loss: 0.1027 - val_acc: 0.9588\n",
      "Epoch 51/70\n",
      "4200/4200 [==============================] - 96s 23ms/step - loss: 0.0907 - acc: 0.9629 - val_loss: 0.0935 - val_acc: 0.9593\n",
      "Epoch 52/70\n",
      "4200/4200 [==============================] - 93s 22ms/step - loss: 0.0889 - acc: 0.9632 - val_loss: 0.0914 - val_acc: 0.9615\n",
      "Epoch 53/70\n",
      "4200/4200 [==============================] - 92s 22ms/step - loss: 0.0883 - acc: 0.9633 - val_loss: 0.0932 - val_acc: 0.9593\n",
      "Epoch 54/70\n",
      "4200/4200 [==============================] - 92s 22ms/step - loss: 0.0886 - acc: 0.9632 - val_loss: 0.0921 - val_acc: 0.9616\n",
      "Epoch 55/70\n",
      "4200/4200 [==============================] - 94s 22ms/step - loss: 0.0881 - acc: 0.9631 - val_loss: 0.0911 - val_acc: 0.9615\n",
      "Epoch 56/70\n",
      "4200/4200 [==============================] - 92s 22ms/step - loss: 0.0873 - acc: 0.9635 - val_loss: 0.0920 - val_acc: 0.9620\n",
      "Epoch 57/70\n",
      "4200/4200 [==============================] - 93s 22ms/step - loss: 0.0864 - acc: 0.9645 - val_loss: 0.0904 - val_acc: 0.9627\n",
      "Epoch 58/70\n",
      "4200/4200 [==============================] - 96s 23ms/step - loss: 0.0867 - acc: 0.9640 - val_loss: 0.0894 - val_acc: 0.9615\n",
      "Epoch 59/70\n",
      "4200/4200 [==============================] - 94s 22ms/step - loss: 0.0874 - acc: 0.9639 - val_loss: 0.0900 - val_acc: 0.9629\n",
      "Epoch 60/70\n",
      "4200/4200 [==============================] - 94s 22ms/step - loss: 0.0858 - acc: 0.9639 - val_loss: 0.0879 - val_acc: 0.9627\n",
      "Epoch 61/70\n",
      "4200/4200 [==============================] - 95s 23ms/step - loss: 0.0853 - acc: 0.9645 - val_loss: 0.0881 - val_acc: 0.9629\n",
      "Epoch 62/70\n",
      "4200/4200 [==============================] - 93s 22ms/step - loss: 0.0863 - acc: 0.9636 - val_loss: 0.0887 - val_acc: 0.9628\n",
      "Epoch 63/70\n",
      "4200/4200 [==============================] - 92s 22ms/step - loss: 0.0875 - acc: 0.9638 - val_loss: 0.0981 - val_acc: 0.9599\n",
      "Epoch 64/70\n",
      "4200/4200 [==============================] - 96s 23ms/step - loss: 0.0880 - acc: 0.9632 - val_loss: 0.0885 - val_acc: 0.9635\n",
      "Epoch 65/70\n",
      "4200/4200 [==============================] - 95s 23ms/step - loss: 0.0875 - acc: 0.9637 - val_loss: 0.0900 - val_acc: 0.9638\n",
      "Epoch 66/70\n",
      "4200/4200 [==============================] - 94s 22ms/step - loss: 0.0802 - acc: 0.9658 - val_loss: 0.0867 - val_acc: 0.9631\n",
      "Epoch 67/70\n",
      "4200/4200 [==============================] - 94s 22ms/step - loss: 0.0794 - acc: 0.9662 - val_loss: 0.0885 - val_acc: 0.9625\n",
      "Epoch 68/70\n",
      "4200/4200 [==============================] - 94s 22ms/step - loss: 0.0792 - acc: 0.9664 - val_loss: 0.0869 - val_acc: 0.9634\n",
      "Epoch 69/70\n",
      "4200/4200 [==============================] - 105s 25ms/step - loss: 0.0789 - acc: 0.9665 - val_loss: 0.0876 - val_acc: 0.9635\n",
      "Epoch 70/70\n",
      "4200/4200 [==============================] - 104s 25ms/step - loss: 0.0786 - acc: 0.9666 - val_loss: 0.0870 - val_acc: 0.9637\n"
     ]
    }
   ],
   "source": [
    "filepath = r'C:\\Users\\Sanskar\\AI\\Machine_Learning_Pipelines\\Natural_Language_Processing\\Models\\best_lstm_model.hdf5'\n",
    "\n",
    "my_callbacks = [\n",
    "    keras.callbacks.ReduceLROnPlateau(monitor='val_loss', factor=0.2, patience=5),\n",
    "    keras.callbacks.EarlyStopping(monitor='val_loss', mode='min', verbose=1, patience=11),\n",
    "    keras.callbacks.ModelCheckpoint(filepath=filepath, monitor='val_acc', mode='max', save_best_only=True)\n",
    "]\n",
    "\n",
    "history = model.fit(X_train, y_train, batch_size=32, epochs=70, verbose=1, validation_split=0.2, callbacks=my_callbacks)"
   ]
  },
  {
   "attachments": {},
   "cell_type": "markdown",
   "metadata": {},
   "source": [
    "***\n",
    "\n",
    "#### **Evaluating Model**"
   ]
  },
  {
   "cell_type": "code",
   "execution_count": 54,
   "metadata": {},
   "outputs": [
    {
     "name": "stdout",
     "output_type": "stream",
     "text": [
      "1313/1313 [==============================] - 17s 12ms/step - loss: 0.0879 - acc: 0.9649\n"
     ]
    }
   ],
   "source": [
    "score = model.evaluate(X_test, y_test, verbose=1)"
   ]
  },
  {
   "cell_type": "code",
   "execution_count": 55,
   "metadata": {},
   "outputs": [
    {
     "name": "stdout",
     "output_type": "stream",
     "text": [
      "Test Score: 0.08788356184959412\n",
      "Test Accuracy: 0.9648809432983398\n"
     ]
    }
   ],
   "source": [
    "print(\"Test Score:\", score[0])\n",
    "print(\"Test Accuracy:\", score[1])"
   ]
  },
  {
   "cell_type": "code",
   "execution_count": 56,
   "metadata": {},
   "outputs": [
    {
     "data": {
      "image/png": "[encoded data removed]",
      "text/plain": [
       "<Figure size 640x480 with 1 Axes>"
      ]
     },
     "metadata": {},
     "output_type": "display_data"
    },
    {
     "data": {
      "image/png": "[encoded data removed]",
      "text/plain": [
       "<Figure size 640x480 with 1 Axes>"
      ]
     },
     "metadata": {},
     "output_type": "display_data"
    }
   ],
   "source": [
    "plt.plot(history.history['acc'])\n",
    "plt.plot(history.history['val_acc'])\n",
    "\n",
    "plt.title('model accuracy')\n",
    "plt.ylabel('accuracy')\n",
    "plt.xlabel('epoch')\n",
    "plt.legend(['train','test'], loc='upper left')\n",
    "plt.show()\n",
    "\n",
    "plt.plot(history.history['loss'])\n",
    "plt.plot(history.history['val_loss'])\n",
    "\n",
    "plt.title('model loss')\n",
    "plt.ylabel('loss')\n",
    "plt.xlabel('epoch')\n",
    "plt.legend(['train','test'], loc='upper left')\n",
    "plt.show()"
   ]
  },
  {
   "attachments": {},
   "cell_type": "markdown",
   "metadata": {},
   "source": [
    "#### **Clear Model**"
   ]
  },
  {
   "cell_type": "code",
   "execution_count": 57,
   "metadata": {},
   "outputs": [],
   "source": [
    "keras.backend.clear_session()"
   ]
  },
  {
   "attachments": {},
   "cell_type": "markdown",
   "metadata": {},
   "source": [
    "***\n",
    "***\n",
    "\n",
    "## **D. Comparing Neural Networks** <a id='7'></a>\n",
    "\n",
    "* We will Load and Test each of the models.\n",
    "\n",
    "> **NOTE:** The **results** here may **defer** from the **Evaluation results** as we will be **loading the best model saved** instead of the **current trained model** as before."
   ]
  },
  {
   "attachments": {},
   "cell_type": "markdown",
   "metadata": {},
   "source": [
    "#### **Loading Model**"
   ]
  },
  {
   "cell_type": "code",
   "execution_count": 59,
   "metadata": {},
   "outputs": [],
   "source": [
    "mpl_model = load_model(r'C:\\Users\\Sanskar\\AI\\Machine_Learning_Pipelines\\Natural_Language_Processing\\Models\\best_mpl_model.hdf5')\n",
    "cnn_model = load_model(r'C:\\Users\\Sanskar\\AI\\Machine_Learning_Pipelines\\Natural_Language_Processing\\Models\\best_cnn_model.hdf5')\n",
    "lstm_model = load_model(r'C:\\Users\\Sanskar\\AI\\Machine_Learning_Pipelines\\Natural_Language_Processing\\Models\\best_lstm_model.hdf5')"
   ]
  },
  {
   "attachments": {},
   "cell_type": "markdown",
   "metadata": {},
   "source": [
    "#### **Testing Model**"
   ]
  },
  {
   "cell_type": "code",
   "execution_count": 60,
   "metadata": {},
   "outputs": [
    {
     "name": "stdout",
     "output_type": "stream",
     "text": [
      "1313/1313 [==============================] - 2s 1ms/step - loss: 0.7768 - acc: 0.7540\n",
      "1313/1313 [==============================] - 2s 1ms/step - loss: 0.1045 - acc: 0.9605\n",
      "1313/1313 [==============================] - 17s 12ms/step - loss: 0.0909 - acc: 0.9640\n"
     ]
    }
   ],
   "source": [
    "mpl_score = mpl_model.evaluate(X_test, y_test, verbose=1)\n",
    "cnn_score = cnn_model.evaluate(X_test, y_test, verbose=1)\n",
    "lstm_score = lstm_model.evaluate(X_test, y_test, verbose=1)"
   ]
  },
  {
   "attachments": {},
   "cell_type": "markdown",
   "metadata": {},
   "source": [
    "#### **Score**"
   ]
  },
  {
   "cell_type": "code",
   "execution_count": 61,
   "metadata": {},
   "outputs": [
    {
     "name": "stdout",
     "output_type": "stream",
     "text": [
      "MPL Score: 0.7768096923828125\n",
      "CNN Score: 0.10450059175491333\n",
      "LSTM Score: 0.09086348116397858\n"
     ]
    }
   ],
   "source": [
    "print(\"MPL Score:\", mpl_score[0])\n",
    "print(\"CNN Score:\", cnn_score[0])\n",
    "print(\"LSTM Score:\", lstm_score[0])"
   ]
  },
  {
   "attachments": {},
   "cell_type": "markdown",
   "metadata": {},
   "source": [
    "#### **Accuracy**"
   ]
  },
  {
   "cell_type": "code",
   "execution_count": 62,
   "metadata": {},
   "outputs": [
    {
     "name": "stdout",
     "output_type": "stream",
     "text": [
      "MPL Accuracy: 0.7540000081062317\n",
      "CNN Accuracy: 0.9605476260185242\n",
      "LSTM Accuracy: 0.9640238285064697\n"
     ]
    }
   ],
   "source": [
    "print(\"MPL Accuracy:\", mpl_score[1])\n",
    "print(\"CNN Accuracy:\", cnn_score[1])\n",
    "print(\"LSTM Accuracy:\", lstm_score[1])"
   ]
  },
  {
   "attachments": {},
   "cell_type": "markdown",
   "metadata": {},
   "source": [
    "* **CNN** and **LSTM** seem to be the best models here with **LSTM** being slightly better.\n",
    "* But **LSTM** **converges** better than **CNN** and is less likely to **overfit**.\n",
    "\n",
    "***\n",
    "***"
   ]
  },
  {
   "cell_type": "code",
   "execution_count": null,
   "metadata": {},
   "outputs": [],
   "source": []
  }
 ],
 "metadata": {
  "kernelspec": {
   "display_name": "tensorflow",
   "language": "python",
   "name": "python3"
  },
  "language_info": {
   "codemirror_mode": {
    "name": "ipython",
    "version": 3
   },
   "file_extension": ".py",
   "mimetype": "text/x-python",
   "name": "python",
   "nbconvert_exporter": "python",
   "pygments_lexer": "ipython3",
   "version": "3.11.4"
  },
  "orig_nbformat": 4,
  "vscode": {
   "interpreter": {
    "hash": "759f23f7dacdfe668bae34fc3d3a65a03aaa500825b50f9b7e76c99eeb766a18"
   }
  }
 },
 "nbformat": 4,
 "nbformat_minor": 2
}
