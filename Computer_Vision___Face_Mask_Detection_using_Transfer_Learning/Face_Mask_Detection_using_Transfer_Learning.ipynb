{
 "cells": [
  {
   "attachments": {},
   "cell_type": "markdown",
   "metadata": {},
   "source": [
    "# **`Face Mask Detection` using `Transfer Learning`** \n",
    "\n",
    "#### **`Introduction` - Face Mask Detection**\n",
    "\n",
    "> `Face Mask Detection` is a system that uses `Computer Vision` and Deep Learning to determine whether a person is wearing a `mask` or not. \n",
    "\n",
    "* It’s similar to an `Object Detection` system where a `specific class` of objects is detected.\n",
    "\n",
    "* This system can be particularly useful in public places to ensure people’s safety during situations like the `COVID-19` pandemic. \n",
    "\n",
    "![Image](https://www.intertecsystems.com/wp-content/uploads/2020/05/face-mask-detection-software-e1591538656411.png)\n",
    "\n",
    "\n",
    "***\n",
    "***"
   ]
  },
  {
   "attachments": {},
   "cell_type": "markdown",
   "metadata": {},
   "source": [
    "### **1. Packages and Dataset**\n",
    "\n",
    "* First and foremost, we import some basic `libraries`."
   ]
  },
  {
   "cell_type": "code",
   "execution_count": 1,
   "metadata": {},
   "outputs": [],
   "source": [
    "import numpy as np \n",
    "import pandas as pd \n",
    "%matplotlib inline \n",
    "import matplotlib as mpl \n",
    "import matplotlib.pyplot as plt \n",
    "import os \n",
    "\n",
    "import tensorflow as tf \n",
    "from tensorflow import keras "
   ]
  },
  {
   "attachments": {},
   "cell_type": "markdown",
   "metadata": {},
   "source": [
    "* In this project, we will use [Face Mask Dataset](https://www.kaggle.com/datasets/ashishjangra27/face-mask-12k-images-dataset) from kaggle.\n",
    "\n",
    "* Simply `download` the dataset from the link and set directories for `Train`, `Validation` and `Test` folders."
   ]
  },
  {
   "cell_type": "code",
   "execution_count": null,
   "metadata": {},
   "outputs": [],
   "source": [
    "train_dir=\"D:\\Data_Bag\\AI_Repository\\Face_Mask_Dataset\\Train\"\n",
    "validation_dir=\"D:\\Data_Bag\\AI_Repository\\Face_Mask_Dataset\\Validation\"\n",
    "test_dir=\"D:\\Data_Bag\\AI_Repository\\Face_Mask_Dataset\\Test\""
   ]
  },
  {
   "attachments": {},
   "cell_type": "markdown",
   "metadata": {},
   "source": [
    "'''\n",
    "\n",
    "### **2. Image Preprocessing**\n",
    "\n",
    "* We will now pre-process the images using `ImageDataGenerator` from tensorflow/ keras.\n",
    "\n",
    "* We will perform `data augmentation` and `preprocessing` on image data.\n",
    "\n",
    "1. **train_datagen**\n",
    "\n",
    "* `train_datagen` is an instance of `ImageDataGenerator` for `training` data. \n",
    "* It `rescales` the images by 1/255 (to convert pixel values from [0,255] to [0,1]), and applies random `transformations` (rotation, width and height shifts, shear transformation, zoom, and horizontal flip) for data augmentation. \n",
    "\n",
    "2. **validation_datagen**\n",
    "\n",
    "* `validation_datagen` is another instance of `ImageDataGenerator` for `validation` data. \n",
    "* It only `rescales` the images, as we don’t want to augment our validation data.\n",
    "\n",
    "3. **train_generator** and **validation_generator**\n",
    "\n",
    "* `train_generator` and `validation_generator` are python generators that yield `batches` of images and labels from the directories specified (train_dir and validation_dir). \n",
    "* They `resize` the images to 150x150, and yield them in `batches` of 32. \n",
    "* The class_mode is set to `binary`, indicating that it’s a binary classification problem. \n",
    "* These generators can be directly used in the fit method of a keras model for training.\n"
   ]
  },
  {
   "cell_type": "code",
   "execution_count": 3,
   "metadata": {},
   "outputs": [
    {
     "name": "stdout",
     "output_type": "stream",
     "text": [
      "Found 10000 images belonging to 2 classes.\n",
      "Found 800 images belonging to 2 classes.\n"
     ]
    }
   ],
   "source": [
    "from tensorflow.keras.preprocessing.image import ImageDataGenerator \n",
    "\n",
    "\n",
    "train_datagen=ImageDataGenerator(\n",
    "    rescale=1./255,\n",
    "    rotation_range=40,\n",
    "    width_shift_range=0.2,\n",
    "    height_shift_range=0.2,\n",
    "    shear_range=0.2,\n",
    "    zoom_range=0.2,\n",
    "    horizontal_flip=True\n",
    ") \n",
    "validation_datagen=ImageDataGenerator(rescale=1./255) \n",
    "\n",
    "\n",
    "train_generator=train_datagen.flow_from_directory(\n",
    "    train_dir,\n",
    "    target_size=(150,150),\n",
    "    batch_size=32,\n",
    "    class_mode=\"binary\"\n",
    "    )\n",
    "validation_generator=validation_datagen.flow_from_directory(\n",
    "    validation_dir,\n",
    "    target_size=(150,150),\n",
    "    batch_size=32,\n",
    "    class_mode=\"binary\"\n",
    "    )"
   ]
  },
  {
   "attachments": {},
   "cell_type": "markdown",
   "metadata": {},
   "source": [
    "'''\n",
    "\n",
    "### **3. Image Classification Model** \n",
    "\n",
    "* Next, we will build our `Image Classification Model` using `Transfer Learning` with `VGG16`."
   ]
  },
  {
   "cell_type": "code",
   "execution_count": 4,
   "metadata": {},
   "outputs": [],
   "source": [
    "from tensorflow.keras import layers \n",
    "from tensorflow.keras import models \n",
    "from tensorflow.keras.applications.vgg16 import VGG16 "
   ]
  },
  {
   "cell_type": "markdown",
   "metadata": {},
   "source": [
    "* This code is setting up Transfer Learning with the `VGG16` model. \n",
    "\n",
    "* It uses VGG16’s `pre-trained weights` from `ImageNet`, excludes its `top` layers, and `freezes` the remaining layers to keep their weights fixed during training."
   ]
  },
  {
   "cell_type": "code",
   "execution_count": 5,
   "metadata": {},
   "outputs": [],
   "source": [
    "vgg_base=VGG16(weights=\"imagenet\", include_top=False, input_shape=(150,150,3))\n",
    "for layer in vgg_base.layers:\n",
    "    layer.trainable=False"
   ]
  },
  {
   "cell_type": "markdown",
   "metadata": {},
   "source": [
    "In the code below, we build a **Sequential** model in Keras.\n",
    "\n",
    "* It starts by adding the pre-trained `VGG16 base` model.\n",
    "\n",
    "* Then, it adds several `Convolutional` and `MaxPooling` layers for `feature extraction` from images.\n",
    "\n",
    "* The `Flatten` layer is used to convert the `2D` feature maps to `1D` feature vectors.\n",
    "\n",
    "* The `Dropout` layer randomly sets `50`% of the `input` units to `0` at each update during training, which helps `prevent overfitting`.\n",
    "\n",
    "* The `Dense` layers are fully connected layers. The final `Dense` layer uses a `sigmoid` activation function, making the model suitable for `binary classification`.\n"
   ]
  },
  {
   "cell_type": "code",
   "execution_count": 6,
   "metadata": {},
   "outputs": [],
   "source": [
    "model=models.Sequential() \n",
    "\n",
    "model.add(vgg_base)\n",
    "model.add(layers.MaxPooling2D((2,2))) \n",
    "model.add(layers.Conv2D(128, (3,3), activation=\"relu\", padding=\"same\")) \n",
    "model.add(layers.MaxPooling2D((2,2), padding=\"same\")) \n",
    "model.add(layers.Conv2D(128, (3,3), activation=\"relu\", padding=\"same\")) \n",
    "model.add(layers.MaxPooling2D((2,2), padding=\"same\")) \n",
    "\n",
    "model.add(layers.Flatten()) \n",
    "model.add(layers.Dropout(0.5)) \n",
    "model.add(layers.Dense(512, activation=\"relu\")) \n",
    "model.add(layers.Dense(1, activation=\"sigmoid\")) "
   ]
  },
  {
   "cell_type": "code",
   "execution_count": 7,
   "metadata": {},
   "outputs": [
    {
     "name": "stdout",
     "output_type": "stream",
     "text": [
      "Model: \"sequential\"\n",
      "_________________________________________________________________\n",
      "Layer (type)                 Output Shape              Param #   \n",
      "=================================================================\n",
      "vgg16 (Functional)           (None, 4, 4, 512)         14714688  \n",
      "_________________________________________________________________\n",
      "max_pooling2d (MaxPooling2D) (None, 2, 2, 512)         0         \n",
      "_________________________________________________________________\n",
      "conv2d (Conv2D)              (None, 2, 2, 128)         589952    \n",
      "_________________________________________________________________\n",
      "max_pooling2d_1 (MaxPooling2 (None, 1, 1, 128)         0         \n",
      "_________________________________________________________________\n",
      "conv2d_1 (Conv2D)            (None, 1, 1, 128)         147584    \n",
      "_________________________________________________________________\n",
      "max_pooling2d_2 (MaxPooling2 (None, 1, 1, 128)         0         \n",
      "_________________________________________________________________\n",
      "flatten (Flatten)            (None, 128)               0         \n",
      "_________________________________________________________________\n",
      "dropout (Dropout)            (None, 128)               0         \n",
      "_________________________________________________________________\n",
      "dense (Dense)                (None, 512)               66048     \n",
      "_________________________________________________________________\n",
      "dense_1 (Dense)              (None, 1)                 513       \n",
      "=================================================================\n",
      "Total params: 15,518,785\n",
      "Trainable params: 804,097\n",
      "Non-trainable params: 14,714,688\n",
      "_________________________________________________________________\n"
     ]
    }
   ],
   "source": [
    "model.summary() "
   ]
  },
  {
   "attachments": {},
   "cell_type": "markdown",
   "metadata": {},
   "source": [
    "'''\n",
    "\n",
    "### **4. Callbacks**\n",
    "\n",
    "* Now, we will set a `callback` to `save` the `best` model.\n",
    "\n",
    "* We first create a `directory` to save the model if it doesn’t exist."
   ]
  },
  {
   "cell_type": "code",
   "execution_count": 8,
   "metadata": {},
   "outputs": [],
   "source": [
    "from tensorflow.keras.callbacks import ModelCheckpoint\n",
    "\n",
    "# Create a directory to save the best model\n",
    "checkpoint_dir=\"./\"\n",
    "if not os.path.exists(checkpoint_dir):\n",
    "    os.mkdir(checkpoint_dir)"
   ]
  },
  {
   "cell_type": "markdown",
   "metadata": {},
   "source": [
    "* We then specify the `path` where the `best model` will be saved (`best_model.h5`).\n",
    "\n",
    "* The `ModelCheckpoint` callback saves the model at `every epoch`. It monitors the `validation` loss (val_loss), and only the model with the `minimum` validation loss is saved (mode=\"min\", save_best_only=True).\n",
    "\n",
    "* It `saves` the `entire model`, not just the weights (save_weights_only=False).\n",
    "\n",
    "* It prints a message every time the model is saved (verbose=1)."
   ]
  },
  {
   "cell_type": "code",
   "execution_count": 9,
   "metadata": {},
   "outputs": [],
   "source": [
    "checkpoint_filepath=os.path.join(checkpoint_dir, \"best_model.h5\")\n",
    "model_checkpoint_callback=ModelCheckpoint(\n",
    "    filepath=checkpoint_filepath,\n",
    "    monitor=\"val_loss\",\n",
    "    mode=\"min\",\n",
    "    save_best_only=True,\n",
    "    save_weights_only=False,\n",
    "    verbose=1\n",
    ")"
   ]
  },
  {
   "attachments": {},
   "cell_type": "markdown",
   "metadata": {},
   "source": [
    "'''\n",
    "\n",
    "### **5. Training the Model**\n",
    "\n",
    "* Finally, we train our model.\n",
    "\n",
    "* We start by compiling our model with `binary_crossentropy` as loss function, use `RMSprop` as the optimizer and use `accuracy` as the metrics for evaluation."
   ]
  },
  {
   "cell_type": "code",
   "execution_count": 10,
   "metadata": {},
   "outputs": [],
   "source": [
    "from tensorflow.keras import optimizers \n",
    "\n",
    "model.compile(loss=\"binary_crossentropy\",\n",
    "              optimizer=optimizers.RMSprop(learning_rate=2e-5),\n",
    "              metrics=[\"acc\"]) "
   ]
  },
  {
   "cell_type": "markdown",
   "metadata": {},
   "source": [
    "* Now we train the model for `30` epochs with `train_generator` as training data and `validation_generator` as validation data. \n",
    "\n",
    "* We also use the `model_checkpoint_callback` to save the best model. \n",
    "\n",
    "* We performs `100` steps per epoch for `training` and `10` steps for `validation`."
   ]
  },
  {
   "cell_type": "code",
   "execution_count": 11,
   "metadata": {},
   "outputs": [
    {
     "name": "stdout",
     "output_type": "stream",
     "text": [
      "Epoch 1/30\n",
      "100/100 [==============================] - 15s 112ms/step - loss: 0.6791 - acc: 0.6247 - val_loss: 0.6377 - val_acc: 0.9125\n",
      "\n",
      "Epoch 00001: val_loss improved from inf to 0.63765, saving model to ./Live_Face_Detection\\best_model.h5\n",
      "Epoch 2/30\n",
      "100/100 [==============================] - 11s 110ms/step - loss: 0.6158 - acc: 0.8300 - val_loss: 0.5220 - val_acc: 0.9094\n",
      "\n",
      "Epoch 00002: val_loss improved from 0.63765 to 0.52196, saving model to ./Live_Face_Detection\\best_model.h5\n",
      "Epoch 3/30\n",
      "100/100 [==============================] - 11s 109ms/step - loss: 0.5180 - acc: 0.8813 - val_loss: 0.3817 - val_acc: 0.9312\n",
      "\n",
      "Epoch 00003: val_loss improved from 0.52196 to 0.38172, saving model to ./Live_Face_Detection\\best_model.h5\n",
      "Epoch 4/30\n",
      "100/100 [==============================] - 11s 109ms/step - loss: 0.4000 - acc: 0.9094 - val_loss: 0.2871 - val_acc: 0.9187\n",
      "\n",
      "Epoch 00004: val_loss improved from 0.38172 to 0.28706, saving model to ./Live_Face_Detection\\best_model.h5\n",
      "Epoch 5/30\n",
      "100/100 [==============================] - 11s 110ms/step - loss: 0.3089 - acc: 0.9124 - val_loss: 0.1744 - val_acc: 0.9469\n",
      "\n",
      "Epoch 00005: val_loss improved from 0.28706 to 0.17441, saving model to ./Live_Face_Detection\\best_model.h5\n",
      "Epoch 6/30\n",
      "100/100 [==============================] - 11s 109ms/step - loss: 0.2389 - acc: 0.9309 - val_loss: 0.1588 - val_acc: 0.9469\n",
      "\n",
      "Epoch 00006: val_loss improved from 0.17441 to 0.15883, saving model to ./Live_Face_Detection\\best_model.h5\n",
      "Epoch 7/30\n",
      "100/100 [==============================] - 11s 109ms/step - loss: 0.1976 - acc: 0.9381 - val_loss: 0.1340 - val_acc: 0.9531\n",
      "\n",
      "Epoch 00007: val_loss improved from 0.15883 to 0.13404, saving model to ./Live_Face_Detection\\best_model.h5\n",
      "Epoch 8/30\n",
      "100/100 [==============================] - 11s 110ms/step - loss: 0.1858 - acc: 0.9359 - val_loss: 0.1014 - val_acc: 0.9688\n",
      "\n",
      "Epoch 00008: val_loss improved from 0.13404 to 0.10139, saving model to ./Live_Face_Detection\\best_model.h5\n",
      "Epoch 9/30\n",
      "100/100 [==============================] - 11s 110ms/step - loss: 0.1721 - acc: 0.9366 - val_loss: 0.1089 - val_acc: 0.9719\n",
      "\n",
      "Epoch 00009: val_loss did not improve from 0.10139\n",
      "Epoch 10/30\n",
      "100/100 [==============================] - 11s 109ms/step - loss: 0.1577 - acc: 0.9432 - val_loss: 0.0597 - val_acc: 0.9906\n",
      "\n",
      "Epoch 00010: val_loss improved from 0.10139 to 0.05970, saving model to ./Live_Face_Detection\\best_model.h5\n",
      "Epoch 11/30\n",
      "100/100 [==============================] - 11s 110ms/step - loss: 0.1436 - acc: 0.9438 - val_loss: 0.1074 - val_acc: 0.9656\n",
      "\n",
      "Epoch 00011: val_loss did not improve from 0.05970\n",
      "Epoch 12/30\n",
      "100/100 [==============================] - 11s 110ms/step - loss: 0.1407 - acc: 0.9525 - val_loss: 0.0711 - val_acc: 0.9719\n",
      "\n",
      "Epoch 00012: val_loss did not improve from 0.05970\n",
      "Epoch 13/30\n",
      "100/100 [==============================] - 11s 109ms/step - loss: 0.1396 - acc: 0.9526 - val_loss: 0.0729 - val_acc: 0.9781\n",
      "\n",
      "Epoch 00013: val_loss did not improve from 0.05970\n",
      "Epoch 14/30\n",
      "100/100 [==============================] - 11s 110ms/step - loss: 0.1215 - acc: 0.9578 - val_loss: 0.0689 - val_acc: 0.9812\n",
      "\n",
      "Epoch 00014: val_loss did not improve from 0.05970\n",
      "Epoch 15/30\n",
      "100/100 [==============================] - 11s 110ms/step - loss: 0.1196 - acc: 0.9566 - val_loss: 0.0511 - val_acc: 0.9844\n",
      "\n",
      "Epoch 00015: val_loss improved from 0.05970 to 0.05109, saving model to ./Live_Face_Detection\\best_model.h5\n",
      "Epoch 16/30\n",
      "100/100 [==============================] - 11s 110ms/step - loss: 0.1111 - acc: 0.9597 - val_loss: 0.0663 - val_acc: 0.9781\n",
      "\n",
      "Epoch 00016: val_loss did not improve from 0.05109\n",
      "Epoch 17/30\n",
      "100/100 [==============================] - 11s 110ms/step - loss: 0.1003 - acc: 0.9634 - val_loss: 0.0403 - val_acc: 0.9844\n",
      "\n",
      "Epoch 00017: val_loss improved from 0.05109 to 0.04028, saving model to ./Live_Face_Detection\\best_model.h5\n",
      "Epoch 18/30\n",
      "100/100 [==============================] - 11s 110ms/step - loss: 0.1058 - acc: 0.9601 - val_loss: 0.0586 - val_acc: 0.9875\n",
      "\n",
      "Epoch 00018: val_loss did not improve from 0.04028\n",
      "Epoch 19/30\n",
      "100/100 [==============================] - 11s 113ms/step - loss: 0.1119 - acc: 0.9598 - val_loss: 0.0477 - val_acc: 0.9812\n",
      "\n",
      "Epoch 00019: val_loss did not improve from 0.04028\n",
      "Epoch 20/30\n",
      "100/100 [==============================] - 11s 111ms/step - loss: 0.1075 - acc: 0.9591 - val_loss: 0.0624 - val_acc: 0.9812\n",
      "\n",
      "Epoch 00020: val_loss did not improve from 0.04028\n",
      "Epoch 21/30\n",
      "100/100 [==============================] - 11s 110ms/step - loss: 0.0931 - acc: 0.9659 - val_loss: 0.0375 - val_acc: 0.9844\n",
      "\n",
      "Epoch 00021: val_loss improved from 0.04028 to 0.03749, saving model to ./Live_Face_Detection\\best_model.h5\n",
      "Epoch 22/30\n",
      "100/100 [==============================] - 11s 111ms/step - loss: 0.0920 - acc: 0.9691 - val_loss: 0.0593 - val_acc: 0.9719\n",
      "\n",
      "Epoch 00022: val_loss did not improve from 0.03749\n",
      "Epoch 23/30\n",
      "100/100 [==============================] - 11s 110ms/step - loss: 0.0996 - acc: 0.9656 - val_loss: 0.0502 - val_acc: 0.9781\n",
      "\n",
      "Epoch 00023: val_loss did not improve from 0.03749\n",
      "Epoch 24/30\n",
      "100/100 [==============================] - 11s 109ms/step - loss: 0.0909 - acc: 0.9695 - val_loss: 0.0437 - val_acc: 0.9875\n",
      "\n",
      "Epoch 00024: val_loss did not improve from 0.03749\n",
      "Epoch 25/30\n",
      "100/100 [==============================] - 11s 110ms/step - loss: 0.0966 - acc: 0.9661 - val_loss: 0.0506 - val_acc: 0.9844\n",
      "\n",
      "Epoch 00025: val_loss did not improve from 0.03749\n",
      "Epoch 26/30\n",
      "100/100 [==============================] - 11s 110ms/step - loss: 0.0976 - acc: 0.9661 - val_loss: 0.0612 - val_acc: 0.9812\n",
      "\n",
      "Epoch 00026: val_loss did not improve from 0.03749\n",
      "Epoch 27/30\n",
      "100/100 [==============================] - 13s 132ms/step - loss: 0.0885 - acc: 0.9629 - val_loss: 0.0629 - val_acc: 0.9781\n",
      "\n",
      "Epoch 00027: val_loss did not improve from 0.03749\n",
      "Epoch 28/30\n",
      "100/100 [==============================] - 11s 110ms/step - loss: 0.0737 - acc: 0.9747 - val_loss: 0.0622 - val_acc: 0.9844\n",
      "\n",
      "Epoch 00028: val_loss did not improve from 0.03749\n",
      "Epoch 29/30\n",
      "100/100 [==============================] - 11s 109ms/step - loss: 0.0954 - acc: 0.9661 - val_loss: 0.0356 - val_acc: 0.9906\n",
      "\n",
      "Epoch 00029: val_loss improved from 0.03749 to 0.03561, saving model to ./Live_Face_Detection\\best_model.h5\n",
      "Epoch 30/30\n",
      "100/100 [==============================] - 11s 110ms/step - loss: 0.0794 - acc: 0.9708 - val_loss: 0.0380 - val_acc: 0.9875\n",
      "\n",
      "Epoch 00030: val_loss did not improve from 0.03561\n"
     ]
    }
   ],
   "source": [
    "history=model.fit(\n",
    "    train_generator,\n",
    "    steps_per_epoch=100,\n",
    "    epochs=30,\n",
    "    validation_data=validation_generator,\n",
    "    validation_steps=10,\n",
    "    callbacks=[model_checkpoint_callback]\n",
    ")"
   ]
  },
  {
   "attachments": {},
   "cell_type": "markdown",
   "metadata": {},
   "source": [
    "'''\n",
    "\n",
    "### **6. Plotting Loss and Accuracy Graphs**\n",
    "\n",
    "* Now, we use `matplotlib.pyplot` to plot two graphs: \n",
    "\n",
    "    * `Training Loss` and `Validation Loss`\n",
    "    * `Training Accuracy` and `Validation Accuracy`"
   ]
  },
  {
   "cell_type": "code",
   "execution_count": 12,
   "metadata": {},
   "outputs": [
    {
     "data": {
      "image/png": "[encoded data removed]",
      "text/plain": [
       "<Figure size 1200x400 with 2 Axes>"
      ]
     },
     "metadata": {},
     "output_type": "display_data"
    }
   ],
   "source": [
    "# Retrieve loss and accuracy values from the training history\n",
    "train_loss = history.history[\"loss\"]\n",
    "val_loss = history.history[\"val_loss\"]\n",
    "train_accuracy = history.history[\"acc\"]\n",
    "val_accuracy = history.history[\"val_acc\"]\n",
    "\n",
    "# Generate a sequence of integers to represent the epoch numbers\n",
    "epochs = range(1, len(train_loss) +1)\n",
    "\n",
    "# Plot and label the training and validation loss values\n",
    "plt.figure(figsize=(12,4))\n",
    "plt.subplot(1,2,1)\n",
    "plt.plot(epochs, train_loss, label=\"Training Loss\")\n",
    "plt.plot(epochs, val_loss, label=\"Validation Loss\")\n",
    "plt.title(\"Training and Validation Loss\")\n",
    "plt.xlabel(\"Epochs\")\n",
    "plt.ylabel(\"Loss\")\n",
    "plt.legend(loc=\"best\")\n",
    "\n",
    "# Plot and label the training and validation accuracy values\n",
    "plt.subplot(1,2,2)\n",
    "plt.plot(epochs, train_accuracy, label=\"Training Accuracy\")\n",
    "plt.plot(epochs, val_accuracy, label=\"Validation Accuracy\")\n",
    "plt.title(\"Training and Validation Accuracy\")\n",
    "plt.xlabel(\"Epochs\")\n",
    "plt.ylabel(\"Accuracy\")\n",
    "plt.legend(loc=\"best\")\n",
    "\n",
    "# Display the plots\n",
    "plt.show()"
   ]
  },
  {
   "attachments": {},
   "cell_type": "markdown",
   "metadata": {},
   "source": [
    "'''\n",
    "\n",
    "### **7. Testing Model**\n",
    "\n",
    "* Let's `benchmark` our model.\n",
    "\n",
    "* First, we `clear` the `session` and `delete` the model from `memory`."
   ]
  },
  {
   "cell_type": "code",
   "execution_count": 11,
   "metadata": {},
   "outputs": [],
   "source": [
    "from tensorflow.keras import backend as k\n",
    "\n",
    "k.clear_session()\n",
    "del model "
   ]
  },
  {
   "cell_type": "markdown",
   "metadata": {},
   "source": [
    "* Now, we `load` our `Best Model`."
   ]
  },
  {
   "cell_type": "code",
   "execution_count": 12,
   "metadata": {},
   "outputs": [],
   "source": [
    "model=tf.keras.models.load_model(checkpoint_filepath)"
   ]
  },
  {
   "cell_type": "markdown",
   "metadata": {},
   "source": [
    "* We pre-`process` `Test` images using `ImageDataGenerator`."
   ]
  },
  {
   "cell_type": "code",
   "execution_count": 13,
   "metadata": {},
   "outputs": [
    {
     "name": "stdout",
     "output_type": "stream",
     "text": [
      "Found 981 images belonging to 2 classes.\n"
     ]
    }
   ],
   "source": [
    "test_datagen=ImageDataGenerator(rescale=1./255)\n",
    "\n",
    "test_generator=test_datagen.flow_from_directory(\n",
    "    test_dir,\n",
    "    target_size=(150,150),\n",
    "    batch_size=20,\n",
    "    class_mode=\"binary\"\n",
    ")"
   ]
  },
  {
   "cell_type": "markdown",
   "metadata": {},
   "source": [
    "* Now, we `evaluate` our model.\n",
    "\n",
    "* Our model shows `accuracy` of `98.8 percent` on `unseen data`. This is a very good performance."
   ]
  },
  {
   "cell_type": "code",
   "execution_count": 14,
   "metadata": {},
   "outputs": [
    {
     "name": "stdout",
     "output_type": "stream",
     "text": [
      "50/50 [==============================] - 4s 21ms/step - loss: 0.0290 - acc: 0.9888\n"
     ]
    },
    {
     "data": {
      "text/plain": [
       "[0.02898399718105793, 0.9887869358062744]"
      ]
     },
     "execution_count": 14,
     "metadata": {},
     "output_type": "execute_result"
    }
   ],
   "source": [
    "model.evaluate(test_generator, steps=50) "
   ]
  },
  {
   "attachments": {},
   "cell_type": "markdown",
   "metadata": {},
   "source": [
    "***\n",
    "***"
   ]
  },
  {
   "cell_type": "code",
   "execution_count": null,
   "metadata": {},
   "outputs": [],
   "source": []
  }
 ],
 "metadata": {
  "kernelspec": {
   "display_name": "ComputerVision",
   "language": "python",
   "name": "python3"
  },
  "language_info": {
   "codemirror_mode": {
    "name": "ipython",
    "version": 3
   },
   "file_extension": ".py",
   "mimetype": "text/x-python",
   "name": "python",
   "nbconvert_exporter": "python",
   "pygments_lexer": "ipython3",
   "version": "3.9.18"
  },
  "orig_nbformat": 4
 },
 "nbformat": 4,
 "nbformat_minor": 2
}
