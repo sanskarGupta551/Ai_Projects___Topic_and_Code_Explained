{
 "cells": [
  {
   "cell_type": "markdown",
   "metadata": {},
   "source": [
    "* **`App`** - [Ai Comic Generator]()\n",
    "\n",
    "* **`Full Project`** - [Ai Comic Generator](https://github.com/sanskarGupta551/AI_work/tree/main/Portfolio_project___Ai_Comic_Generator) "
   ]
  },
  {
   "cell_type": "markdown",
   "metadata": {},
   "source": [
    "# **1.2 Image Generation**\n",
    "\n",
    "* \n",
    "\n",
    "### **Pipeline** \n",
    "\n",
    "1. `Events` > `Prompts for Image Generator using Image Inputs and Events priority (Highlights get entire page while Common get half)` \n",
    "2. `Prompts` > `Image Generation` \n",
    "3. `Images` > `Saved into a PDF` \n",
    "\n",
    "***\n",
    "***"
   ]
  },
  {
   "cell_type": "markdown",
   "metadata": {},
   "source": [
    "## **1. User Inputs** <a id=\"1\"></a> \n",
    "\n",
    "* The following `User Inputs` that will influence the `Image Generation` process of Comic Generation. \n",
    "\n",
    "##### **a. Art Style** :- \n",
    "* A list of `Options` to choose from in `Text` format. \n",
    "* Determines the Art Style in which the Comics are drawn. \n",
    "* Realistic, Cartoon, Abstract, Sketch, ~Pick Any \n",
    "\n",
    "##### **b. Page Count** :- \n",
    "* A list of `Options` taken as `Integers`. \n",
    "* Determines the number of pages our Comic will have. \n",
    "* `Options` - 24, 32, 48, 64, 96, Free Art. \n",
    "\n",
    "##### **c. Page Size** :- \n",
    "* A list of `Options` taken as `Integers`. \n",
    "* Determines the size of the Pages generated as Images in pixels. \n",
    "* `Options` - 800x1280, 1200x630, 1080x1080, ~Any. \n",
    "\n",
    "##### **d. Draw Page Border** :- \n",
    "* A `Boolean` Input. \n",
    "* Determines whether the Comic Pages will have a Border Drawn. \n",
    "\n",
    "***\n",
    "***"
   ]
  },
  {
   "cell_type": "code",
   "execution_count": null,
   "metadata": {},
   "outputs": [],
   "source": []
  }
 ],
 "metadata": {
  "language_info": {
   "name": "python"
  },
  "orig_nbformat": 4
 },
 "nbformat": 4,
 "nbformat_minor": 2
}
