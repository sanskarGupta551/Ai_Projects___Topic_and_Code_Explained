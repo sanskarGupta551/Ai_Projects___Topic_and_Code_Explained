{
 "cells": [
  {
   "cell_type": "markdown",
   "metadata": {},
   "source": [
    "* **`App`** - [Ai Comic Generator]()\n",
    "\n",
    "* **`Full Project`** - [Ai Comic Generator](https://github.com/sanskarGupta551/AI_work/tree/main/Portfolio_project___Ai_Comic_Generator) "
   ]
  },
  {
   "cell_type": "markdown",
   "metadata": {},
   "source": [
    "# **Ai_Comic_Generator - `The First Notebook`** \n",
    "\n",
    "### **Comic**\n",
    "\n",
    "> A `comic` is a `visual form of storytelling` that pairs images with text. They are often presented sequentially in `panels,` which are self-contained frames that tell `one story beat` (for example, one moment, one look, one establishing shot of the scenery). The medium is conducive to `innovation and artistic expression`, allowing comic creators freedom to experiment with the real estate on each page.\n",
    "\n",
    "### **About this Project** \n",
    "\n",
    "* This is an `end-to-end` project about creating an `Ai Comic Generator` tool/ app using `Deep Learning`.\n",
    "* The app will take `User Inputs` about their `Comic preference`, such as - `Genre`, `Mood`, `Keyword`, `Art Style`, etc. and outputs the Comic as a `PDF file`. \n",
    "\n",
    "> **`Note`** - This project will be `divided` into `several notebooks`, named and `listed` in a sequential order to keep things `organized`.\n",
    "\n",
    "***\n",
    "***"
   ]
  },
  {
   "cell_type": "markdown",
   "metadata": {},
   "source": [
    "## **1.0 Comic Generation using User Inputs**\n",
    "\n",
    "### **Summary**\n",
    "\n",
    "* The most common and easiest way to `Generate Comics` would be by letting users share their `preferences`. \n",
    "* In this portion of the project, we will `develop the entire pipeline` of `Generating Comics` using `User Inputs`. \n",
    "* We will also be `Saving` the Comics and making the Pipeline `User-friendly` and `Accessible` to users through easy-to-use `GUI`. \n",
    "* The `entire process` of Comic Generation will be divided into `3` parts:- \n",
    "\n",
    "##### 1. **Story Generation** :- \n",
    "* The first part will focus on generating a good `Story` for the comics. \n",
    "* This step will also include generating the `Title` and a `Summary` based on the Story for our Comic. \n",
    "\n",
    "##### 2. **Image Generation** :- \n",
    "* The second part will focus on generating Comic `Pages as Images` by building `prompts` upon the Story. \n",
    "* Then we will organize and `save` our Comics as a `PDF`. \n",
    "\n",
    "##### 3. **GUI App** :- \n",
    "* At last, we will develop a `User Friendlt App` to steamline the entire process of `Ai Comic Generation`. \n",
    "\n",
    "### **Notebooks**\n",
    "\n",
    "* [1.1 Story Generation]()\n",
    "* [1.2 Image Generation]()\n",
    "* [1.3 GUI App]()\n",
    "\n",
    "***\n",
    "***"
   ]
  },
  {
   "cell_type": "markdown",
   "metadata": {},
   "source": [
    "### **2.0 Comic Generation using Images**\n",
    "\n",
    "#### **Summary** \n",
    "\n",
    "* \n",
    "\n",
    "#### **Notebooks** \n",
    "\n",
    "* [2.0 Comic Generation using Images]()\n",
    "\n",
    "> **Model** - `Sage -3GB` (Image Captioning)\n",
    "\n",
    "***\n",
    "***"
   ]
  },
  {
   "cell_type": "markdown",
   "metadata": {},
   "source": [
    "### **3.0 Generating Sequels to an Existing Comics**\n",
    "\n",
    "#### **Summary**\n",
    "\n",
    "* \n",
    "\n",
    "#### **Notebook** \n",
    "\n",
    "* [3.0 Generating Sequels to an Existing Comics]()\n",
    "\n",
    "***\n",
    "***"
   ]
  },
  {
   "cell_type": "markdown",
   "metadata": {},
   "source": [
    "### **4.0 Ai Comic Reader**\n",
    "\n",
    "#### **Summary** \n",
    "\n",
    "* \n",
    "\n",
    "#### **Notebook**\n",
    "\n",
    "* [4.0 Ai Comic Reader]()\n",
    "\n",
    "***\n",
    "***"
   ]
  },
  {
   "cell_type": "code",
   "execution_count": null,
   "metadata": {},
   "outputs": [],
   "source": []
  }
 ],
 "metadata": {
  "kernelspec": {
   "display_name": "CV",
   "language": "python",
   "name": "python3"
  },
  "language_info": {
   "codemirror_mode": {
    "name": "ipython",
    "version": 3
   },
   "file_extension": ".py",
   "mimetype": "text/x-python",
   "name": "python",
   "nbconvert_exporter": "python",
   "pygments_lexer": "ipython3",
   "version": "3.9.17"
  },
  "orig_nbformat": 4
 },
 "nbformat": 4,
 "nbformat_minor": 2
}
