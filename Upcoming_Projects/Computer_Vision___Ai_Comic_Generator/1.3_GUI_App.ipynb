{
 "cells": [
  {
   "cell_type": "markdown",
   "metadata": {},
   "source": [
    "* **`App`** - [Ai Comic Generator]()\n",
    "\n",
    "* **`Full Project`** - [Ai Comic Generator](https://github.com/sanskarGupta551/AI_work/tree/main/Portfolio_project___Ai_Comic_Generator) "
   ]
  },
  {
   "cell_type": "markdown",
   "metadata": {},
   "source": [
    "# **1.3 GUI App** \n",
    "\n",
    "* \n",
    "\n",
    "***\n",
    "***"
   ]
  },
  {
   "cell_type": "markdown",
   "metadata": {},
   "source": [
    "## **1. User Inputs** <a id=\"1\"></a> \n",
    "\n",
    "* \n",
    "\n",
    "##### **a. Save Location** :- \n",
    "* An `Text` input. \n",
    "* Additional input used as the destination to save the Generated Comics. "
   ]
  },
  {
   "cell_type": "code",
   "execution_count": null,
   "metadata": {},
   "outputs": [],
   "source": []
  }
 ],
 "metadata": {
  "language_info": {
   "name": "python"
  },
  "orig_nbformat": 4
 },
 "nbformat": 4,
 "nbformat_minor": 2
}
