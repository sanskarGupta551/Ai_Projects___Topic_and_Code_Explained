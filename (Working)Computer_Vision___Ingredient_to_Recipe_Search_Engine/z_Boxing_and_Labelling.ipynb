{
 "cells": [
  {
   "cell_type": "code",
   "execution_count": null,
   "metadata": {},
   "outputs": [],
   "source": [
    "'''\n",
    "# Build a Custom Fruits and Vegetables dataset with 100 ingredients and 100 images per ingredient\n",
    "\n",
    "# Image Labelling (Creating a centralized Repository for Images with Images renamed and their \n",
    "classes noted in a .csv file), \n",
    "\n",
    "# Image Preprocessing (Resizing Images),\n",
    "# Train-Test split (90-10), and \n",
    "# Image Augmentation (Image Datagen and Generators),\n",
    "\n",
    "# Train and Test an Image Classification model using Transfer Learning\n",
    "\n",
    "# Train a recipe Generator Model\n",
    "\n",
    "# Create a system which divides an image into 9-16 parts and runs the model on each part to detect \n",
    "as many fruits and vegetables as possible.\n",
    "'''\n",
    "\n"
   ]
  },
  {
   "cell_type": "code",
   "execution_count": null,
   "metadata": {},
   "outputs": [],
   "source": [
    "import pandas as pd\n",
    "import shutil\n",
    "\n",
    "original_file = 'original_Ingredients_Labels.csv'\n",
    "new_file = 'Ingredients_Labels.csv'\n",
    "\n",
    "shutil.copyfile(original_file, new_file)\n",
    "\n",
    "df = pd.read_csv(\"Ingredients_Labels.csv\")"
   ]
  }
 ],
 "metadata": {
  "language_info": {
   "name": "python"
  },
  "orig_nbformat": 4
 },
 "nbformat": 4,
 "nbformat_minor": 2
}
