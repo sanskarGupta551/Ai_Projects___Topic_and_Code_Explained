{
 "cells": [
  {
   "cell_type": "markdown",
   "metadata": {},
   "source": [
    "* [Long Story Generator (Full Project) @ Git]() "
   ]
  },
  {
   "cell_type": "markdown",
   "metadata": {},
   "source": [
    "# **1. Prompt to Synopsis Generator** (Fine-Tuning) \n",
    "\n",
    "### **Summary** \n",
    "\n",
    "##### Train a `Synopsis Generator` model by `Fine-Tuning` a pre-trained model to generate `Synopsis` using `Prompts`. \n",
    "\n",
    "![Image](https://th.bing.com/th/id/R.62fed4c6ba6af08871ed40c89f4d0a44?rik=bHeTpfghWffTSQ&riu=http%3a%2f%2fsusancushman.com%2fwp-content%2fuploads%2f2012%2f10%2f100_12691.jpg&ehk=u%2fiowcjKxXZcabvS21Q2ExLG0g6YsIK6vJcgkcE7Xxc%3d&risl=&pid=ImgRaw&r=0)\n",
    "\n",
    "'''\n",
    "\n",
    "#### **Process** \n",
    "\n",
    "* [1. Preparing Dataset](#1)\n",
    "* [2. Training Model](#2)\n",
    "* [3. Benchmarking](#5)\n",
    "\n",
    "***\n",
    "***"
   ]
  },
  {
   "cell_type": "markdown",
   "metadata": {},
   "source": [
    "## **a. Preparing Dataset** <a id=\"1\"></a>\n",
    "\n",
    "### **Summary** \n",
    "\n",
    "* Here, we will prepare a Dataset that contains **`High Quality Synopsis`** `(Training Data)` and **`Prompts`** `(Labels)` consisting of **`Elements`** that describe the **`Synopsis`** and help the model establish better **`relation`** between the given **`Prompts`** and the **`Synopsis`** to be generated.\n",
    "\n",
    "'''\n",
    "\n",
    "### **Dataset**\n",
    "* For this purpose we will use the following Dataset - \n",
    "    * [MPST: Movie Plot Synopses with Tags Dataset](https://www.kaggle.com/datasets/cryptexcode/mpst-movie-plot-synopses-with-tags) from [Kaggle](https://www.kaggle.com/) \n",
    "* Download the Dataset from the [link](https://www.kaggle.com/datasets/cryptexcode/mpst-movie-plot-synopses-with-tags) and read it as shown below."
   ]
  },
  {
   "cell_type": "code",
   "execution_count": 1,
   "metadata": {},
   "outputs": [
    {
     "name": "stdout",
     "output_type": "stream",
     "text": [
      "(14828, 6)\n"
     ]
    },
    {
     "data": {
      "text/html": [
       "<div>\n",
       "<style scoped>\n",
       "    .dataframe tbody tr th:only-of-type {\n",
       "        vertical-align: middle;\n",
       "    }\n",
       "\n",
       "    .dataframe tbody tr th {\n",
       "        vertical-align: top;\n",
       "    }\n",
       "\n",
       "    .dataframe thead th {\n",
       "        text-align: right;\n",
       "    }\n",
       "</style>\n",
       "<table border=\"1\" class=\"dataframe\">\n",
       "  <thead>\n",
       "    <tr style=\"text-align: right;\">\n",
       "      <th></th>\n",
       "      <th>imdb_id</th>\n",
       "      <th>title</th>\n",
       "      <th>plot_synopsis</th>\n",
       "      <th>tags</th>\n",
       "      <th>split</th>\n",
       "      <th>synopsis_source</th>\n",
       "    </tr>\n",
       "  </thead>\n",
       "  <tbody>\n",
       "    <tr>\n",
       "      <th>0</th>\n",
       "      <td>tt0057603</td>\n",
       "      <td>I tre volti della paura</td>\n",
       "      <td>Note: this synopsis is for the orginal Italian...</td>\n",
       "      <td>cult, horror, gothic, murder, atmospheric</td>\n",
       "      <td>train</td>\n",
       "      <td>imdb</td>\n",
       "    </tr>\n",
       "    <tr>\n",
       "      <th>1</th>\n",
       "      <td>tt1733125</td>\n",
       "      <td>Dungeons &amp; Dragons: The Book of Vile Darkness</td>\n",
       "      <td>Two thousand years ago, Nhagruul the Foul, a s...</td>\n",
       "      <td>violence</td>\n",
       "      <td>train</td>\n",
       "      <td>imdb</td>\n",
       "    </tr>\n",
       "    <tr>\n",
       "      <th>2</th>\n",
       "      <td>tt0033045</td>\n",
       "      <td>The Shop Around the Corner</td>\n",
       "      <td>Matuschek's, a gift store in Budapest, is the ...</td>\n",
       "      <td>romantic</td>\n",
       "      <td>test</td>\n",
       "      <td>imdb</td>\n",
       "    </tr>\n",
       "    <tr>\n",
       "      <th>3</th>\n",
       "      <td>tt0113862</td>\n",
       "      <td>Mr. Holland's Opus</td>\n",
       "      <td>Glenn Holland, not a morning person by anyone'...</td>\n",
       "      <td>inspiring, romantic, stupid, feel-good</td>\n",
       "      <td>train</td>\n",
       "      <td>imdb</td>\n",
       "    </tr>\n",
       "    <tr>\n",
       "      <th>4</th>\n",
       "      <td>tt0086250</td>\n",
       "      <td>Scarface</td>\n",
       "      <td>In May 1980, a Cuban man named Tony Montana (A...</td>\n",
       "      <td>cruelty, murder, dramatic, cult, violence, atm...</td>\n",
       "      <td>val</td>\n",
       "      <td>imdb</td>\n",
       "    </tr>\n",
       "  </tbody>\n",
       "</table>\n",
       "</div>"
      ],
      "text/plain": [
       "     imdb_id                                          title  \\\n",
       "0  tt0057603                        I tre volti della paura   \n",
       "1  tt1733125  Dungeons & Dragons: The Book of Vile Darkness   \n",
       "2  tt0033045                     The Shop Around the Corner   \n",
       "3  tt0113862                             Mr. Holland's Opus   \n",
       "4  tt0086250                                       Scarface   \n",
       "\n",
       "                                       plot_synopsis  \\\n",
       "0  Note: this synopsis is for the orginal Italian...   \n",
       "1  Two thousand years ago, Nhagruul the Foul, a s...   \n",
       "2  Matuschek's, a gift store in Budapest, is the ...   \n",
       "3  Glenn Holland, not a morning person by anyone'...   \n",
       "4  In May 1980, a Cuban man named Tony Montana (A...   \n",
       "\n",
       "                                                tags  split synopsis_source  \n",
       "0          cult, horror, gothic, murder, atmospheric  train            imdb  \n",
       "1                                           violence  train            imdb  \n",
       "2                                           romantic   test            imdb  \n",
       "3             inspiring, romantic, stupid, feel-good  train            imdb  \n",
       "4  cruelty, murder, dramatic, cult, violence, atm...    val            imdb  "
      ]
     },
     "execution_count": 1,
     "metadata": {},
     "output_type": "execute_result"
    }
   ],
   "source": [
    "import numpy as np \n",
    "import pandas as pd  \n",
    "\n",
    "df = pd.read_csv(\"./Dataset/mpst_full_data.csv\")\n",
    "\n",
    "print(df.shape)\n",
    "df.head()"
   ]
  },
  {
   "cell_type": "markdown",
   "metadata": {},
   "source": [
    "**Notes:**\n",
    "* The Dataset consists of **`plot_synopsis`** which will be our `Training Data`. \n",
    "* It also consists of **`title`** and **`tags`** which will be used in creating **`Prompts`**.\n",
    "\n",
    "'''\n",
    "\n",
    "### **Process**\n",
    "\n",
    "* We will prepare our Dataset in following 5 Steps - \n",
    "\n",
    "1. `Shorten the Synopsis` \n",
    "2. `Generate Context` \n",
    "3. `List and Categorize Tags` \n",
    "4. `Generate Prompts`  \n"
   ]
  },
  {
   "cell_type": "markdown",
   "metadata": {},
   "source": [
    "##### **1. `Shorten the Synopsis`** \n",
    "\n",
    "* We want our model to `generate synopsis` of `similar length` each time. \n",
    "* But as we can see below the `Synopsis length` is all over the place. (click the image to expand it) "
   ]
  },
  {
   "cell_type": "code",
   "execution_count": 2,
   "metadata": {},
   "outputs": [
    {
     "data": {
      "text/html": [
       "<div>\n",
       "<style scoped>\n",
       "    .dataframe tbody tr th:only-of-type {\n",
       "        vertical-align: middle;\n",
       "    }\n",
       "\n",
       "    .dataframe tbody tr th {\n",
       "        vertical-align: top;\n",
       "    }\n",
       "\n",
       "    .dataframe thead th {\n",
       "        text-align: right;\n",
       "    }\n",
       "</style>\n",
       "<table border=\"1\" class=\"dataframe\">\n",
       "  <thead>\n",
       "    <tr style=\"text-align: right;\">\n",
       "      <th></th>\n",
       "      <th>imdb_id</th>\n",
       "      <th>title</th>\n",
       "      <th>plot_synopsis</th>\n",
       "      <th>tags</th>\n",
       "      <th>split</th>\n",
       "      <th>synopsis_source</th>\n",
       "      <th>length</th>\n",
       "    </tr>\n",
       "  </thead>\n",
       "  <tbody>\n",
       "    <tr>\n",
       "      <th>0</th>\n",
       "      <td>tt0057603</td>\n",
       "      <td>I tre volti della paura</td>\n",
       "      <td>Note: this synopsis is for the orginal Italian...</td>\n",
       "      <td>cult, horror, gothic, murder, atmospheric</td>\n",
       "      <td>train</td>\n",
       "      <td>imdb</td>\n",
       "      <td>1315.0</td>\n",
       "    </tr>\n",
       "    <tr>\n",
       "      <th>1</th>\n",
       "      <td>tt1733125</td>\n",
       "      <td>Dungeons &amp; Dragons: The Book of Vile Darkness</td>\n",
       "      <td>Two thousand years ago, Nhagruul the Foul, a s...</td>\n",
       "      <td>violence</td>\n",
       "      <td>train</td>\n",
       "      <td>imdb</td>\n",
       "      <td>378.0</td>\n",
       "    </tr>\n",
       "    <tr>\n",
       "      <th>2</th>\n",
       "      <td>tt0033045</td>\n",
       "      <td>The Shop Around the Corner</td>\n",
       "      <td>Matuschek's, a gift store in Budapest, is the ...</td>\n",
       "      <td>romantic</td>\n",
       "      <td>test</td>\n",
       "      <td>imdb</td>\n",
       "      <td>707.0</td>\n",
       "    </tr>\n",
       "    <tr>\n",
       "      <th>3</th>\n",
       "      <td>tt0113862</td>\n",
       "      <td>Mr. Holland's Opus</td>\n",
       "      <td>Glenn Holland, not a morning person by anyone'...</td>\n",
       "      <td>inspiring, romantic, stupid, feel-good</td>\n",
       "      <td>train</td>\n",
       "      <td>imdb</td>\n",
       "      <td>2317.0</td>\n",
       "    </tr>\n",
       "    <tr>\n",
       "      <th>4</th>\n",
       "      <td>tt0086250</td>\n",
       "      <td>Scarface</td>\n",
       "      <td>In May 1980, a Cuban man named Tony Montana (A...</td>\n",
       "      <td>cruelty, murder, dramatic, cult, violence, atm...</td>\n",
       "      <td>val</td>\n",
       "      <td>imdb</td>\n",
       "      <td>3063.0</td>\n",
       "    </tr>\n",
       "  </tbody>\n",
       "</table>\n",
       "</div>"
      ],
      "text/plain": [
       "     imdb_id                                          title  \\\n",
       "0  tt0057603                        I tre volti della paura   \n",
       "1  tt1733125  Dungeons & Dragons: The Book of Vile Darkness   \n",
       "2  tt0033045                     The Shop Around the Corner   \n",
       "3  tt0113862                             Mr. Holland's Opus   \n",
       "4  tt0086250                                       Scarface   \n",
       "\n",
       "                                       plot_synopsis  \\\n",
       "0  Note: this synopsis is for the orginal Italian...   \n",
       "1  Two thousand years ago, Nhagruul the Foul, a s...   \n",
       "2  Matuschek's, a gift store in Budapest, is the ...   \n",
       "3  Glenn Holland, not a morning person by anyone'...   \n",
       "4  In May 1980, a Cuban man named Tony Montana (A...   \n",
       "\n",
       "                                                tags  split synopsis_source  \\\n",
       "0          cult, horror, gothic, murder, atmospheric  train            imdb   \n",
       "1                                           violence  train            imdb   \n",
       "2                                           romantic   test            imdb   \n",
       "3             inspiring, romantic, stupid, feel-good  train            imdb   \n",
       "4  cruelty, murder, dramatic, cult, violence, atm...    val            imdb   \n",
       "\n",
       "   length  \n",
       "0  1315.0  \n",
       "1   378.0  \n",
       "2   707.0  \n",
       "3  2317.0  \n",
       "4  3063.0  "
      ]
     },
     "execution_count": 2,
     "metadata": {},
     "output_type": "execute_result"
    }
   ],
   "source": [
    "import math\n",
    "import matplotlib.pyplot as plt\n",
    "\n",
    "\n",
    "for i, row in df.iterrows():\n",
    "    df.loc[i, \"length\"]=len(row[\"plot_synopsis\"].split())\n",
    "\n",
    "df.head()"
   ]
  },
  {
   "cell_type": "code",
   "execution_count": 3,
   "metadata": {},
   "outputs": [
    {
     "data": {
      "image/png": "[encoded data removed]",
      "text/plain": [
       "<Figure size 3000x900 with 1 Axes>"
      ]
     },
     "metadata": {},
     "output_type": "display_data"
    }
   ],
   "source": [
    "plt.figure(figsize=(30,9))\n",
    "pd.cut(df[\"length\"], bins=20).value_counts(sort=False).plot.bar(rot=0)\n",
    "plt.xlabel(\"Length\")\n",
    "plt.ylabel(\"Count\")\n",
    "plt.title(\"Plot Synopsis Length\")\n",
    "plt.show()"
   ]
  },
  {
   "cell_type": "markdown",
   "metadata": {},
   "source": [
    "* According to the graph, most `synopsis` are under the length of `1200 words` but some are extremely large (more than `10000 words`). \n",
    "* We need to `restrict` the `length` of the plot synopis. As to why, because - \n",
    "1. **`Model Limitations`** - \n",
    "    * We will be using a `smaller model` for our synopsis generator. \n",
    "    * And maintaining `context` and `coherence` across `small` blocks of generated text is easier. \n",
    "    * Shorter `Training Data` will also `speed` up the `Training` process. \n",
    "2. **`Practical Use`** - \n",
    "    * We will be using the `plot synopsis` only as a `general direction` for the `Story Generator` model rather than a strict path to follow. \n",
    "    * So a `short summary` of the plot synopsis with the most `important parts extracted` will be enough to fulfill this role.\n",
    "\n",
    "* Let's set the ``min length`` to `150 words` restrict the `max length` to `1000 words`. "
   ]
  },
  {
   "cell_type": "code",
   "execution_count": 4,
   "metadata": {},
   "outputs": [
    {
     "name": "stdout",
     "output_type": "stream",
     "text": [
      "(14785, 3)\n"
     ]
    },
    {
     "data": {
      "text/html": [
       "<div>\n",
       "<style scoped>\n",
       "    .dataframe tbody tr th:only-of-type {\n",
       "        vertical-align: middle;\n",
       "    }\n",
       "\n",
       "    .dataframe tbody tr th {\n",
       "        vertical-align: top;\n",
       "    }\n",
       "\n",
       "    .dataframe thead th {\n",
       "        text-align: right;\n",
       "    }\n",
       "</style>\n",
       "<table border=\"1\" class=\"dataframe\">\n",
       "  <thead>\n",
       "    <tr style=\"text-align: right;\">\n",
       "      <th></th>\n",
       "      <th>title</th>\n",
       "      <th>plot_synopsis</th>\n",
       "      <th>tags</th>\n",
       "    </tr>\n",
       "  </thead>\n",
       "  <tbody>\n",
       "    <tr>\n",
       "      <th>0</th>\n",
       "      <td>I tre volti della paura</td>\n",
       "      <td>Note: this synopsis is for the orginal Italian...</td>\n",
       "      <td>cult, horror, gothic, murder, atmospheric</td>\n",
       "    </tr>\n",
       "    <tr>\n",
       "      <th>1</th>\n",
       "      <td>Dungeons &amp; Dragons: The Book of Vile Darkness</td>\n",
       "      <td>Two thousand years ago, Nhagruul the Foul, a s...</td>\n",
       "      <td>violence</td>\n",
       "    </tr>\n",
       "    <tr>\n",
       "      <th>2</th>\n",
       "      <td>The Shop Around the Corner</td>\n",
       "      <td>Matuschek's, a gift store in Budapest, is the ...</td>\n",
       "      <td>romantic</td>\n",
       "    </tr>\n",
       "    <tr>\n",
       "      <th>3</th>\n",
       "      <td>Mr. Holland's Opus</td>\n",
       "      <td>Glenn Holland, not a morning person by anyone'...</td>\n",
       "      <td>inspiring, romantic, stupid, feel-good</td>\n",
       "    </tr>\n",
       "    <tr>\n",
       "      <th>4</th>\n",
       "      <td>Scarface</td>\n",
       "      <td>In May 1980, a Cuban man named Tony Montana (A...</td>\n",
       "      <td>cruelty, murder, dramatic, cult, violence, atm...</td>\n",
       "    </tr>\n",
       "  </tbody>\n",
       "</table>\n",
       "</div>"
      ],
      "text/plain": [
       "                                           title  \\\n",
       "0                        I tre volti della paura   \n",
       "1  Dungeons & Dragons: The Book of Vile Darkness   \n",
       "2                     The Shop Around the Corner   \n",
       "3                             Mr. Holland's Opus   \n",
       "4                                       Scarface   \n",
       "\n",
       "                                       plot_synopsis  \\\n",
       "0  Note: this synopsis is for the orginal Italian...   \n",
       "1  Two thousand years ago, Nhagruul the Foul, a s...   \n",
       "2  Matuschek's, a gift store in Budapest, is the ...   \n",
       "3  Glenn Holland, not a morning person by anyone'...   \n",
       "4  In May 1980, a Cuban man named Tony Montana (A...   \n",
       "\n",
       "                                                tags  \n",
       "0          cult, horror, gothic, murder, atmospheric  \n",
       "1                                           violence  \n",
       "2                                           romantic  \n",
       "3             inspiring, romantic, stupid, feel-good  \n",
       "4  cruelty, murder, dramatic, cult, violence, atm...  "
      ]
     },
     "execution_count": 4,
     "metadata": {},
     "output_type": "execute_result"
    }
   ],
   "source": [
    "for i, row in df.iterrows():\n",
    "    if row[\"length\"]<1001:\n",
    "        if row[\"length\"]<151: df.drop(i, axis=0, inplace=True) \n",
    "        else: pass\n",
    "    else: df.loc[i,\"plot_synopsis\"]=\" \".join(row[\"plot_synopsis\"].split()[:1000])\n",
    "\n",
    "# Dropping irrelevant columns\n",
    "df.drop([\"length\", \"synopsis_source\", \"split\", \"imdb_id\"], axis=1, inplace=True)\n",
    "\n",
    "print(df.shape)\n",
    "df.head()"
   ]
  },
  {
   "cell_type": "markdown",
   "metadata": {},
   "source": [
    "##### **2. `Generate Context`** \n",
    "\n",
    "* `Context` is another `input` that we will take from the `User`. This will help the model understand more about the User preference for `generating story`.\n",
    "* To create `Context`, we will simply use `Abstractive Summarization` over the `plot_synopsis`.  \n",
    "* We use a Pre-trained Model [google/pegasus-xsum](https://huggingface.co/google/pegasus-xsum) from [HuggingFace](https://huggingface.co/) for this purpose. "
   ]
  },
  {
   "cell_type": "code",
   "execution_count": 5,
   "metadata": {},
   "outputs": [
    {
     "name": "stderr",
     "output_type": "stream",
     "text": [
      "Some weights of PegasusForConditionalGeneration were not initialized from the model checkpoint at google/pegasus-xsum and are newly initialized: ['model.encoder.embed_positions.weight', 'model.decoder.embed_positions.weight']\n",
      "You should probably TRAIN this model on a down-stream task to be able to use it for predictions and inference.\n"
     ]
    },
    {
     "name": "stdout",
     "output_type": "stream",
     "text": [
      "Summary: Three horror tales of the macabre and the supernatural known as the 'Three Faces of Fear'.\n"
     ]
    }
   ],
   "source": [
    "from transformers import pipeline\n",
    "from IPython.display import clear_output\n",
    "\n",
    "summarizer = pipeline(\"summarization\", model=\"google/pegasus-xsum\")\n",
    "\n",
    "print(\"Summary: \" + summarizer(df.iloc[0,1][:2000], max_length=51, min_length=5, do_sample=False)[0].get(\"summary_text\"))\n"
   ]
  },
  {
   "cell_type": "markdown",
   "metadata": {},
   "source": [
    "* As this `Dataset` is too `big`, generating context this way will take very-very long.\n",
    "* So we will `divide` the dataset into `4 parts`, `generate context` for each of them, and then `concatenate` them into one dataset.\n",
    "\n",
    "##### **Context Generation - Part 1**"
   ]
  },
  {
   "cell_type": "code",
   "execution_count": 10,
   "metadata": {},
   "outputs": [
    {
     "name": "stdout",
     "output_type": "stream",
     "text": [
      "1.0\n"
     ]
    },
    {
     "data": {
      "text/html": [
       "<div>\n",
       "<style scoped>\n",
       "    .dataframe tbody tr th:only-of-type {\n",
       "        vertical-align: middle;\n",
       "    }\n",
       "\n",
       "    .dataframe tbody tr th {\n",
       "        vertical-align: top;\n",
       "    }\n",
       "\n",
       "    .dataframe thead th {\n",
       "        text-align: right;\n",
       "    }\n",
       "</style>\n",
       "<table border=\"1\" class=\"dataframe\">\n",
       "  <thead>\n",
       "    <tr style=\"text-align: right;\">\n",
       "      <th></th>\n",
       "      <th>title</th>\n",
       "      <th>plot_synopsis</th>\n",
       "      <th>tags</th>\n",
       "      <th>context</th>\n",
       "    </tr>\n",
       "  </thead>\n",
       "  <tbody>\n",
       "    <tr>\n",
       "      <th>0</th>\n",
       "      <td>I tre volti della paura</td>\n",
       "      <td>Note: this synopsis is for the orginal Italian...</td>\n",
       "      <td>cult, horror, gothic, murder, atmospheric</td>\n",
       "      <td>Three horror tales of the macabre and the supe...</td>\n",
       "    </tr>\n",
       "    <tr>\n",
       "      <th>1</th>\n",
       "      <td>Dungeons &amp; Dragons: The Book of Vile Darkness</td>\n",
       "      <td>Two thousand years ago, Nhagruul the Foul, a s...</td>\n",
       "      <td>violence</td>\n",
       "      <td>The Book of Vile Darkness is the story of a so...</td>\n",
       "    </tr>\n",
       "    <tr>\n",
       "      <th>2</th>\n",
       "      <td>The Shop Around the Corner</td>\n",
       "      <td>Matuschek's, a gift store in Budapest, is the ...</td>\n",
       "      <td>romantic</td>\n",
       "      <td>A romantic comedy set in a department store in...</td>\n",
       "    </tr>\n",
       "    <tr>\n",
       "      <th>3</th>\n",
       "      <td>Mr. Holland's Opus</td>\n",
       "      <td>Glenn Holland, not a morning person by anyone'...</td>\n",
       "      <td>inspiring, romantic, stupid, feel-good</td>\n",
       "      <td>In our series of letters from African-American...</td>\n",
       "    </tr>\n",
       "    <tr>\n",
       "      <th>4</th>\n",
       "      <td>Scarface</td>\n",
       "      <td>In May 1980, a Cuban man named Tony Montana (A...</td>\n",
       "      <td>cruelty, murder, dramatic, cult, violence, atm...</td>\n",
       "      <td>Oscar-winning actor Al Pacino stars as Tony Mo...</td>\n",
       "    </tr>\n",
       "  </tbody>\n",
       "</table>\n",
       "</div>"
      ],
      "text/plain": [
       "                                           title  \\\n",
       "0                        I tre volti della paura   \n",
       "1  Dungeons & Dragons: The Book of Vile Darkness   \n",
       "2                     The Shop Around the Corner   \n",
       "3                             Mr. Holland's Opus   \n",
       "4                                       Scarface   \n",
       "\n",
       "                                       plot_synopsis  \\\n",
       "0  Note: this synopsis is for the orginal Italian...   \n",
       "1  Two thousand years ago, Nhagruul the Foul, a s...   \n",
       "2  Matuschek's, a gift store in Budapest, is the ...   \n",
       "3  Glenn Holland, not a morning person by anyone'...   \n",
       "4  In May 1980, a Cuban man named Tony Montana (A...   \n",
       "\n",
       "                                                tags  \\\n",
       "0          cult, horror, gothic, murder, atmospheric   \n",
       "1                                           violence   \n",
       "2                                           romantic   \n",
       "3             inspiring, romantic, stupid, feel-good   \n",
       "4  cruelty, murder, dramatic, cult, violence, atm...   \n",
       "\n",
       "                                             context  \n",
       "0  Three horror tales of the macabre and the supe...  \n",
       "1  The Book of Vile Darkness is the story of a so...  \n",
       "2  A romantic comedy set in a department store in...  \n",
       "3  In our series of letters from African-American...  \n",
       "4  Oscar-winning actor Al Pacino stars as Tony Mo...  "
      ]
     },
     "execution_count": 10,
     "metadata": {},
     "output_type": "execute_result"
    }
   ],
   "source": [
    "mpst_1 = df[:4000]\n",
    "counter=0\n",
    "\n",
    "for i, row in mpst_1.iterrows():\n",
    "    try: mpst_1.loc[i, \"context\"]=summarizer(row[\"plot_synopsis\"][:2000], \n",
    "                                        max_length=51, min_length=5, \n",
    "                                        do_sample=False)[0].get(\"summary_text\")\n",
    "    except: mpst_1.loc[i, \"context\"]=\"\"\n",
    "    counter+=1\n",
    "    clear_output()\n",
    "    print(counter/mpst_1.shape[0])\n",
    "\n",
    "mpst_1.head()"
   ]
  },
  {
   "cell_type": "code",
   "execution_count": 11,
   "metadata": {},
   "outputs": [],
   "source": [
    "mpst_1.to_csv(\"./Dataset/mpst_1.csv\", index=False)"
   ]
  },
  {
   "cell_type": "markdown",
   "metadata": {},
   "source": [
    "##### **Context Generation - Part 2**"
   ]
  },
  {
   "cell_type": "code",
   "execution_count": 12,
   "metadata": {},
   "outputs": [
    {
     "name": "stdout",
     "output_type": "stream",
     "text": [
      "1.0\n"
     ]
    },
    {
     "data": {
      "text/html": [
       "<div>\n",
       "<style scoped>\n",
       "    .dataframe tbody tr th:only-of-type {\n",
       "        vertical-align: middle;\n",
       "    }\n",
       "\n",
       "    .dataframe tbody tr th {\n",
       "        vertical-align: top;\n",
       "    }\n",
       "\n",
       "    .dataframe thead th {\n",
       "        text-align: right;\n",
       "    }\n",
       "</style>\n",
       "<table border=\"1\" class=\"dataframe\">\n",
       "  <thead>\n",
       "    <tr style=\"text-align: right;\">\n",
       "      <th></th>\n",
       "      <th>title</th>\n",
       "      <th>plot_synopsis</th>\n",
       "      <th>tags</th>\n",
       "      <th>context</th>\n",
       "    </tr>\n",
       "  </thead>\n",
       "  <tbody>\n",
       "    <tr>\n",
       "      <th>0</th>\n",
       "      <td>The Black Sleep</td>\n",
       "      <td>The picture opens with narration over a black ...</td>\n",
       "      <td>insanity</td>\n",
       "      <td>Basil Rathbone's film Nind Andhera is based on...</td>\n",
       "    </tr>\n",
       "    <tr>\n",
       "      <th>1</th>\n",
       "      <td>Spun</td>\n",
       "      <td>Ross (Jason Schwartzman) is a regular customer...</td>\n",
       "      <td>pornographic, boring, entertaining</td>\n",
       "      <td>Based on the best-selling novel of the same na...</td>\n",
       "    </tr>\n",
       "    <tr>\n",
       "      <th>2</th>\n",
       "      <td>Tale of a Vampire</td>\n",
       "      <td>Alex [Julian Sands] is a vampire but he drinks...</td>\n",
       "      <td>violence</td>\n",
       "      <td>Based on the novel of the same name by Stephen...</td>\n",
       "    </tr>\n",
       "    <tr>\n",
       "      <th>3</th>\n",
       "      <td>Dark Night of the Scarecrow</td>\n",
       "      <td>In a small nameless town in the Deep South, \"B...</td>\n",
       "      <td>cult, revenge, cruelty, murder, violence</td>\n",
       "      <td>A vigilante drama set in the South in the 1960...</td>\n",
       "    </tr>\n",
       "    <tr>\n",
       "      <th>4</th>\n",
       "      <td>Hitch</td>\n",
       "      <td>The movie opens with Alex Hitchens (Will Smith...</td>\n",
       "      <td>comedy, boring, cute, humor, romantic, enterta...</td>\n",
       "      <td>Will Smith's latest movie \"Hitch\" tells the st...</td>\n",
       "    </tr>\n",
       "  </tbody>\n",
       "</table>\n",
       "</div>"
      ],
      "text/plain": [
       "                         title  \\\n",
       "0              The Black Sleep   \n",
       "1                         Spun   \n",
       "2            Tale of a Vampire   \n",
       "3  Dark Night of the Scarecrow   \n",
       "4                        Hitch   \n",
       "\n",
       "                                       plot_synopsis  \\\n",
       "0  The picture opens with narration over a black ...   \n",
       "1  Ross (Jason Schwartzman) is a regular customer...   \n",
       "2  Alex [Julian Sands] is a vampire but he drinks...   \n",
       "3  In a small nameless town in the Deep South, \"B...   \n",
       "4  The movie opens with Alex Hitchens (Will Smith...   \n",
       "\n",
       "                                                tags  \\\n",
       "0                                           insanity   \n",
       "1                 pornographic, boring, entertaining   \n",
       "2                                           violence   \n",
       "3           cult, revenge, cruelty, murder, violence   \n",
       "4  comedy, boring, cute, humor, romantic, enterta...   \n",
       "\n",
       "                                             context  \n",
       "0  Basil Rathbone's film Nind Andhera is based on...  \n",
       "1  Based on the best-selling novel of the same na...  \n",
       "2  Based on the novel of the same name by Stephen...  \n",
       "3  A vigilante drama set in the South in the 1960...  \n",
       "4  Will Smith's latest movie \"Hitch\" tells the st...  "
      ]
     },
     "execution_count": 12,
     "metadata": {},
     "output_type": "execute_result"
    }
   ],
   "source": [
    "mpst_2 = df[4000:8000]\n",
    "counter=0\n",
    "\n",
    "for i, row in mpst_2.iterrows():\n",
    "    try: mpst_2.loc[i, \"context\"]=summarizer(row[\"plot_synopsis\"][:2000], \n",
    "                                        max_length=51, min_length=5, \n",
    "                                        do_sample=False)[0].get(\"summary_text\")\n",
    "    except: mpst_2.loc[i, \"context\"]=\"\"\n",
    "    counter+=1\n",
    "    clear_output()\n",
    "    print(counter/mpst_2.shape[0])\n",
    "\n",
    "mpst_2.head()"
   ]
  },
  {
   "cell_type": "code",
   "execution_count": 7,
   "metadata": {},
   "outputs": [],
   "source": [
    "mpst_2.to_csv(\"./Dataset/mpst_2.csv\", index=False)"
   ]
  },
  {
   "cell_type": "markdown",
   "metadata": {},
   "source": [
    "##### **Context Generation - Part 3**"
   ]
  },
  {
   "cell_type": "code",
   "execution_count": 11,
   "metadata": {},
   "outputs": [
    {
     "name": "stdout",
     "output_type": "stream",
     "text": [
      "1.0\n"
     ]
    },
    {
     "data": {
      "text/html": [
       "<div>\n",
       "<style scoped>\n",
       "    .dataframe tbody tr th:only-of-type {\n",
       "        vertical-align: middle;\n",
       "    }\n",
       "\n",
       "    .dataframe tbody tr th {\n",
       "        vertical-align: top;\n",
       "    }\n",
       "\n",
       "    .dataframe thead th {\n",
       "        text-align: right;\n",
       "    }\n",
       "</style>\n",
       "<table border=\"1\" class=\"dataframe\">\n",
       "  <thead>\n",
       "    <tr style=\"text-align: right;\">\n",
       "      <th></th>\n",
       "      <th>title</th>\n",
       "      <th>plot_synopsis</th>\n",
       "      <th>tags</th>\n",
       "      <th>context</th>\n",
       "    </tr>\n",
       "  </thead>\n",
       "  <tbody>\n",
       "    <tr>\n",
       "      <th>8025</th>\n",
       "      <td>The Killer Is Loose</td>\n",
       "      <td>An employee of a savings and loan company succ...</td>\n",
       "      <td>revenge, murder</td>\n",
       "      <td>The story of a bank robber who goes on the run...</td>\n",
       "    </tr>\n",
       "    <tr>\n",
       "      <th>8026</th>\n",
       "      <td>Antiviral</td>\n",
       "      <td>In a dystopian near-future, Syd March (Caleb L...</td>\n",
       "      <td>psychedelic, satire</td>\n",
       "      <td>A thriller set in a dystopian future in which ...</td>\n",
       "    </tr>\n",
       "    <tr>\n",
       "      <th>8027</th>\n",
       "      <td>Next</td>\n",
       "      <td>Cris Johnson (Nicolas Cage) can see into his f...</td>\n",
       "      <td>psychedelic</td>\n",
       "      <td>A magician's ability to see into the future is...</td>\n",
       "    </tr>\n",
       "    <tr>\n",
       "      <th>8028</th>\n",
       "      <td>Miss Potter</td>\n",
       "      <td>The story begins with Beatrix Potter nervously...</td>\n",
       "      <td>fantasy, storytelling, flashback</td>\n",
       "      <td>Beatrix Potter's first book, The Tale of Beatr...</td>\n",
       "    </tr>\n",
       "    <tr>\n",
       "      <th>8029</th>\n",
       "      <td>Shurayukihime</td>\n",
       "      <td>The scenes of this film do not appear in chron...</td>\n",
       "      <td>murder, cult, violence, flashback, good versus...</td>\n",
       "      <td>The story of Shura Yuki-hime, the woman who ki...</td>\n",
       "    </tr>\n",
       "  </tbody>\n",
       "</table>\n",
       "</div>"
      ],
      "text/plain": [
       "                    title                                      plot_synopsis  \\\n",
       "8025  The Killer Is Loose  An employee of a savings and loan company succ...   \n",
       "8026            Antiviral  In a dystopian near-future, Syd March (Caleb L...   \n",
       "8027                 Next  Cris Johnson (Nicolas Cage) can see into his f...   \n",
       "8028          Miss Potter  The story begins with Beatrix Potter nervously...   \n",
       "8029        Shurayukihime  The scenes of this film do not appear in chron...   \n",
       "\n",
       "                                                   tags  \\\n",
       "8025                                    revenge, murder   \n",
       "8026                                psychedelic, satire   \n",
       "8027                                        psychedelic   \n",
       "8028                   fantasy, storytelling, flashback   \n",
       "8029  murder, cult, violence, flashback, good versus...   \n",
       "\n",
       "                                                context  \n",
       "8025  The story of a bank robber who goes on the run...  \n",
       "8026  A thriller set in a dystopian future in which ...  \n",
       "8027  A magician's ability to see into the future is...  \n",
       "8028  Beatrix Potter's first book, The Tale of Beatr...  \n",
       "8029  The story of Shura Yuki-hime, the woman who ki...  "
      ]
     },
     "execution_count": 11,
     "metadata": {},
     "output_type": "execute_result"
    }
   ],
   "source": [
    "mpst_3 = df[8000:12000]\n",
    "counter=0\n",
    "\n",
    "for i, row in mpst_3.iterrows():\n",
    "    try: mpst_3.loc[i, \"context\"]=summarizer(row[\"plot_synopsis\"][:2000], \n",
    "                                        max_length=51, min_length=5, \n",
    "                                        do_sample=False)[0].get(\"summary_text\")\n",
    "    except: mpst_3.loc[i, \"context\"]=\"\"\n",
    "    counter+=1\n",
    "    clear_output()\n",
    "    print(counter/mpst_3.shape[0])\n",
    "\n",
    "mpst_3.head()"
   ]
  },
  {
   "cell_type": "code",
   "execution_count": 12,
   "metadata": {},
   "outputs": [],
   "source": [
    "mpst_3.to_csv(\"./Dataset/mpst_3.csv\", index=False)"
   ]
  },
  {
   "cell_type": "markdown",
   "metadata": {},
   "source": [
    "##### **Context Generation - Part 4**"
   ]
  },
  {
   "cell_type": "code",
   "execution_count": 6,
   "metadata": {},
   "outputs": [
    {
     "name": "stdout",
     "output_type": "stream",
     "text": [
      "1.0\n"
     ]
    },
    {
     "data": {
      "text/html": [
       "<div>\n",
       "<style scoped>\n",
       "    .dataframe tbody tr th:only-of-type {\n",
       "        vertical-align: middle;\n",
       "    }\n",
       "\n",
       "    .dataframe tbody tr th {\n",
       "        vertical-align: top;\n",
       "    }\n",
       "\n",
       "    .dataframe thead th {\n",
       "        text-align: right;\n",
       "    }\n",
       "</style>\n",
       "<table border=\"1\" class=\"dataframe\">\n",
       "  <thead>\n",
       "    <tr style=\"text-align: right;\">\n",
       "      <th></th>\n",
       "      <th>title</th>\n",
       "      <th>plot_synopsis</th>\n",
       "      <th>tags</th>\n",
       "      <th>context</th>\n",
       "    </tr>\n",
       "  </thead>\n",
       "  <tbody>\n",
       "    <tr>\n",
       "      <th>12036</th>\n",
       "      <td>Doragon bôru Z: Tatta hitori no saishû kessen ...</td>\n",
       "      <td>Dragon Ball Z picks up five years after the en...</td>\n",
       "      <td>tragedy, violence</td>\n",
       "      <td>Dragon Ball Z is the fifth anime in the Dragon...</td>\n",
       "    </tr>\n",
       "    <tr>\n",
       "      <th>12037</th>\n",
       "      <td>Broken Trail</td>\n",
       "      <td>Part 1 In San Francisco in 1898, countless Chi...</td>\n",
       "      <td>romantic, murder</td>\n",
       "      <td>A Western set in the American West in the earl...</td>\n",
       "    </tr>\n",
       "    <tr>\n",
       "      <th>12038</th>\n",
       "      <td>The Jetsons Meet the Flintstones</td>\n",
       "      <td>In the future, while Elroy is busy working on ...</td>\n",
       "      <td>alternate history</td>\n",
       "      <td>In the Stone Age, Fred and Barney are trying t...</td>\n",
       "    </tr>\n",
       "    <tr>\n",
       "      <th>12039</th>\n",
       "      <td>Captain Barbell</td>\n",
       "      <td>In every version of the story, major changes i...</td>\n",
       "      <td>good versus evil</td>\n",
       "      <td>Captain Barbell is one of the most popular sup...</td>\n",
       "    </tr>\n",
       "    <tr>\n",
       "      <th>12040</th>\n",
       "      <td>Ying hung boon sik</td>\n",
       "      <td>Sung Tse-Ho (Ti Lung) works for the Triad, who...</td>\n",
       "      <td>comedy, cruelty, murder, violence, cult, flash...</td>\n",
       "      <td>The film tells the story of a high-ranking mem...</td>\n",
       "    </tr>\n",
       "  </tbody>\n",
       "</table>\n",
       "</div>"
      ],
      "text/plain": [
       "                                                   title  \\\n",
       "12036  Doragon bôru Z: Tatta hitori no saishû kessen ...   \n",
       "12037                                       Broken Trail   \n",
       "12038                   The Jetsons Meet the Flintstones   \n",
       "12039                                    Captain Barbell   \n",
       "12040                                 Ying hung boon sik   \n",
       "\n",
       "                                           plot_synopsis  \\\n",
       "12036  Dragon Ball Z picks up five years after the en...   \n",
       "12037  Part 1 In San Francisco in 1898, countless Chi...   \n",
       "12038  In the future, while Elroy is busy working on ...   \n",
       "12039  In every version of the story, major changes i...   \n",
       "12040  Sung Tse-Ho (Ti Lung) works for the Triad, who...   \n",
       "\n",
       "                                                    tags  \\\n",
       "12036                                  tragedy, violence   \n",
       "12037                                   romantic, murder   \n",
       "12038                                  alternate history   \n",
       "12039                                   good versus evil   \n",
       "12040  comedy, cruelty, murder, violence, cult, flash...   \n",
       "\n",
       "                                                 context  \n",
       "12036  Dragon Ball Z is the fifth anime in the Dragon...  \n",
       "12037  A Western set in the American West in the earl...  \n",
       "12038  In the Stone Age, Fred and Barney are trying t...  \n",
       "12039  Captain Barbell is one of the most popular sup...  \n",
       "12040  The film tells the story of a high-ranking mem...  "
      ]
     },
     "execution_count": 6,
     "metadata": {},
     "output_type": "execute_result"
    }
   ],
   "source": [
    "mpst_4 = df[12000:]\n",
    "counter=0\n",
    "\n",
    "for i, row in mpst_4.iterrows():\n",
    "    try: mpst_4.loc[i, \"context\"]=summarizer(row[\"plot_synopsis\"][:2000], \n",
    "                                        max_length=51, min_length=5, \n",
    "                                        do_sample=False)[0].get(\"summary_text\")\n",
    "    except: mpst_4.loc[i, \"context\"]=\"\"\n",
    "    counter+=1\n",
    "    clear_output()\n",
    "    print(counter/mpst_4.shape[0])\n",
    "\n",
    "mpst_4.head()"
   ]
  },
  {
   "cell_type": "code",
   "execution_count": 7,
   "metadata": {},
   "outputs": [],
   "source": [
    "mpst_4.to_csv(\"./Dataset/mpst_4.csv\", index=False)"
   ]
  },
  {
   "cell_type": "markdown",
   "metadata": {},
   "source": [
    "##### **Concatenating all 4 Parts**"
   ]
  },
  {
   "cell_type": "code",
   "execution_count": 1,
   "metadata": {},
   "outputs": [
    {
     "name": "stdout",
     "output_type": "stream",
     "text": [
      "(14785, 4)\n"
     ]
    },
    {
     "data": {
      "text/html": [
       "<div>\n",
       "<style scoped>\n",
       "    .dataframe tbody tr th:only-of-type {\n",
       "        vertical-align: middle;\n",
       "    }\n",
       "\n",
       "    .dataframe tbody tr th {\n",
       "        vertical-align: top;\n",
       "    }\n",
       "\n",
       "    .dataframe thead th {\n",
       "        text-align: right;\n",
       "    }\n",
       "</style>\n",
       "<table border=\"1\" class=\"dataframe\">\n",
       "  <thead>\n",
       "    <tr style=\"text-align: right;\">\n",
       "      <th></th>\n",
       "      <th>title</th>\n",
       "      <th>plot_synopsis</th>\n",
       "      <th>tags</th>\n",
       "      <th>context</th>\n",
       "    </tr>\n",
       "  </thead>\n",
       "  <tbody>\n",
       "    <tr>\n",
       "      <th>0</th>\n",
       "      <td>I tre volti della paura</td>\n",
       "      <td>Note: this synopsis is for the orginal Italian...</td>\n",
       "      <td>cult, horror, gothic, murder, atmospheric</td>\n",
       "      <td>Three horror tales of the macabre and the supe...</td>\n",
       "    </tr>\n",
       "    <tr>\n",
       "      <th>1</th>\n",
       "      <td>Dungeons &amp; Dragons: The Book of Vile Darkness</td>\n",
       "      <td>Two thousand years ago, Nhagruul the Foul, a s...</td>\n",
       "      <td>violence</td>\n",
       "      <td>The Book of Vile Darkness is the story of a so...</td>\n",
       "    </tr>\n",
       "    <tr>\n",
       "      <th>2</th>\n",
       "      <td>The Shop Around the Corner</td>\n",
       "      <td>Matuschek's, a gift store in Budapest, is the ...</td>\n",
       "      <td>romantic</td>\n",
       "      <td>A romantic comedy set in a department store in...</td>\n",
       "    </tr>\n",
       "    <tr>\n",
       "      <th>3</th>\n",
       "      <td>Mr. Holland's Opus</td>\n",
       "      <td>Glenn Holland, not a morning person by anyone'...</td>\n",
       "      <td>inspiring, romantic, stupid, feel-good</td>\n",
       "      <td>In our series of letters from African-American...</td>\n",
       "    </tr>\n",
       "    <tr>\n",
       "      <th>4</th>\n",
       "      <td>Scarface</td>\n",
       "      <td>In May 1980, a Cuban man named Tony Montana (A...</td>\n",
       "      <td>cruelty, murder, dramatic, cult, violence, atm...</td>\n",
       "      <td>Oscar-winning actor Al Pacino stars as Tony Mo...</td>\n",
       "    </tr>\n",
       "  </tbody>\n",
       "</table>\n",
       "</div>"
      ],
      "text/plain": [
       "                                           title  \\\n",
       "0                        I tre volti della paura   \n",
       "1  Dungeons & Dragons: The Book of Vile Darkness   \n",
       "2                     The Shop Around the Corner   \n",
       "3                             Mr. Holland's Opus   \n",
       "4                                       Scarface   \n",
       "\n",
       "                                       plot_synopsis  \\\n",
       "0  Note: this synopsis is for the orginal Italian...   \n",
       "1  Two thousand years ago, Nhagruul the Foul, a s...   \n",
       "2  Matuschek's, a gift store in Budapest, is the ...   \n",
       "3  Glenn Holland, not a morning person by anyone'...   \n",
       "4  In May 1980, a Cuban man named Tony Montana (A...   \n",
       "\n",
       "                                                tags  \\\n",
       "0          cult, horror, gothic, murder, atmospheric   \n",
       "1                                           violence   \n",
       "2                                           romantic   \n",
       "3             inspiring, romantic, stupid, feel-good   \n",
       "4  cruelty, murder, dramatic, cult, violence, atm...   \n",
       "\n",
       "                                             context  \n",
       "0  Three horror tales of the macabre and the supe...  \n",
       "1  The Book of Vile Darkness is the story of a so...  \n",
       "2  A romantic comedy set in a department store in...  \n",
       "3  In our series of letters from African-American...  \n",
       "4  Oscar-winning actor Al Pacino stars as Tony Mo...  "
      ]
     },
     "execution_count": 1,
     "metadata": {},
     "output_type": "execute_result"
    }
   ],
   "source": [
    "import pandas as pd\n",
    "\n",
    "mpst_1=pd.read_csv(\"./Dataset/mpst_1.csv\")\n",
    "mpst_2=pd.read_csv(\"./Dataset/mpst_2.csv\")\n",
    "mpst_3=pd.read_csv(\"./Dataset/mpst_3.csv\")\n",
    "mpst_4=pd.read_csv(\"./Dataset/mpst_4.csv\")\n",
    "\n",
    "mpst=pd.concat([mpst_1, mpst_2, mpst_3, mpst_4], ignore_index=True)\n",
    "\n",
    "print(mpst.shape)\n",
    "mpst.head()"
   ]
  },
  {
   "cell_type": "markdown",
   "metadata": {},
   "source": [
    "##### **Removing null values in Context**"
   ]
  },
  {
   "cell_type": "code",
   "execution_count": 2,
   "metadata": {},
   "outputs": [
    {
     "name": "stdout",
     "output_type": "stream",
     "text": [
      "(14785, 4)\n"
     ]
    }
   ],
   "source": [
    "for i, row in mpst.iterrows():\n",
    "    if row[\"context\"]==\"\" or row[\"context\"]==None: df.drop(i, axis=0, inplace=True)\n",
    "\n",
    "print(mpst.shape)"
   ]
  },
  {
   "cell_type": "code",
   "execution_count": 3,
   "metadata": {},
   "outputs": [],
   "source": [
    "mpst.to_csv(\"./Dataset/mpst.csv\", index=False)"
   ]
  },
  {
   "cell_type": "markdown",
   "metadata": {},
   "source": [
    "##### **3. `List and Categorize Tags`** \n",
    "\n",
    "* In this dataset, we have a column named `tags` which contains various tags that describe the Genre, Style, Tone, Mood and Theme of the Synopsis.\n",
    "* Here, we will make a list of all the unique tags used in the dataset.\n",
    "* Then, we will also divide the list into 5 sub-list of Genre, Style, Tone, Mood and Theme.\n",
    "* This will be done to make it easier for us to locate the tags and implement the User Input in App UI."
   ]
  },
  {
   "cell_type": "code",
   "execution_count": 1,
   "metadata": {},
   "outputs": [
    {
     "name": "stdout",
     "output_type": "stream",
     "text": [
      "(14785, 4)\n"
     ]
    },
    {
     "data": {
      "text/html": [
       "<div>\n",
       "<style scoped>\n",
       "    .dataframe tbody tr th:only-of-type {\n",
       "        vertical-align: middle;\n",
       "    }\n",
       "\n",
       "    .dataframe tbody tr th {\n",
       "        vertical-align: top;\n",
       "    }\n",
       "\n",
       "    .dataframe thead th {\n",
       "        text-align: right;\n",
       "    }\n",
       "</style>\n",
       "<table border=\"1\" class=\"dataframe\">\n",
       "  <thead>\n",
       "    <tr style=\"text-align: right;\">\n",
       "      <th></th>\n",
       "      <th>title</th>\n",
       "      <th>plot_synopsis</th>\n",
       "      <th>tags</th>\n",
       "      <th>context</th>\n",
       "    </tr>\n",
       "  </thead>\n",
       "  <tbody>\n",
       "    <tr>\n",
       "      <th>0</th>\n",
       "      <td>I tre volti della paura</td>\n",
       "      <td>Note: this synopsis is for the orginal Italian...</td>\n",
       "      <td>cult, horror, gothic, murder, atmospheric</td>\n",
       "      <td>Three horror tales of the macabre and the supe...</td>\n",
       "    </tr>\n",
       "    <tr>\n",
       "      <th>1</th>\n",
       "      <td>Dungeons &amp; Dragons: The Book of Vile Darkness</td>\n",
       "      <td>Two thousand years ago, Nhagruul the Foul, a s...</td>\n",
       "      <td>violence</td>\n",
       "      <td>The Book of Vile Darkness is the story of a so...</td>\n",
       "    </tr>\n",
       "    <tr>\n",
       "      <th>2</th>\n",
       "      <td>The Shop Around the Corner</td>\n",
       "      <td>Matuschek's, a gift store in Budapest, is the ...</td>\n",
       "      <td>romantic</td>\n",
       "      <td>A romantic comedy set in a department store in...</td>\n",
       "    </tr>\n",
       "    <tr>\n",
       "      <th>3</th>\n",
       "      <td>Mr. Holland's Opus</td>\n",
       "      <td>Glenn Holland, not a morning person by anyone'...</td>\n",
       "      <td>inspiring, romantic, stupid, feel-good</td>\n",
       "      <td>In our series of letters from African-American...</td>\n",
       "    </tr>\n",
       "    <tr>\n",
       "      <th>4</th>\n",
       "      <td>Scarface</td>\n",
       "      <td>In May 1980, a Cuban man named Tony Montana (A...</td>\n",
       "      <td>cruelty, murder, dramatic, cult, violence, atm...</td>\n",
       "      <td>Oscar-winning actor Al Pacino stars as Tony Mo...</td>\n",
       "    </tr>\n",
       "  </tbody>\n",
       "</table>\n",
       "</div>"
      ],
      "text/plain": [
       "                                           title  \\\n",
       "0                        I tre volti della paura   \n",
       "1  Dungeons & Dragons: The Book of Vile Darkness   \n",
       "2                     The Shop Around the Corner   \n",
       "3                             Mr. Holland's Opus   \n",
       "4                                       Scarface   \n",
       "\n",
       "                                       plot_synopsis  \\\n",
       "0  Note: this synopsis is for the orginal Italian...   \n",
       "1  Two thousand years ago, Nhagruul the Foul, a s...   \n",
       "2  Matuschek's, a gift store in Budapest, is the ...   \n",
       "3  Glenn Holland, not a morning person by anyone'...   \n",
       "4  In May 1980, a Cuban man named Tony Montana (A...   \n",
       "\n",
       "                                                tags  \\\n",
       "0          cult, horror, gothic, murder, atmospheric   \n",
       "1                                           violence   \n",
       "2                                           romantic   \n",
       "3             inspiring, romantic, stupid, feel-good   \n",
       "4  cruelty, murder, dramatic, cult, violence, atm...   \n",
       "\n",
       "                                             context  \n",
       "0  Three horror tales of the macabre and the supe...  \n",
       "1  The Book of Vile Darkness is the story of a so...  \n",
       "2  A romantic comedy set in a department store in...  \n",
       "3  In our series of letters from African-American...  \n",
       "4  Oscar-winning actor Al Pacino stars as Tony Mo...  "
      ]
     },
     "execution_count": 1,
     "metadata": {},
     "output_type": "execute_result"
    }
   ],
   "source": [
    "import pandas as pd \n",
    "\n",
    "df=pd.read_csv(\"./Dataset/mpst.csv\")\n",
    "\n",
    "print(df.shape)\n",
    "df.head()"
   ]
  },
  {
   "cell_type": "code",
   "execution_count": 2,
   "metadata": {},
   "outputs": [
    {
     "name": "stdout",
     "output_type": "stream",
     "text": [
      "71\n",
      "['absurd', 'action', 'adult comedy', 'allegory', 'alternate history', 'alternate reality', 'anti war', 'atmospheric', 'autobiographical', 'avant garde', 'blaxploitation', 'bleak', 'boring', 'brainwashing', 'christian film', 'claustrophobic', 'clever', 'comedy', 'comic', 'cruelty', 'cult', 'cute', 'dark', 'depressing', 'dramatic', 'entertaining', 'fantasy', 'feel-good', 'flashback', 'good versus evil', 'gothic', 'grindhouse film', 'haunting', 'historical', 'historical fiction', 'home movie', 'horror', 'humor', 'insanity', 'inspiring', 'intrigue', 'magical realism', 'melodrama', 'murder', 'mystery', 'neo noir', 'non fiction', 'paranormal', 'philosophical', 'plot twist', 'pornographic', 'prank', 'psychedelic', 'psychological', 'queer', 'realism', 'revenge', 'romantic', 'sadist', 'satire', 'sci-fi', 'sentimental', 'storytelling', 'stupid', 'suicidal', 'suspenseful', 'thought-provoking', 'tragedy', 'violence', 'western', 'whimsical']\n"
     ]
    }
   ],
   "source": [
    "tags_column = df.iloc[:, 2].to_list() \n",
    "for i in range(len(tags_column)):\n",
    "    tags_column[i] = tags_column[i].split(\", \")\n",
    "\n",
    "tags_list=list() \n",
    "for sublist in tags_column:\n",
    "    for string in sublist:\n",
    "        tags_list.append(string)\n",
    "\n",
    "tags=set(tags_list)\n",
    "tags=sorted(list(tags))\n",
    "\n",
    "print(len(tags))\n",
    "print(tags)"
   ]
  },
  {
   "cell_type": "code",
   "execution_count": 3,
   "metadata": {},
   "outputs": [
    {
     "name": "stdout",
     "output_type": "stream",
     "text": [
      "71\n"
     ]
    }
   ],
   "source": [
    "tags=['absurd', 'action', 'adult comedy', 'allegory', 'alternate history', 'alternate reality', \n",
    "'anti war', 'atmospheric', 'autobiographical', 'avant garde', 'blaxploitation', 'bleak', 'boring', \n",
    "'brainwashing', 'christian film', 'claustrophobic', 'clever', 'comedy', 'comic', 'cruelty', 'cult', \n",
    "'cute', 'dark', 'depressing', 'dramatic', 'entertaining', 'fantasy', 'feel-good', 'flashback', \n",
    "'good versus evil', 'gothic', 'grindhouse film', 'haunting', 'historical', 'historical fiction', \n",
    "'home movie', 'horror', 'humor', 'insanity', 'inspiring', 'intrigue', 'magical realism', 'melodrama', \n",
    "'murder', 'mystery', 'neo noir', 'non fiction', 'paranormal', 'philosophical', 'plot twist', \n",
    "'pornographic', 'prank', 'psychedelic', 'psychological', 'queer', 'realism', 'revenge', 'romantic', \n",
    "'sadist', 'satire', 'sci-fi', 'sentimental', 'storytelling', 'stupid', 'suicidal', 'suspenseful', \n",
    "'thought-provoking', 'tragedy', 'violence', 'western', 'whimsical']\n",
    "\n",
    "print(len(tags)) "
   ]
  },
  {
   "cell_type": "code",
   "execution_count": 4,
   "metadata": {},
   "outputs": [],
   "source": [
    "genre=['action', 'adult comedy', 'alternate history', 'alternate reality', 'blaxploitation', \n",
    "        'christian film', 'horror', 'mystery', 'non fiction', 'paranormal', 'pornographic', \n",
    "        'sci-fi', 'western']\n",
    "style=['avant garde', 'boring', 'grindhouse film', 'humor', 'insanity', 'intrigue', 'magical realism', \n",
    "        'melodrama', 'murder', 'neo noir', 'plot twist', 'psychedelic', 'queer', 'realism', 'satire', \n",
    "        'sentimental', 'storytelling']\n",
    "tone=['absurd', 'allegory', 'anti war', 'autobiographical', 'bleak', 'brainwashing', 'dark', 'depressing', \n",
    "      'dramatic', 'entertaining', 'feel-good', 'historical fiction', 'inspiring', 'thought-provoking', \n",
    "      'whimsical']\n",
    "mood=['atmospheric', 'claustrophobic', 'haunting', 'historical', 'home movie', 'philosophical', 'prank', \n",
    "      'psychological', 'sadist', 'stupid', 'suspenseful', 'violence']\n",
    "theme=['clever', 'comedy', 'comic', 'cruelty', 'cult', 'cute', 'fantasy', 'flashback', 'good versus evil', \n",
    "       'gothic', 'revenge', 'romantic', 'suicidal', 'tragedy']"
   ]
  },
  {
   "cell_type": "markdown",
   "metadata": {},
   "source": [
    "##### **4. `Generating Prompts`** \n",
    "\n",
    "* Finally, we will take the labels we have namely - Title, tags, and Context to form a single label named Prompts."
   ]
  },
  {
   "cell_type": "code",
   "execution_count": 5,
   "metadata": {},
   "outputs": [],
   "source": [
    "def prompt_generator_per_row(title, context, tags): \n",
    "    prompt=(f\"Generate a Synopsis titled:- {title}. \" + \n",
    "            f\"Context: {context} \" + \n",
    "            f\"Tags: {tags}.\")\n",
    "    return prompt"
   ]
  },
  {
   "cell_type": "code",
   "execution_count": 6,
   "metadata": {},
   "outputs": [
    {
     "data": {
      "text/html": [
       "<div>\n",
       "<style scoped>\n",
       "    .dataframe tbody tr th:only-of-type {\n",
       "        vertical-align: middle;\n",
       "    }\n",
       "\n",
       "    .dataframe tbody tr th {\n",
       "        vertical-align: top;\n",
       "    }\n",
       "\n",
       "    .dataframe thead th {\n",
       "        text-align: right;\n",
       "    }\n",
       "</style>\n",
       "<table border=\"1\" class=\"dataframe\">\n",
       "  <thead>\n",
       "    <tr style=\"text-align: right;\">\n",
       "      <th></th>\n",
       "      <th>title</th>\n",
       "      <th>plot_synopsis</th>\n",
       "      <th>tags</th>\n",
       "      <th>context</th>\n",
       "      <th>prompt</th>\n",
       "    </tr>\n",
       "  </thead>\n",
       "  <tbody>\n",
       "    <tr>\n",
       "      <th>0</th>\n",
       "      <td>I tre volti della paura</td>\n",
       "      <td>Note: this synopsis is for the orginal Italian...</td>\n",
       "      <td>cult, horror, gothic, murder, atmospheric</td>\n",
       "      <td>Three horror tales of the macabre and the supe...</td>\n",
       "      <td>Generate a Synopsis titled:- I tre volti della...</td>\n",
       "    </tr>\n",
       "    <tr>\n",
       "      <th>1</th>\n",
       "      <td>Dungeons &amp; Dragons: The Book of Vile Darkness</td>\n",
       "      <td>Two thousand years ago, Nhagruul the Foul, a s...</td>\n",
       "      <td>violence</td>\n",
       "      <td>The Book of Vile Darkness is the story of a so...</td>\n",
       "      <td>Generate a Synopsis titled:- Dungeons &amp; Dragon...</td>\n",
       "    </tr>\n",
       "    <tr>\n",
       "      <th>2</th>\n",
       "      <td>The Shop Around the Corner</td>\n",
       "      <td>Matuschek's, a gift store in Budapest, is the ...</td>\n",
       "      <td>romantic</td>\n",
       "      <td>A romantic comedy set in a department store in...</td>\n",
       "      <td>Generate a Synopsis titled:- The Shop Around t...</td>\n",
       "    </tr>\n",
       "    <tr>\n",
       "      <th>3</th>\n",
       "      <td>Mr. Holland's Opus</td>\n",
       "      <td>Glenn Holland, not a morning person by anyone'...</td>\n",
       "      <td>inspiring, romantic, stupid, feel-good</td>\n",
       "      <td>In our series of letters from African-American...</td>\n",
       "      <td>Generate a Synopsis titled:- Mr. Holland's Opu...</td>\n",
       "    </tr>\n",
       "    <tr>\n",
       "      <th>4</th>\n",
       "      <td>Scarface</td>\n",
       "      <td>In May 1980, a Cuban man named Tony Montana (A...</td>\n",
       "      <td>cruelty, murder, dramatic, cult, violence, atm...</td>\n",
       "      <td>Oscar-winning actor Al Pacino stars as Tony Mo...</td>\n",
       "      <td>Generate a Synopsis titled:- Scarface. Context...</td>\n",
       "    </tr>\n",
       "  </tbody>\n",
       "</table>\n",
       "</div>"
      ],
      "text/plain": [
       "                                           title  \\\n",
       "0                        I tre volti della paura   \n",
       "1  Dungeons & Dragons: The Book of Vile Darkness   \n",
       "2                     The Shop Around the Corner   \n",
       "3                             Mr. Holland's Opus   \n",
       "4                                       Scarface   \n",
       "\n",
       "                                       plot_synopsis  \\\n",
       "0  Note: this synopsis is for the orginal Italian...   \n",
       "1  Two thousand years ago, Nhagruul the Foul, a s...   \n",
       "2  Matuschek's, a gift store in Budapest, is the ...   \n",
       "3  Glenn Holland, not a morning person by anyone'...   \n",
       "4  In May 1980, a Cuban man named Tony Montana (A...   \n",
       "\n",
       "                                                tags  \\\n",
       "0          cult, horror, gothic, murder, atmospheric   \n",
       "1                                           violence   \n",
       "2                                           romantic   \n",
       "3             inspiring, romantic, stupid, feel-good   \n",
       "4  cruelty, murder, dramatic, cult, violence, atm...   \n",
       "\n",
       "                                             context  \\\n",
       "0  Three horror tales of the macabre and the supe...   \n",
       "1  The Book of Vile Darkness is the story of a so...   \n",
       "2  A romantic comedy set in a department store in...   \n",
       "3  In our series of letters from African-American...   \n",
       "4  Oscar-winning actor Al Pacino stars as Tony Mo...   \n",
       "\n",
       "                                              prompt  \n",
       "0  Generate a Synopsis titled:- I tre volti della...  \n",
       "1  Generate a Synopsis titled:- Dungeons & Dragon...  \n",
       "2  Generate a Synopsis titled:- The Shop Around t...  \n",
       "3  Generate a Synopsis titled:- Mr. Holland's Opu...  \n",
       "4  Generate a Synopsis titled:- Scarface. Context...  "
      ]
     },
     "execution_count": 6,
     "metadata": {},
     "output_type": "execute_result"
    }
   ],
   "source": [
    "for i, row in df.iterrows():\n",
    "    df.loc[i, \"prompt\"]=prompt_generator_per_row(title=row[\"title\"], \n",
    "                                                 context=row[\"context\"], \n",
    "                                                 tags=row[\"tags\"]) \n",
    "\n",
    "df.head()"
   ]
  },
  {
   "cell_type": "code",
   "execution_count": 10,
   "metadata": {},
   "outputs": [
    {
     "data": {
      "text/plain": [
       "'Generate a Synopsis titled:- The Men Who Stare at Goats. Context: Based on the best-selling novel of the same name by Dave Eggers and directed by Eggers himself, The Heartbreak Kid is a comedy about a newspaper reporter who decides to go to Iraq in order to get the perfect scoop. Tags: comedy, boring, historical fiction, flashback, absurd, humor, satire.'"
      ]
     },
     "execution_count": 10,
     "metadata": {},
     "output_type": "execute_result"
    }
   ],
   "source": [
    "df.iloc[59,4]"
   ]
  },
  {
   "cell_type": "markdown",
   "metadata": {},
   "source": [
    "##### **5. `Dropping irrelevant columns`** \n",
    "\n",
    "* Keeping only our Training Data `plot_synopsis` and label `prompt`, we will drop rest of the columns."
   ]
  },
  {
   "cell_type": "code",
   "execution_count": 14,
   "metadata": {},
   "outputs": [
    {
     "name": "stdout",
     "output_type": "stream",
     "text": [
      "(14785, 2)\n"
     ]
    },
    {
     "data": {
      "text/html": [
       "<div>\n",
       "<style scoped>\n",
       "    .dataframe tbody tr th:only-of-type {\n",
       "        vertical-align: middle;\n",
       "    }\n",
       "\n",
       "    .dataframe tbody tr th {\n",
       "        vertical-align: top;\n",
       "    }\n",
       "\n",
       "    .dataframe thead th {\n",
       "        text-align: right;\n",
       "    }\n",
       "</style>\n",
       "<table border=\"1\" class=\"dataframe\">\n",
       "  <thead>\n",
       "    <tr style=\"text-align: right;\">\n",
       "      <th></th>\n",
       "      <th>plot_synopsis</th>\n",
       "      <th>prompt</th>\n",
       "    </tr>\n",
       "  </thead>\n",
       "  <tbody>\n",
       "    <tr>\n",
       "      <th>0</th>\n",
       "      <td>Note: this synopsis is for the orginal Italian...</td>\n",
       "      <td>Generate a Synopsis titled:- I tre volti della...</td>\n",
       "    </tr>\n",
       "    <tr>\n",
       "      <th>1</th>\n",
       "      <td>Two thousand years ago, Nhagruul the Foul, a s...</td>\n",
       "      <td>Generate a Synopsis titled:- Dungeons &amp; Dragon...</td>\n",
       "    </tr>\n",
       "    <tr>\n",
       "      <th>2</th>\n",
       "      <td>Matuschek's, a gift store in Budapest, is the ...</td>\n",
       "      <td>Generate a Synopsis titled:- The Shop Around t...</td>\n",
       "    </tr>\n",
       "    <tr>\n",
       "      <th>3</th>\n",
       "      <td>Glenn Holland, not a morning person by anyone'...</td>\n",
       "      <td>Generate a Synopsis titled:- Mr. Holland's Opu...</td>\n",
       "    </tr>\n",
       "    <tr>\n",
       "      <th>4</th>\n",
       "      <td>In May 1980, a Cuban man named Tony Montana (A...</td>\n",
       "      <td>Generate a Synopsis titled:- Scarface. Context...</td>\n",
       "    </tr>\n",
       "  </tbody>\n",
       "</table>\n",
       "</div>"
      ],
      "text/plain": [
       "                                       plot_synopsis  \\\n",
       "0  Note: this synopsis is for the orginal Italian...   \n",
       "1  Two thousand years ago, Nhagruul the Foul, a s...   \n",
       "2  Matuschek's, a gift store in Budapest, is the ...   \n",
       "3  Glenn Holland, not a morning person by anyone'...   \n",
       "4  In May 1980, a Cuban man named Tony Montana (A...   \n",
       "\n",
       "                                              prompt  \n",
       "0  Generate a Synopsis titled:- I tre volti della...  \n",
       "1  Generate a Synopsis titled:- Dungeons & Dragon...  \n",
       "2  Generate a Synopsis titled:- The Shop Around t...  \n",
       "3  Generate a Synopsis titled:- Mr. Holland's Opu...  \n",
       "4  Generate a Synopsis titled:- Scarface. Context...  "
      ]
     },
     "execution_count": 14,
     "metadata": {},
     "output_type": "execute_result"
    }
   ],
   "source": [
    "df.drop([\"title\", \"context\", \"tags\"], axis=1, inplace=True) \n",
    "\n",
    "print(df.shape)\n",
    "df.head()"
   ]
  },
  {
   "cell_type": "code",
   "execution_count": 13,
   "metadata": {},
   "outputs": [],
   "source": [
    "df.to_csv(\"./Dataset/mpst.csv\", index=False)"
   ]
  },
  {
   "cell_type": "markdown",
   "metadata": {},
   "source": [
    "***\n",
    "***"
   ]
  },
  {
   "cell_type": "markdown",
   "metadata": {},
   "source": [
    "## **2. Training Model** <a id=\"2\"></a> \n",
    "\n",
    "* Now, in this section we will `fine tune` a pretrained model named [google/flan-t5-base](https://huggingface.co/google/flan-t5-base) from an AI platform called [Huggingface](https://huggingface.co).\n",
    "* `FLAN-T5` is an enhanced version of the `T5` model that has been `fine-tuned` on a mixture of tasks. \n",
    "* It’s an `encoder-decoder` model pre-trained on various language tasks, with the goal of learning mappings between sequences of text, i.e., text-to-text. \n",
    "* [google/flan-t5-base](https://huggingface.co/google/flan-t5-base) has `248 million` parameters.\n",
    "\n",
    "\n",
    "#### **Inference**\n",
    "\n",
    "* Below we load the `model` and `tokenizer` of the model and generate a story using a prompt."
   ]
  },
  {
   "cell_type": "code",
   "execution_count": 1,
   "metadata": {},
   "outputs": [
    {
     "name": "stderr",
     "output_type": "stream",
     "text": [
      "2023-09-19 20:02:24.481135: I tensorflow/core/platform/cpu_feature_guard.cc:182] This TensorFlow binary is optimized to use available CPU instructions in performance-critical operations.\n",
      "To enable the following instructions: AVX2 FMA, in other operations, rebuild TensorFlow with the appropriate compiler flags.\n",
      "2023-09-19 20:02:25.049321: W tensorflow/compiler/tf2tensorrt/utils/py_utils.cc:38] TF-TRT Warning: Could not find TensorRT\n",
      "You are using the default legacy behaviour of the <class 'transformers.models.t5.tokenization_t5.T5Tokenizer'>. If you see this, DO NOT PANIC! This is expected, and simply means that the `legacy` (previous) behavior will be used so nothing changes for you. If you want to use the new behaviour, set `legacy=False`. This should only be set if you understand what it means, and thouroughly read the reason why this was added as explained in https://github.com/huggingface/transformers/pull/24565\n"
     ]
    }
   ],
   "source": [
    "from transformers import T5Tokenizer, T5ForConditionalGeneration\n",
    "\n",
    "tokenizer = T5Tokenizer.from_pretrained('google/flan-t5-small')\n",
    "model = T5ForConditionalGeneration.from_pretrained('google/flan-t5-small')"
   ]
  },
  {
   "cell_type": "code",
   "execution_count": 2,
   "metadata": {},
   "outputs": [
    {
     "name": "stdout",
     "output_type": "stream",
     "text": [
      "Story: <pad> A teddy bear is a cute teddy bear. It's a cute teddy bear with a cute teddy bear as a vilain. A teddy bear is a cute teddy bear with a cute teddy bear as a vilain. A teddy bear is a cute teddy bear with a cute teddy bear as a vilain. A teddy bear is a cute teddy bear as a vilain.</s>\n"
     ]
    }
   ],
   "source": [
    "def generate_story(prompt):\n",
    "    inputs = tokenizer.encode(\"story: \" + prompt, return_tensors=\"pt\", max_length=512, truncation=True)\n",
    "    outputs = model.generate(inputs, max_length=300, min_length=100, length_penalty=2.0, num_beams=4, early_stopping=True)\n",
    "    return tokenizer.decode(outputs[0])\n",
    "\n",
    "story = generate_story(\"Write a story of a sandwich in space with a cute teddy bear as a vilain.\")\n",
    "print(f\"Story: {story}\")"
   ]
  },
  {
   "cell_type": "markdown",
   "metadata": {},
   "source": [
    "### **Preparing Dataset**\n",
    "\n",
    "* Here, we will prepare our dataset to be trainable with our model. \n",
    "* The code reads a `CSV` file into a DataFrame, `tokenizes` and prepares the input and output sequences for a text-to-text task, and creates a custom `PyTorch Dataset` with these sequences. "
   ]
  },
  {
   "cell_type": "markdown",
   "metadata": {},
   "source": [
    "##### **`Importing Dataset`**"
   ]
  },
  {
   "cell_type": "code",
   "execution_count": 2,
   "metadata": {},
   "outputs": [
    {
     "name": "stdout",
     "output_type": "stream",
     "text": [
      "(14785, 2)\n"
     ]
    },
    {
     "data": {
      "text/html": [
       "<div>\n",
       "<style scoped>\n",
       "    .dataframe tbody tr th:only-of-type {\n",
       "        vertical-align: middle;\n",
       "    }\n",
       "\n",
       "    .dataframe tbody tr th {\n",
       "        vertical-align: top;\n",
       "    }\n",
       "\n",
       "    .dataframe thead th {\n",
       "        text-align: right;\n",
       "    }\n",
       "</style>\n",
       "<table border=\"1\" class=\"dataframe\">\n",
       "  <thead>\n",
       "    <tr style=\"text-align: right;\">\n",
       "      <th></th>\n",
       "      <th>plot_synopsis</th>\n",
       "      <th>prompt</th>\n",
       "    </tr>\n",
       "  </thead>\n",
       "  <tbody>\n",
       "    <tr>\n",
       "      <th>0</th>\n",
       "      <td>Note: this synopsis is for the orginal Italian...</td>\n",
       "      <td>Generate a Synopsis titled:- I tre volti della...</td>\n",
       "    </tr>\n",
       "    <tr>\n",
       "      <th>1</th>\n",
       "      <td>Two thousand years ago, Nhagruul the Foul, a s...</td>\n",
       "      <td>Generate a Synopsis titled:- Dungeons &amp; Dragon...</td>\n",
       "    </tr>\n",
       "    <tr>\n",
       "      <th>2</th>\n",
       "      <td>Matuschek's, a gift store in Budapest, is the ...</td>\n",
       "      <td>Generate a Synopsis titled:- The Shop Around t...</td>\n",
       "    </tr>\n",
       "    <tr>\n",
       "      <th>3</th>\n",
       "      <td>Glenn Holland, not a morning person by anyone'...</td>\n",
       "      <td>Generate a Synopsis titled:- Mr. Holland's Opu...</td>\n",
       "    </tr>\n",
       "    <tr>\n",
       "      <th>4</th>\n",
       "      <td>In May 1980, a Cuban man named Tony Montana (A...</td>\n",
       "      <td>Generate a Synopsis titled:- Scarface. Context...</td>\n",
       "    </tr>\n",
       "  </tbody>\n",
       "</table>\n",
       "</div>"
      ],
      "text/plain": [
       "                                       plot_synopsis  \\\n",
       "0  Note: this synopsis is for the orginal Italian...   \n",
       "1  Two thousand years ago, Nhagruul the Foul, a s...   \n",
       "2  Matuschek's, a gift store in Budapest, is the ...   \n",
       "3  Glenn Holland, not a morning person by anyone'...   \n",
       "4  In May 1980, a Cuban man named Tony Montana (A...   \n",
       "\n",
       "                                              prompt  \n",
       "0  Generate a Synopsis titled:- I tre volti della...  \n",
       "1  Generate a Synopsis titled:- Dungeons & Dragon...  \n",
       "2  Generate a Synopsis titled:- The Shop Around t...  \n",
       "3  Generate a Synopsis titled:- Mr. Holland's Opu...  \n",
       "4  Generate a Synopsis titled:- Scarface. Context...  "
      ]
     },
     "execution_count": 2,
     "metadata": {},
     "output_type": "execute_result"
    }
   ],
   "source": [
    "import pandas as pd\n",
    "\n",
    "df=pd.read_csv(\"./Dataset/mpst.csv\")\n",
    "print(df.shape)\n",
    "df.head()"
   ]
  },
  {
   "cell_type": "markdown",
   "metadata": {},
   "source": [
    "##### **`Inputs_Ids and Labels`**\n",
    "\n",
    "* This code `tokenizes` and `encodes` input and output sequences from a DataFrame, adds a task-specific `prefix` to the inputs, and sets specific `lengths` for the sequences. \n",
    "* `Padding` tokens in the output labels are replaced with -100 to avoid computing loss for them."
   ]
  },
  {
   "cell_type": "code",
   "execution_count": 3,
   "metadata": {},
   "outputs": [],
   "source": [
    "max_source_length = 512\n",
    "max_target_length = 256\n",
    "task_prefix = \"synopsis\"\n",
    "\n",
    "\n",
    "\n",
    "input_sequences = df.iloc[:, 1].to_list() \n",
    "\n",
    "encoding = tokenizer(\n",
    "    [task_prefix + sequence for sequence in input_sequences],\n",
    "    padding = \"longest\",\n",
    "    max_length = max_source_length,\n",
    "    truncation = True,\n",
    "    return_tensors = \"pt\",\n",
    ")\n",
    "input_ids, attention_mask = encoding.input_ids, encoding.attention_mask\n",
    "\n",
    "\n",
    "\n",
    "output_sequences = df.iloc[:, 0].to_list() \n",
    "\n",
    "target_encoding = tokenizer(\n",
    "    output_sequences,\n",
    "    padding = \"longest\",\n",
    "    max_length = max_target_length,\n",
    "    truncation = True,\n",
    "    return_tensors = \"pt\",\n",
    ")\n",
    "labels = target_encoding.input_ids\n",
    "labels[labels == tokenizer.pad_token_id] = -100"
   ]
  },
  {
   "cell_type": "markdown",
   "metadata": {},
   "source": [
    "* This code defines a custom `PyTorch Dataset` and converts input encodings and labels into `PyTorch tensors`. \n",
    "* The Dataset retrieves tensorized `input-label pairs` and provides the dataset `length`."
   ]
  },
  {
   "cell_type": "code",
   "execution_count": 4,
   "metadata": {},
   "outputs": [],
   "source": [
    "import torch\n",
    "from torch.utils.data import Dataset\n",
    "\n",
    "class CustomDataset(Dataset):\n",
    "    def __init__(self, encodings, labels):\n",
    "        self.encodings = encodings\n",
    "        self.labels = labels\n",
    "\n",
    "    def __getitem__(self, idx):\n",
    "        item = {key: torch.tensor(val[idx]) for key, val in self.encodings.items()}\n",
    "        item['labels'] = torch.tensor(self.labels[idx])\n",
    "        return item\n",
    "\n",
    "    def __len__(self):\n",
    "        return len(self.labels)"
   ]
  },
  {
   "cell_type": "code",
   "execution_count": 5,
   "metadata": {},
   "outputs": [],
   "source": [
    "input_ids = torch.tensor(input_ids.numpy())\n",
    "attention_mask = torch.tensor(attention_mask.numpy())\n",
    "labels = torch.tensor(labels.numpy())"
   ]
  },
  {
   "cell_type": "code",
   "execution_count": 6,
   "metadata": {},
   "outputs": [],
   "source": [
    "dataset = CustomDataset({'input_ids': input_ids, 'attention_mask': attention_mask}, labels)"
   ]
  },
  {
   "cell_type": "markdown",
   "metadata": {},
   "source": [
    "### **Fine-Tuning the Model**\n",
    "\n",
    "* In this code we set up and start a `training` process for our Hugging Face model. \n",
    "* Here we define the training arguments like `epochs`, `batch size`, `warmup steps`, `weight decay`, and output directories. \n",
    "* Then, we create a `Trainer` with the model, arguments, and dataset, and initiates training."
   ]
  },
  {
   "cell_type": "code",
   "execution_count": 8,
   "metadata": {},
   "outputs": [],
   "source": [
    "from transformers import TrainingArguments\n",
    "\n",
    "training_args = TrainingArguments(\n",
    "    output_dir='./results',          # output directory\n",
    "    num_train_epochs=3,              # total number of training epochs\n",
    "    per_device_train_batch_size=16,  # batch size per device during training\n",
    "    per_device_eval_batch_size=64,   # batch size for evaluation\n",
    "    warmup_steps=500,                # number of warmup steps for learning rate scheduler\n",
    "    weight_decay=0.01,               # strength of weight decay\n",
    "    logging_dir='./logs',            # directory for storing logs\n",
    ")"
   ]
  },
  {
   "cell_type": "code",
   "execution_count": 9,
   "metadata": {},
   "outputs": [],
   "source": [
    "from transformers import Trainer\n",
    "\n",
    "trainer = Trainer(\n",
    "    model=model,                         # the instantiated 🤗 Transformers model to be trained\n",
    "    args=training_args,                  # training arguments, defined above\n",
    "    train_dataset=dataset,               # training dataset\n",
    ")"
   ]
  },
  {
   "cell_type": "code",
   "execution_count": 10,
   "metadata": {},
   "outputs": [
    {
     "name": "stderr",
     "output_type": "stream",
     "text": [
      "Failed to detect the name of this notebook, you can set it manually with the WANDB_NOTEBOOK_NAME environment variable to enable code saving.\n",
      "\u001b[34m\u001b[1mwandb\u001b[0m: Currently logged in as: \u001b[33mguptasanskar551\u001b[0m. Use \u001b[1m`wandb login --relogin`\u001b[0m to force relogin\n"
     ]
    },
    {
     "data": {
      "application/vnd.jupyter.widget-view+json": {
       "model_id": "4b2a9006e8cc43b99823ffc6bc8656cd",
       "version_major": 2,
       "version_minor": 0
      },
      "text/plain": [
       "VBox(children=(Label(value='Waiting for wandb.init()...\\r'), FloatProgress(value=0.01111273548885947, max=1.0)…"
      ]
     },
     "metadata": {},
     "output_type": "display_data"
    },
    {
     "data": {
      "text/html": [
       "Tracking run with wandb version 0.15.10"
      ],
      "text/plain": [
       "<IPython.core.display.HTML object>"
      ]
     },
     "metadata": {},
     "output_type": "display_data"
    },
    {
     "data": {
      "text/html": [
       "Run data is saved locally in <code>/home/sanskar/Projects/AI_work/NLP___Prompt_to_Plot_Summary_Generator/wandb/run-20230919_200318-7nd9c1ov</code>"
      ],
      "text/plain": [
       "<IPython.core.display.HTML object>"
      ]
     },
     "metadata": {},
     "output_type": "display_data"
    },
    {
     "data": {
      "text/html": [
       "Syncing run <strong><a href='https://wandb.ai/guptasanskar551/huggingface/runs/7nd9c1ov' target=\"_blank\">mild-serenity-3</a></strong> to <a href='https://wandb.ai/guptasanskar551/huggingface' target=\"_blank\">Weights & Biases</a> (<a href='https://wandb.me/run' target=\"_blank\">docs</a>)<br/>"
      ],
      "text/plain": [
       "<IPython.core.display.HTML object>"
      ]
     },
     "metadata": {},
     "output_type": "display_data"
    },
    {
     "data": {
      "text/html": [
       " View project at <a href='https://wandb.ai/guptasanskar551/huggingface' target=\"_blank\">https://wandb.ai/guptasanskar551/huggingface</a>"
      ],
      "text/plain": [
       "<IPython.core.display.HTML object>"
      ]
     },
     "metadata": {},
     "output_type": "display_data"
    },
    {
     "data": {
      "text/html": [
       " View run at <a href='https://wandb.ai/guptasanskar551/huggingface/runs/7nd9c1ov' target=\"_blank\">https://wandb.ai/guptasanskar551/huggingface/runs/7nd9c1ov</a>"
      ],
      "text/plain": [
       "<IPython.core.display.HTML object>"
      ]
     },
     "metadata": {},
     "output_type": "display_data"
    },
    {
     "name": "stderr",
     "output_type": "stream",
     "text": [
      "/tmp/ipykernel_49233/867408961.py:10: UserWarning: To copy construct from a tensor, it is recommended to use sourceTensor.clone().detach() or sourceTensor.clone().detach().requires_grad_(True), rather than torch.tensor(sourceTensor).\n",
      "  item = {key: torch.tensor(val[idx]) for key, val in self.encodings.items()}\n",
      "/tmp/ipykernel_49233/867408961.py:11: UserWarning: To copy construct from a tensor, it is recommended to use sourceTensor.clone().detach() or sourceTensor.clone().detach().requires_grad_(True), rather than torch.tensor(sourceTensor).\n",
      "  item['labels'] = torch.tensor(self.labels[idx])\n"
     ]
    },
    {
     "data": {
      "text/html": [
       "\n",
       "    <div>\n",
       "      \n",
       "      <progress value='2775' max='2775' style='width:300px; height:20px; vertical-align: middle;'></progress>\n",
       "      [2775/2775 1:41:10, Epoch 3/3]\n",
       "    </div>\n",
       "    <table border=\"1\" class=\"dataframe\">\n",
       "  <thead>\n",
       " <tr style=\"text-align: left;\">\n",
       "      <th>Step</th>\n",
       "      <th>Training Loss</th>\n",
       "    </tr>\n",
       "  </thead>\n",
       "  <tbody>\n",
       "    <tr>\n",
       "      <td>500</td>\n",
       "      <td>3.626000</td>\n",
       "    </tr>\n",
       "    <tr>\n",
       "      <td>1000</td>\n",
       "      <td>3.555400</td>\n",
       "    </tr>\n",
       "    <tr>\n",
       "      <td>1500</td>\n",
       "      <td>3.524700</td>\n",
       "    </tr>\n",
       "    <tr>\n",
       "      <td>2000</td>\n",
       "      <td>3.509800</td>\n",
       "    </tr>\n",
       "    <tr>\n",
       "      <td>2500</td>\n",
       "      <td>3.499400</td>\n",
       "    </tr>\n",
       "  </tbody>\n",
       "</table><p>"
      ],
      "text/plain": [
       "<IPython.core.display.HTML object>"
      ]
     },
     "metadata": {},
     "output_type": "display_data"
    },
    {
     "name": "stderr",
     "output_type": "stream",
     "text": [
      "/tmp/ipykernel_49233/867408961.py:10: UserWarning: To copy construct from a tensor, it is recommended to use sourceTensor.clone().detach() or sourceTensor.clone().detach().requires_grad_(True), rather than torch.tensor(sourceTensor).\n",
      "  item = {key: torch.tensor(val[idx]) for key, val in self.encodings.items()}\n",
      "/tmp/ipykernel_49233/867408961.py:11: UserWarning: To copy construct from a tensor, it is recommended to use sourceTensor.clone().detach() or sourceTensor.clone().detach().requires_grad_(True), rather than torch.tensor(sourceTensor).\n",
      "  item['labels'] = torch.tensor(self.labels[idx])\n",
      "/tmp/ipykernel_49233/867408961.py:10: UserWarning: To copy construct from a tensor, it is recommended to use sourceTensor.clone().detach() or sourceTensor.clone().detach().requires_grad_(True), rather than torch.tensor(sourceTensor).\n",
      "  item = {key: torch.tensor(val[idx]) for key, val in self.encodings.items()}\n",
      "/tmp/ipykernel_49233/867408961.py:11: UserWarning: To copy construct from a tensor, it is recommended to use sourceTensor.clone().detach() or sourceTensor.clone().detach().requires_grad_(True), rather than torch.tensor(sourceTensor).\n",
      "  item['labels'] = torch.tensor(self.labels[idx])\n",
      "/tmp/ipykernel_49233/867408961.py:10: UserWarning: To copy construct from a tensor, it is recommended to use sourceTensor.clone().detach() or sourceTensor.clone().detach().requires_grad_(True), rather than torch.tensor(sourceTensor).\n",
      "  item = {key: torch.tensor(val[idx]) for key, val in self.encodings.items()}\n",
      "/tmp/ipykernel_49233/867408961.py:11: UserWarning: To copy construct from a tensor, it is recommended to use sourceTensor.clone().detach() or sourceTensor.clone().detach().requires_grad_(True), rather than torch.tensor(sourceTensor).\n",
      "  item['labels'] = torch.tensor(self.labels[idx])\n",
      "/tmp/ipykernel_49233/867408961.py:10: UserWarning: To copy construct from a tensor, it is recommended to use sourceTensor.clone().detach() or sourceTensor.clone().detach().requires_grad_(True), rather than torch.tensor(sourceTensor).\n",
      "  item = {key: torch.tensor(val[idx]) for key, val in self.encodings.items()}\n",
      "/tmp/ipykernel_49233/867408961.py:11: UserWarning: To copy construct from a tensor, it is recommended to use sourceTensor.clone().detach() or sourceTensor.clone().detach().requires_grad_(True), rather than torch.tensor(sourceTensor).\n",
      "  item['labels'] = torch.tensor(self.labels[idx])\n",
      "/tmp/ipykernel_49233/867408961.py:10: UserWarning: To copy construct from a tensor, it is recommended to use sourceTensor.clone().detach() or sourceTensor.clone().detach().requires_grad_(True), rather than torch.tensor(sourceTensor).\n",
      "  item = {key: torch.tensor(val[idx]) for key, val in self.encodings.items()}\n",
      "/tmp/ipykernel_49233/867408961.py:11: UserWarning: To copy construct from a tensor, it is recommended to use sourceTensor.clone().detach() or sourceTensor.clone().detach().requires_grad_(True), rather than torch.tensor(sourceTensor).\n",
      "  item['labels'] = torch.tensor(self.labels[idx])\n"
     ]
    },
    {
     "data": {
      "text/plain": [
       "TrainOutput(global_step=2775, training_loss=3.537910574148367, metrics={'train_runtime': 6078.3827, 'train_samples_per_second': 7.297, 'train_steps_per_second': 0.457, 'total_flos': 5877906772838400.0, 'train_loss': 3.537910574148367, 'epoch': 3.0})"
      ]
     },
     "execution_count": 10,
     "metadata": {},
     "output_type": "execute_result"
    }
   ],
   "source": [
    "trainer.train()"
   ]
  },
  {
   "cell_type": "markdown",
   "metadata": {},
   "source": [
    "#### **Save Model**"
   ]
  },
  {
   "cell_type": "code",
   "execution_count": 12,
   "metadata": {},
   "outputs": [],
   "source": [
    "import torch\n",
    "\n",
    "# Assuming that 'model' is your trained model\n",
    "torch.save(model.state_dict(), 'model.pth')"
   ]
  },
  {
   "cell_type": "markdown",
   "metadata": {},
   "source": [
    "#### **Clear Session**"
   ]
  },
  {
   "cell_type": "code",
   "execution_count": 13,
   "metadata": {},
   "outputs": [
    {
     "data": {
      "text/plain": [
       "40"
      ]
     },
     "execution_count": 13,
     "metadata": {},
     "output_type": "execute_result"
    }
   ],
   "source": [
    "import gc\n",
    "\n",
    "gc.collect()\n"
   ]
  },
  {
   "cell_type": "markdown",
   "metadata": {},
   "source": [
    "#### **Load Model**"
   ]
  },
  {
   "cell_type": "code",
   "execution_count": 20,
   "metadata": {},
   "outputs": [
    {
     "data": {
      "text/plain": [
       "<All keys matched successfully>"
      ]
     },
     "execution_count": 20,
     "metadata": {},
     "output_type": "execute_result"
    }
   ],
   "source": [
    "import torch\n",
    "from transformers import T5Tokenizer, T5ForConditionalGeneration\n",
    "\n",
    "tokenizer = T5Tokenizer.from_pretrained('google/flan-t5-small')\n",
    "model = T5ForConditionalGeneration.from_pretrained('google/flan-t5-small')\n",
    "state_dict = torch.load('./model.pth')\n",
    "model.load_state_dict(state_dict)"
   ]
  },
  {
   "cell_type": "markdown",
   "metadata": {},
   "source": [
    "#### **Prediction**\n",
    "\n",
    "* In the code below, we `generate` a `story` based on a given title, context, and tags. \n",
    "* We first create a `prompt` using these inputs, `pre-process` it using the `tokenizer` just as before, then use our `fine-tuned` model to generate a `story` from the prompt."
   ]
  },
  {
   "cell_type": "code",
   "execution_count": 21,
   "metadata": {},
   "outputs": [],
   "source": [
    "def prompt_generator_per_row(title, context, tags): \n",
    "    prompt=(f\"Generate a Synopsis titled:- {title}. \" + \n",
    "            f\"Context: {context} \" + \n",
    "            f\"Tags: {tags}.\")\n",
    "    return prompt"
   ]
  },
  {
   "cell_type": "code",
   "execution_count": 22,
   "metadata": {},
   "outputs": [
    {
     "name": "stdout",
     "output_type": "stream",
     "text": [
      "Story: <pad> The story begins with the story of a Heroic sandwich who saved the world from a Cute but Evil Teddy Bear. The story begins with the story of a Heroic sandwich who saved the world from a Cute but Evil Teddy Bear. The story begins with the story of a Heroic sandwich who saved the world from a Cute but Evil Teddy Bear. The story begins with the story of a Heroic sandwich who saved the world from a Cute but Evil Teddy Bear. The story begins with the story of a Heroic sandwich who saved the world from a Cute but Evil Teddy Bear. The story begins with the story of a Heroic sandwich who saved the world from a Cute but Evil Teddy Bear. The story begins with the story of a Heroic sandwich who saved the world from a Cute but Evil Teddy Bear. The story begins with the story of a Heroic sandwich who saved the world from a Cute but Evil Teddy Bear. The story begins with the story of a Heroic sandwich who saved the world from a Cute but Evil Teddy Bear. The story begins with the story of a Heroic sandwich who saved the world from a Cute but Evil Teddy Bear. The story begins with the story of a Heroic sandwich who saved the world from</s>\n"
     ]
    }
   ],
   "source": [
    "def generate_story(prompt):\n",
    "    inputs = tokenizer.encode(\"story: \" + prompt, return_tensors=\"pt\", max_length=512, truncation=True)\n",
    "    outputs = model.generate(inputs, max_length=300, min_length=100, length_penalty=2.0, num_beams=4, early_stopping=True)\n",
    "    return tokenizer.decode(outputs[0])\n",
    "\n",
    "prompt=prompt_generator_per_row(title=\"A Space Sandwich\", \n",
    "                                context=\"Story of a Heroic Sandwich who saved the world from a Cute but Evil Teddy Bear\", \n",
    "                                tags=\"funny, cringe, action\")\n",
    "story = generate_story(prompt)\n",
    "print(f\"Story: {story}\")"
   ]
  },
  {
   "cell_type": "markdown",
   "metadata": {},
   "source": [
    "***\n",
    "***"
   ]
  },
  {
   "cell_type": "code",
   "execution_count": null,
   "metadata": {},
   "outputs": [],
   "source": []
  }
 ],
 "metadata": {
  "kernelspec": {
   "display_name": "CV",
   "language": "python",
   "name": "python3"
  },
  "language_info": {
   "codemirror_mode": {
    "name": "ipython",
    "version": 3
   },
   "file_extension": ".py",
   "mimetype": "text/x-python",
   "name": "python",
   "nbconvert_exporter": "python",
   "pygments_lexer": "ipython3",
   "version": "3.9.18"
  },
  "orig_nbformat": 4
 },
 "nbformat": 4,
 "nbformat_minor": 2
}
