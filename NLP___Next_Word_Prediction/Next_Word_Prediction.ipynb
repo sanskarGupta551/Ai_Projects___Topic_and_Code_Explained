{
  "cells": [
    {
      "cell_type": "markdown",
      "metadata": {
        "id": "7IpazAYeGHC4"
      },
      "source": [
        "# **Next Word Prediction**\n",
        "\n",
        "### **Introduction**\n",
        "\n",
        "> **`Next Word Prediction` (also called Language Modeling) is the task of `predicting` what word comes next. It is one of the fundamental tasks of NLP.**\n",
        "\n",
        ".\n",
        "\n",
        "### **Application Language Modelling**\n",
        "\n",
        "1. **Mobile keyboard `text recommendation`**\n",
        "\n",
        ".\n",
        "\n",
        "2. **Whenever we search for something on any search engine, we get many `suggestions` and,  as we type new words in it, we get `better recommendations` according to our searching `context`.**\n",
        "\n",
        ".\n",
        "\n",
        "3. **`Story Generator`**\n",
        "\n",
        "![Image](https://i.pinimg.com/originals/3f/b4/2e/3fb42e1f042063e0423496529978dd8e.jpg)\n"
      ]
    },
    {
      "cell_type": "markdown",
      "metadata": {
        "id": "ASE_ucCoGHC6"
      },
      "source": [
        "'''\n",
        "\n",
        "### **Task**\n",
        "\n",
        "* Here, we will use `NLP` and try to make a prediction model using `Bidirectional LSTM` (Long short-term memory) model that will predict `next words` of sentence.\n",
        "\n",
        "'''\n",
        "\n",
        "### **Process**\n",
        "\n",
        "* [1. Preparing Dataset](#1)\n",
        "* [2. Building and Training Model](#2)\n",
        "* [3. Generating Stories](#3)\n",
        "\n",
        "***\n",
        "***"
      ]
    },
    {
      "cell_type": "markdown",
      "metadata": {
        "id": "2vCWxBsLGHC6"
      },
      "source": [
        "## **1. Preparing Dataset** <a id=\"1\"></a>\n",
        "\n",
        "### **About - `Medium Articles Dataset`**\n",
        "\n",
        "* The [Medium Articles Dataset](https://www.kaggle.com/datasets/dorianlazar/medium-articles-dataset) on Kaggle is a collection of data about articles published on `Medium`, a popular online publishing platform.\n",
        "\n",
        "Here’s what you need to know:\n",
        "\n",
        "1. The dataset contains information about more than `6,000 articles`.\n",
        "2. These articles were published in the year `2019`.\n",
        "3. The articles come from `7` different `publications`.\n",
        "\n",
        "* This dataset can be very useful for various data analysis and machine learning tasks. For example, you could use it to analyze `trends` in article topics, understand the `popularity` of different publications, or even `train` a machine learning model to predict the popularity of an article based on its content and other features.\n",
        "\n",
        "* We here will use this dataset to train a model for `Next Word Prediction`.\n"
      ]
    },
    {
      "cell_type": "markdown",
      "metadata": {
        "id": "N8jJwSl3GHC7"
      },
      "source": [
        "'''\n",
        "\n",
        "### **Import necessary libraries and packages**"
      ]
    },
    {
      "cell_type": "code",
      "execution_count": 1,
      "metadata": {
        "_cell_guid": "b1076dfc-b9ad-4769-8c92-a6c4dae69d19",
        "_uuid": "8f2839f25d086af736a60e9eeb907d3b93b6e0e5",
        "execution": {
          "iopub.execute_input": "2021-08-15T06:01:42.941588Z",
          "iopub.status.busy": "2021-08-15T06:01:42.941108Z",
          "iopub.status.idle": "2021-08-15T06:01:47.401922Z",
          "shell.execute_reply": "2021-08-15T06:01:47.401082Z",
          "shell.execute_reply.started": "2021-08-15T06:01:42.941462Z"
        },
        "id": "Qo9weIkpGHC7",
        "trusted": true
      },
      "outputs": [],
      "source": [
        "import pandas as pd\n",
        "import os\n",
        "import numpy as np\n",
        "import tensorflow as tf\n",
        "\n",
        "from keras.preprocessing.sequence import pad_sequences\n",
        "from keras.layers import Embedding, LSTM, Dense, Bidirectional\n",
        "from keras.preprocessing.text import Tokenizer\n",
        "from keras.models import Sequential\n",
        "from keras.optimizers import Adam"
      ]
    },
    {
      "cell_type": "markdown",
      "metadata": {
        "id": "5kLPA5M5Hx7I"
      },
      "source": [
        "'''\n",
        "\n",
        "### **Mounting Google Drive**"
      ]
    },
    {
      "cell_type": "code",
      "execution_count": 2,
      "metadata": {
        "colab": {
          "base_uri": "https://localhost:8080/"
        },
        "id": "jQ78SL6-HyPq",
        "outputId": "ad38a1cb-d133-41b6-8296-c21138477218"
      },
      "outputs": [
        {
          "name": "stdout",
          "output_type": "stream",
          "text": [
            "Mounted at /content/drive\n"
          ]
        }
      ],
      "source": [
        "from google.colab import drive\n",
        "drive.mount('/content/drive')"
      ]
    },
    {
      "cell_type": "markdown",
      "metadata": {
        "id": "LBnYjDKjGHC8"
      },
      "source": [
        "'''\n",
        "\n",
        "### **Loading Dataset**\n",
        "\n",
        "* Simply download the `medium_data.csv` file from [Medium Articles Dataset](https://www.kaggle.com/datasets/dorianlazar/medium-articles-dataset) on Kaggle.\n",
        "\n",
        "* Then `import` the file from the directory as seen below.\n"
      ]
    },
    {
      "cell_type": "code",
      "execution_count": 3,
      "metadata": {
        "colab": {
          "base_uri": "https://localhost:8080/",
          "height": 469
        },
        "execution": {
          "iopub.execute_input": "2021-08-15T06:01:47.403731Z",
          "iopub.status.busy": "2021-08-15T06:01:47.403383Z",
          "iopub.status.idle": "2021-08-15T06:01:47.508925Z",
          "shell.execute_reply": "2021-08-15T06:01:47.507977Z",
          "shell.execute_reply.started": "2021-08-15T06:01:47.403696Z"
        },
        "id": "rlnRJ9soGHC8",
        "outputId": "eb4ac436-ddc6-4c98-c36f-601c71497ddd",
        "trusted": true
      },
      "outputs": [
        {
          "data": {
            "text/html": [
              "\n",
              "  <div id=\"df-e80eb468-1b7b-4967-a1ef-8e19985d61ef\" class=\"colab-df-container\">\n",
              "    <div>\n",
              "<style scoped>\n",
              "    .dataframe tbody tr th:only-of-type {\n",
              "        vertical-align: middle;\n",
              "    }\n",
              "\n",
              "    .dataframe tbody tr th {\n",
              "        vertical-align: top;\n",
              "    }\n",
              "\n",
              "    .dataframe thead th {\n",
              "        text-align: right;\n",
              "    }\n",
              "</style>\n",
              "<table border=\"1\" class=\"dataframe\">\n",
              "  <thead>\n",
              "    <tr style=\"text-align: right;\">\n",
              "      <th></th>\n",
              "      <th>id</th>\n",
              "      <th>url</th>\n",
              "      <th>title</th>\n",
              "      <th>subtitle</th>\n",
              "      <th>image</th>\n",
              "      <th>claps</th>\n",
              "      <th>responses</th>\n",
              "      <th>reading_time</th>\n",
              "      <th>publication</th>\n",
              "      <th>date</th>\n",
              "    </tr>\n",
              "  </thead>\n",
              "  <tbody>\n",
              "    <tr>\n",
              "      <th>0</th>\n",
              "      <td>1</td>\n",
              "      <td>https://towardsdatascience.com/a-beginners-gui...</td>\n",
              "      <td>A Beginner’s Guide to Word Embedding with Gens...</td>\n",
              "      <td>NaN</td>\n",
              "      <td>1.png</td>\n",
              "      <td>850</td>\n",
              "      <td>8</td>\n",
              "      <td>8</td>\n",
              "      <td>Towards Data Science</td>\n",
              "      <td>2019-05-30</td>\n",
              "    </tr>\n",
              "    <tr>\n",
              "      <th>1</th>\n",
              "      <td>2</td>\n",
              "      <td>https://towardsdatascience.com/hands-on-graph-...</td>\n",
              "      <td>Hands-on Graph Neural Networks with PyTorch &amp; ...</td>\n",
              "      <td>NaN</td>\n",
              "      <td>2.png</td>\n",
              "      <td>1100</td>\n",
              "      <td>11</td>\n",
              "      <td>9</td>\n",
              "      <td>Towards Data Science</td>\n",
              "      <td>2019-05-30</td>\n",
              "    </tr>\n",
              "    <tr>\n",
              "      <th>2</th>\n",
              "      <td>3</td>\n",
              "      <td>https://towardsdatascience.com/how-to-use-ggpl...</td>\n",
              "      <td>How to Use ggplot2 in Python</td>\n",
              "      <td>A Grammar of Graphics for Python</td>\n",
              "      <td>3.png</td>\n",
              "      <td>767</td>\n",
              "      <td>1</td>\n",
              "      <td>5</td>\n",
              "      <td>Towards Data Science</td>\n",
              "      <td>2019-05-30</td>\n",
              "    </tr>\n",
              "    <tr>\n",
              "      <th>3</th>\n",
              "      <td>4</td>\n",
              "      <td>https://towardsdatascience.com/databricks-how-...</td>\n",
              "      <td>Databricks: How to Save Files in CSV on Your L...</td>\n",
              "      <td>When I work on Python projects dealing…</td>\n",
              "      <td>4.jpeg</td>\n",
              "      <td>354</td>\n",
              "      <td>0</td>\n",
              "      <td>4</td>\n",
              "      <td>Towards Data Science</td>\n",
              "      <td>2019-05-30</td>\n",
              "    </tr>\n",
              "    <tr>\n",
              "      <th>4</th>\n",
              "      <td>5</td>\n",
              "      <td>https://towardsdatascience.com/a-step-by-step-...</td>\n",
              "      <td>A Step-by-Step Implementation of Gradient Desc...</td>\n",
              "      <td>One example of building neural…</td>\n",
              "      <td>5.jpeg</td>\n",
              "      <td>211</td>\n",
              "      <td>3</td>\n",
              "      <td>4</td>\n",
              "      <td>Towards Data Science</td>\n",
              "      <td>2019-05-30</td>\n",
              "    </tr>\n",
              "  </tbody>\n",
              "</table>\n",
              "</div>\n",
              "    <div class=\"colab-df-buttons\">\n",
              "\n",
              "  <div class=\"colab-df-container\">\n",
              "    <button class=\"colab-df-convert\" onclick=\"convertToInteractive('df-e80eb468-1b7b-4967-a1ef-8e19985d61ef')\"\n",
              "            title=\"Convert this dataframe to an interactive table.\"\n",
              "            style=\"display:none;\">\n",
              "\n",
              "  <svg xmlns=\"http://www.w3.org/2000/svg\" height=\"24px\" viewBox=\"0 -960 960 960\">\n",
              "    <path d=\"M120-120v-720h720v720H120Zm60-500h600v-160H180v160Zm220 220h160v-160H400v160Zm0 220h160v-160H400v160ZM180-400h160v-160H180v160Zm440 0h160v-160H620v160ZM180-180h160v-160H180v160Zm440 0h160v-160H620v160Z\"/>\n",
              "  </svg>\n",
              "    </button>\n",
              "\n",
              "  <style>\n",
              "    .colab-df-container {\n",
              "      display:flex;\n",
              "      gap: 12px;\n",
              "    }\n",
              "\n",
              "    .colab-df-convert {\n",
              "      background-color: #E8F0FE;\n",
              "      border: none;\n",
              "      border-radius: 50%;\n",
              "      cursor: pointer;\n",
              "      display: none;\n",
              "      fill: #1967D2;\n",
              "      height: 32px;\n",
              "      padding: 0 0 0 0;\n",
              "      width: 32px;\n",
              "    }\n",
              "\n",
              "    .colab-df-convert:hover {\n",
              "      background-color: #E2EBFA;\n",
              "      box-shadow: 0px 1px 2px rgba(60, 64, 67, 0.3), 0px 1px 3px 1px rgba(60, 64, 67, 0.15);\n",
              "      fill: #174EA6;\n",
              "    }\n",
              "\n",
              "    .colab-df-buttons div {\n",
              "      margin-bottom: 4px;\n",
              "    }\n",
              "\n",
              "    [theme=dark] .colab-df-convert {\n",
              "      background-color: #3B4455;\n",
              "      fill: #D2E3FC;\n",
              "    }\n",
              "\n",
              "    [theme=dark] .colab-df-convert:hover {\n",
              "      background-color: #434B5C;\n",
              "      box-shadow: 0px 1px 3px 1px rgba(0, 0, 0, 0.15);\n",
              "      filter: drop-shadow(0px 1px 2px rgba(0, 0, 0, 0.3));\n",
              "      fill: #FFFFFF;\n",
              "    }\n",
              "  </style>\n",
              "\n",
              "    <script>\n",
              "      const buttonEl =\n",
              "        document.querySelector('#df-e80eb468-1b7b-4967-a1ef-8e19985d61ef button.colab-df-convert');\n",
              "      buttonEl.style.display =\n",
              "        google.colab.kernel.accessAllowed ? 'block' : 'none';\n",
              "\n",
              "      async function convertToInteractive(key) {\n",
              "        const element = document.querySelector('#df-e80eb468-1b7b-4967-a1ef-8e19985d61ef');\n",
              "        const dataTable =\n",
              "          await google.colab.kernel.invokeFunction('convertToInteractive',\n",
              "                                                    [key], {});\n",
              "        if (!dataTable) return;\n",
              "\n",
              "        const docLinkHtml = 'Like what you see? Visit the ' +\n",
              "          '<a target=\"_blank\" href=https://colab.research.google.com/notebooks/data_table.ipynb>data table notebook</a>'\n",
              "          + ' to learn more about interactive tables.';\n",
              "        element.innerHTML = '';\n",
              "        dataTable['output_type'] = 'display_data';\n",
              "        await google.colab.output.renderOutput(dataTable, element);\n",
              "        const docLink = document.createElement('div');\n",
              "        docLink.innerHTML = docLinkHtml;\n",
              "        element.appendChild(docLink);\n",
              "      }\n",
              "    </script>\n",
              "  </div>\n",
              "\n",
              "\n",
              "<div id=\"df-dae75232-7191-473e-b03f-480df04ecebb\">\n",
              "  <button class=\"colab-df-quickchart\" onclick=\"quickchart('df-dae75232-7191-473e-b03f-480df04ecebb')\"\n",
              "            title=\"Suggest charts.\"\n",
              "            style=\"display:none;\">\n",
              "\n",
              "<svg xmlns=\"http://www.w3.org/2000/svg\" height=\"24px\"viewBox=\"0 0 24 24\"\n",
              "     width=\"24px\">\n",
              "    <g>\n",
              "        <path d=\"M19 3H5c-1.1 0-2 .9-2 2v14c0 1.1.9 2 2 2h14c1.1 0 2-.9 2-2V5c0-1.1-.9-2-2-2zM9 17H7v-7h2v7zm4 0h-2V7h2v10zm4 0h-2v-4h2v4z\"/>\n",
              "    </g>\n",
              "</svg>\n",
              "  </button>\n",
              "\n",
              "<style>\n",
              "  .colab-df-quickchart {\n",
              "      --bg-color: #E8F0FE;\n",
              "      --fill-color: #1967D2;\n",
              "      --hover-bg-color: #E2EBFA;\n",
              "      --hover-fill-color: #174EA6;\n",
              "      --disabled-fill-color: #AAA;\n",
              "      --disabled-bg-color: #DDD;\n",
              "  }\n",
              "\n",
              "  [theme=dark] .colab-df-quickchart {\n",
              "      --bg-color: #3B4455;\n",
              "      --fill-color: #D2E3FC;\n",
              "      --hover-bg-color: #434B5C;\n",
              "      --hover-fill-color: #FFFFFF;\n",
              "      --disabled-bg-color: #3B4455;\n",
              "      --disabled-fill-color: #666;\n",
              "  }\n",
              "\n",
              "  .colab-df-quickchart {\n",
              "    background-color: var(--bg-color);\n",
              "    border: none;\n",
              "    border-radius: 50%;\n",
              "    cursor: pointer;\n",
              "    display: none;\n",
              "    fill: var(--fill-color);\n",
              "    height: 32px;\n",
              "    padding: 0;\n",
              "    width: 32px;\n",
              "  }\n",
              "\n",
              "  .colab-df-quickchart:hover {\n",
              "    background-color: var(--hover-bg-color);\n",
              "    box-shadow: 0 1px 2px rgba(60, 64, 67, 0.3), 0 1px 3px 1px rgba(60, 64, 67, 0.15);\n",
              "    fill: var(--button-hover-fill-color);\n",
              "  }\n",
              "\n",
              "  .colab-df-quickchart-complete:disabled,\n",
              "  .colab-df-quickchart-complete:disabled:hover {\n",
              "    background-color: var(--disabled-bg-color);\n",
              "    fill: var(--disabled-fill-color);\n",
              "    box-shadow: none;\n",
              "  }\n",
              "\n",
              "  .colab-df-spinner {\n",
              "    border: 2px solid var(--fill-color);\n",
              "    border-color: transparent;\n",
              "    border-bottom-color: var(--fill-color);\n",
              "    animation:\n",
              "      spin 1s steps(1) infinite;\n",
              "  }\n",
              "\n",
              "  @keyframes spin {\n",
              "    0% {\n",
              "      border-color: transparent;\n",
              "      border-bottom-color: var(--fill-color);\n",
              "      border-left-color: var(--fill-color);\n",
              "    }\n",
              "    20% {\n",
              "      border-color: transparent;\n",
              "      border-left-color: var(--fill-color);\n",
              "      border-top-color: var(--fill-color);\n",
              "    }\n",
              "    30% {\n",
              "      border-color: transparent;\n",
              "      border-left-color: var(--fill-color);\n",
              "      border-top-color: var(--fill-color);\n",
              "      border-right-color: var(--fill-color);\n",
              "    }\n",
              "    40% {\n",
              "      border-color: transparent;\n",
              "      border-right-color: var(--fill-color);\n",
              "      border-top-color: var(--fill-color);\n",
              "    }\n",
              "    60% {\n",
              "      border-color: transparent;\n",
              "      border-right-color: var(--fill-color);\n",
              "    }\n",
              "    80% {\n",
              "      border-color: transparent;\n",
              "      border-right-color: var(--fill-color);\n",
              "      border-bottom-color: var(--fill-color);\n",
              "    }\n",
              "    90% {\n",
              "      border-color: transparent;\n",
              "      border-bottom-color: var(--fill-color);\n",
              "    }\n",
              "  }\n",
              "</style>\n",
              "\n",
              "  <script>\n",
              "    async function quickchart(key) {\n",
              "      const quickchartButtonEl =\n",
              "        document.querySelector('#' + key + ' button');\n",
              "      quickchartButtonEl.disabled = true;  // To prevent multiple clicks.\n",
              "      quickchartButtonEl.classList.add('colab-df-spinner');\n",
              "      try {\n",
              "        const charts = await google.colab.kernel.invokeFunction(\n",
              "            'suggestCharts', [key], {});\n",
              "      } catch (error) {\n",
              "        console.error('Error during call to suggestCharts:', error);\n",
              "      }\n",
              "      quickchartButtonEl.classList.remove('colab-df-spinner');\n",
              "      quickchartButtonEl.classList.add('colab-df-quickchart-complete');\n",
              "    }\n",
              "    (() => {\n",
              "      let quickchartButtonEl =\n",
              "        document.querySelector('#df-dae75232-7191-473e-b03f-480df04ecebb button');\n",
              "      quickchartButtonEl.style.display =\n",
              "        google.colab.kernel.accessAllowed ? 'block' : 'none';\n",
              "    })();\n",
              "  </script>\n",
              "</div>\n",
              "\n",
              "    </div>\n",
              "  </div>\n"
            ],
            "text/plain": [
              "   id                                                url  \\\n",
              "0   1  https://towardsdatascience.com/a-beginners-gui...   \n",
              "1   2  https://towardsdatascience.com/hands-on-graph-...   \n",
              "2   3  https://towardsdatascience.com/how-to-use-ggpl...   \n",
              "3   4  https://towardsdatascience.com/databricks-how-...   \n",
              "4   5  https://towardsdatascience.com/a-step-by-step-...   \n",
              "\n",
              "                                               title  \\\n",
              "0  A Beginner’s Guide to Word Embedding with Gens...   \n",
              "1  Hands-on Graph Neural Networks with PyTorch & ...   \n",
              "2                       How to Use ggplot2 in Python   \n",
              "3  Databricks: How to Save Files in CSV on Your L...   \n",
              "4  A Step-by-Step Implementation of Gradient Desc...   \n",
              "\n",
              "                                  subtitle   image  claps responses  \\\n",
              "0                                      NaN   1.png    850         8   \n",
              "1                                      NaN   2.png   1100        11   \n",
              "2         A Grammar of Graphics for Python   3.png    767         1   \n",
              "3  When I work on Python projects dealing…  4.jpeg    354         0   \n",
              "4          One example of building neural…  5.jpeg    211         3   \n",
              "\n",
              "   reading_time           publication        date  \n",
              "0             8  Towards Data Science  2019-05-30  \n",
              "1             9  Towards Data Science  2019-05-30  \n",
              "2             5  Towards Data Science  2019-05-30  \n",
              "3             4  Towards Data Science  2019-05-30  \n",
              "4             4  Towards Data Science  2019-05-30  "
            ]
          },
          "execution_count": 3,
          "metadata": {},
          "output_type": "execute_result"
        }
      ],
      "source": [
        "medium_data = pd.read_csv('/content/drive/My Drive/Medium_Articles_Dataset/medium_data.csv')\n",
        "medium_data.head()"
      ]
    },
    {
      "cell_type": "markdown",
      "metadata": {
        "id": "fNS21zWvGHC8"
      },
      "source": [
        "* Here, we have a `10` different fields and `6508` records but we will only use `title` field for predicting next word."
      ]
    },
    {
      "cell_type": "code",
      "execution_count": 4,
      "metadata": {
        "colab": {
          "base_uri": "https://localhost:8080/"
        },
        "execution": {
          "iopub.execute_input": "2021-08-15T06:01:47.511158Z",
          "iopub.status.busy": "2021-08-15T06:01:47.510826Z",
          "iopub.status.idle": "2021-08-15T06:01:47.519247Z",
          "shell.execute_reply": "2021-08-15T06:01:47.518321Z",
          "shell.execute_reply.started": "2021-08-15T06:01:47.511125Z"
        },
        "id": "zNGkSYCEGHC9",
        "outputId": "1945f7f7-e03a-4598-9d63-7399dbe64c38",
        "trusted": true
      },
      "outputs": [
        {
          "name": "stdout",
          "output_type": "stream",
          "text": [
            "Number of records:  6508\n",
            "Number of fields:  10\n"
          ]
        }
      ],
      "source": [
        "print(\"Number of records: \", medium_data.shape[0])\n",
        "print(\"Number of fields: \", medium_data.shape[1])"
      ]
    },
    {
      "cell_type": "code",
      "execution_count": 5,
      "metadata": {
        "colab": {
          "base_uri": "https://localhost:8080/"
        },
        "execution": {
          "iopub.execute_input": "2021-08-15T06:01:47.521227Z",
          "iopub.status.busy": "2021-08-15T06:01:47.520873Z",
          "iopub.status.idle": "2021-08-15T06:01:47.532676Z",
          "shell.execute_reply": "2021-08-15T06:01:47.531720Z",
          "shell.execute_reply.started": "2021-08-15T06:01:47.521192Z"
        },
        "id": "UkzPVxDlGHC9",
        "outputId": "be3bc174-2a6b-4363-cbf1-4ab9928ad932",
        "trusted": true
      },
      "outputs": [
        {
          "data": {
            "text/plain": [
              "0       A Beginner’s Guide to Word Embedding with Gens...\n",
              "1       Hands-on Graph Neural Networks with PyTorch & ...\n",
              "2                            How to Use ggplot2 in Python\n",
              "3       Databricks: How to Save Files in CSV on Your L...\n",
              "4       A Step-by-Step Implementation of Gradient Desc...\n",
              "                              ...                        \n",
              "6503    “We” vs “I” — How Should You Talk About Yourse...\n",
              "6504                     How Donald Trump Markets Himself\n",
              "6505        Content and Marketing Beyond Mass Consumption\n",
              "6506    5 Questions All Copywriters Should Ask Clients...\n",
              "6507               How To Write a Good Business Blog Post\n",
              "Name: title, Length: 6508, dtype: object"
            ]
          },
          "execution_count": 5,
          "metadata": {},
          "output_type": "execute_result"
        }
      ],
      "source": [
        "medium_data['title']"
      ]
    },
    {
      "cell_type": "markdown",
      "metadata": {
        "id": "-blrXnouGHC9"
      },
      "source": [
        "'''\n",
        "\n",
        "### **`Preprocessing` Titles**\n",
        "\n",
        "* `Text preprocessing` in Machine Learning is a critical step that `transforms` `raw`, unstructured text data into a format that can be understood by ML algorithms and used for further processing, such as `training` a Model. \n",
        "\n",
        "Here are some advantages:\n",
        "\n",
        "* **Improves Model Performance**: Preprocessing can greatly `improve` the results of your analysis.\n",
        "* **Reduces Complexity**: It helps `reduce` the `complexity` of the data, preventing `overfitting`, and resulting in a better model.\n",
        "* **Enhances Accuracy**: By improving the `quality` of the data used to train machine learning models, preprocessing can help improve the `accuracy` and reliability of these models.\n",
        "* **Facilitates Better Decision Making**: It leads to better `predictions` and more informed decision-making.\n"
      ]
    },
    {
      "cell_type": "markdown",
      "metadata": {},
      "source": [
        "'''\n",
        "\n",
        "##### **1. `Removing` `unwanted` characters and words in titles**\n",
        "\n",
        "* Looking at `titles`, we can see there are some of `unwanted characters` and words in it which can not be useful for us to predict infact it might `decrease` our model `accuracy` so we have to remove it."
      ]
    },
    {
      "cell_type": "code",
      "execution_count": 6,
      "metadata": {
        "execution": {
          "iopub.execute_input": "2021-08-15T06:01:47.534329Z",
          "iopub.status.busy": "2021-08-15T06:01:47.533991Z",
          "iopub.status.idle": "2021-08-15T06:01:47.548767Z",
          "shell.execute_reply": "2021-08-15T06:01:47.547944Z",
          "shell.execute_reply.started": "2021-08-15T06:01:47.534293Z"
        },
        "id": "3C28GHPnGHC9",
        "trusted": true
      },
      "outputs": [],
      "source": [
        "medium_data['title'] = medium_data['title'].apply(lambda x: x.replace(u'\\xa0',u' '))\n",
        "medium_data['title'] = medium_data['title'].apply(lambda x: x.replace('\\u200a',' '))"
      ]
    },
    {
      "cell_type": "markdown",
      "metadata": {},
      "source": [
        "Here is how the code works: \n",
        "\n",
        "* This code uses the `pandas` library.\n",
        "\n",
        "1. **medium_data['title'] = medium_data['title'].apply(lambda x: x.replace(u'\\xa0',u' '))**: \n",
        "\n",
        "* This line of code is applying a function to each `title`. \n",
        "* The function (lambda x: x.replace(u'\\xa0',u' ')) `replaces` every occurrence of the `unicode` character `\\xa0` (which represents a `non-breaking space` in the ISO-Latin1 (ISO 8859-1) character set) with a regular `space` ' '.\n",
        "\n",
        "2. **medium_data['title'] = medium_data['title'].apply(lambda x: x.replace('\\u200a',' '))**: \n",
        "\n",
        "* The function (lambda x: x.replace('\\u200a',' ')) `replaces` every occurrence of the unicode character `\\u200a` (which represents a `hair space`) with a regular `space` ' '.\n"
      ]
    },
    {
      "cell_type": "markdown",
      "metadata": {
        "id": "EpfFlBvQGHC9"
      },
      "source": [
        "'''\n",
        "\n",
        "##### **2. `Tokenzation`**\n",
        "\n",
        "* `Tokenization` is an important step in `preprocessing` text data Natural Language Processing (`NLP`) tasks that involves `breaking` down a `text` document into smaller units called `tokens`. These tokens can be words, phrases, or individual characters.\n",
        "\n",
        "* The main `purpose` of tokenization is to `transform` `unstructured` data into a format that can be understood by the `models` or algorithms."
      ]
    },
    {
      "cell_type": "code",
      "execution_count": 7,
      "metadata": {
        "colab": {
          "base_uri": "https://localhost:8080/"
        },
        "execution": {
          "iopub.execute_input": "2021-08-15T06:01:47.551072Z",
          "iopub.status.busy": "2021-08-15T06:01:47.550835Z",
          "iopub.status.idle": "2021-08-15T06:01:47.663779Z",
          "shell.execute_reply": "2021-08-15T06:01:47.662838Z",
          "shell.execute_reply.started": "2021-08-15T06:01:47.551049Z"
        },
        "id": "GSMNojF3GHC9",
        "outputId": "fb760f5a-a82b-4bf8-dd57-f73ddb398a70",
        "trusted": true
      },
      "outputs": [
        {
          "name": "stdout",
          "output_type": "stream",
          "text": [
            "Total number of words:  8238\n",
            "Word: ID\n",
            "------------\n",
            "<oov>:  1\n",
            "Strong:  4\n",
            "And:  8\n",
            "Consumption:  8237\n"
          ]
        }
      ],
      "source": [
        "tokenizer = Tokenizer(oov_token='<oov>') # For those words which are not found in word_index\n",
        "tokenizer.fit_on_texts(medium_data['title'])\n",
        "total_words = len(tokenizer.word_index) + 1\n",
        "\n",
        "print(\"Total number of words: \", total_words)\n",
        "print(\"Word: ID\")\n",
        "print(\"------------\")\n",
        "print(\"<oov>: \", tokenizer.word_index['<oov>'])\n",
        "print(\"Strong: \", tokenizer.word_index['strong'])\n",
        "print(\"And: \", tokenizer.word_index['and'])\n",
        "print(\"Consumption: \", tokenizer.word_index['consumption'])"
      ]
    },
    {
      "cell_type": "markdown",
      "metadata": {},
      "source": [
        "* This code is using the `Tokenizer` class from the `keras.preprocessing.text` module in Python. \n",
        "\n",
        "Here's what each line does:\n",
        "\n",
        "1. **tokenizer = Tokenizer(oov_token='<oov>')**: This line initializes a `Tokenizer` object. The `oov_token='<oov>'` argument means that any word not found in the trained word index will be replaced with the token `<oov>` (out-of-vocabulary).\n",
        "\n",
        "2. **tokenizer.fit_on_texts(medium_data['title'])**: This line trains the tokenizer on the text data present in the 'title' column of the `medium_data` DataFrame. The tokenizer creates a word index, which is a dictionary where keys are words and values are unique identifiers for each word.\n",
        "\n",
        "3. **total_words = len(tokenizer.word_index) + 1**: This line calculates the total number of unique words in the word index created by the tokenizer and adds 1 to account for the `<oov>` token.\n",
        "\n",
        "4. The **print** statements display the total number of words and the unique identifiers for specific words in the word index.\n"
      ]
    },
    {
      "cell_type": "markdown",
      "metadata": {
        "id": "XdqhEDawGHC-"
      },
      "source": [
        "'''\n",
        "\n",
        "##### **3. Making `n_gram` model**\n",
        "\n",
        "* An `n-gram model` is a type of `probabilistic` language model used for predicting the `next item` in a sequence, such as the next word in a sentence. \n",
        "\n",
        "> `N-grams` are contiguous sequences of `n` items in text data. \n",
        "\n",
        "* The ‘items’ can be characters, words, or even sentences, depending on the application.\n",
        "\n",
        "* For example, in the sentence “This is an example”, the `2`-grams (or `bigrams`) would be: “This is”, “is an”, “an example”.\n",
        "\n",
        "![Capture.PNG](attachment:48ad80b3-90bf-4cf6-99f8-7dcfd467d1f8.PNG)\n",
        "\n",
        "* N-gram models are used in various natural language processing tasks like `speech recognition`, machine `translation`, and `predictive` text input."
      ]
    },
    {
      "cell_type": "code",
      "execution_count": 8,
      "metadata": {
        "colab": {
          "base_uri": "https://localhost:8080/"
        },
        "execution": {
          "iopub.execute_input": "2021-08-15T06:01:47.665262Z",
          "iopub.status.busy": "2021-08-15T06:01:47.664941Z",
          "iopub.status.idle": "2021-08-15T06:01:47.930099Z",
          "shell.execute_reply": "2021-08-15T06:01:47.929279Z",
          "shell.execute_reply.started": "2021-08-15T06:01:47.665229Z"
        },
        "id": "7TRGEkZrGHC-",
        "outputId": "b90dc1a5-1eb6-445b-fa3d-093c28920b62",
        "trusted": true
      },
      "outputs": [
        {
          "name": "stdout",
          "output_type": "stream",
          "text": [
            "Total input sequences:  48461\n"
          ]
        }
      ],
      "source": [
        "input_sequences = []\n",
        "for line in medium_data['title']:\n",
        "    token_list = tokenizer.texts_to_sequences([line])[0]\n",
        "    #print(token_list)\n",
        "\n",
        "    for i in range(1, len(token_list)):\n",
        "        n_gram_sequence = token_list[:i+1]\n",
        "        input_sequences.append(n_gram_sequence)\n",
        "\n",
        "# print(input_sequences)\n",
        "print(\"Total input sequences: \", len(input_sequences))"
      ]
    },
    {
      "cell_type": "markdown",
      "metadata": {},
      "source": [
        "* This code is creating a `list` of `n-gram` sequences from the `title` column of the medium_data DataFrame\n",
        "\n",
        "Here’s what each part does:\n",
        "\n",
        "1. **input_sequences = []**: This line initializes an `empty list` that will store the `n-gram` sequences.\n",
        "\n",
        "2. **for line in medium_data['title']:**: This line starts a `loop` that goes through each `title` in the title column of the medium_data DataFrame.\n",
        "\n",
        "3. **token_list = tokenizer.texts_to_sequences([line])[0]**: This line `uses` the previously trained `tokenizer` to convert each title into a `sequence` of integers.\n",
        "\n",
        "4. **for i in range(1, len(token_list)):**: This line starts another `loop` that goes through each `token` in the token list.\n",
        "\n",
        "5. **n_gram_sequence = token_list[:i+1]**: This line creates an `n-gram` sequence from the start of the token list up to and including the i-th token.\n",
        "\n",
        "6. **input_sequences.append(n_gram_sequence)**: This line adds the created `n-gram` sequence to the `list` of input sequences.\n",
        "\n",
        "7. **print(\"Total input sequences: \", len(input_sequences))**: This line `prints` out the total number of input sequences created.\n",
        "\n",
        "* In simple terms, this code is preparing the `text` data for use in a machine learning model by creating `n-gram` sequences."
      ]
    },
    {
      "cell_type": "markdown",
      "metadata": {
        "id": "eTVT6b9VGHC-"
      },
      "source": [
        "'''\n",
        "\n",
        "##### **4. `Padding`**\n",
        "\n",
        "* `Padding` is a technique used to `standardize` the input data `dimensions` so that they can be processed by a neural network. This is particularly important when dealing with `text` data, where sentences or documents can vary in `length`. \n",
        "\n",
        "* `Padding` works by adding `extra` tokens (often `zeros`) to the sequences that are `shorter` than the longest sequence in the dataset. These extra tokens are added either at the beginning (pre-padding) or at the end (post-padding) of the sequence. \n",
        "\n",
        "* `For example`, if we decide to pad all sequences to a length of 6, our sentences from above would look like this:\n",
        "\n",
        "            \"Hello world!\" -> [71, 1331, 4231, 0, 0, 0]\n",
        "            \"How are you doing today?\" -> [73, 8, 3215, 55, 927, 0]\n",
        "            \"The weather will be nice tomorrow\" -> [83, 91, 1, 645, 1253, 927]\n",
        "\n",
        "* Here `0` represents the `padding` `token`."
      ]
    },
    {
      "cell_type": "code",
      "execution_count": 9,
      "metadata": {
        "colab": {
          "base_uri": "https://localhost:8080/"
        },
        "execution": {
          "iopub.execute_input": "2021-08-15T06:01:47.932372Z",
          "iopub.status.busy": "2021-08-15T06:01:47.932125Z",
          "iopub.status.idle": "2021-08-15T06:01:48.252362Z",
          "shell.execute_reply": "2021-08-15T06:01:48.251427Z",
          "shell.execute_reply.started": "2021-08-15T06:01:47.932348Z"
        },
        "id": "wB4N1-GeGHC-",
        "outputId": "7f3b4423-290b-476b-b00d-86470936704d",
        "trusted": true
      },
      "outputs": [
        {
          "data": {
            "text/plain": [
              "array([  0,   0,   0,   0,   0,   0,   0,   0,   0,   0,   0,   0,   0,\n",
              "         0,   0,   0,   0,   0,   0,   0,   0,   0,   0,   0,   0,   0,\n",
              "         0,   0,   0,   0,   0,   0,   0,   0,   0,   0,   0,   5, 676,\n",
              "        68], dtype=int32)"
            ]
          },
          "execution_count": 9,
          "metadata": {},
          "output_type": "execute_result"
        }
      ],
      "source": [
        "# pad sequences\n",
        "max_sequence_len = max([len(x) for x in input_sequences])\n",
        "input_sequences = np.array(pad_sequences(input_sequences, maxlen=max_sequence_len, padding='pre'))\n",
        "input_sequences[1]"
      ]
    },
    {
      "cell_type": "markdown",
      "metadata": {},
      "source": [
        "* This code uses the `pad_sequences` function from the Keras library to `pad` sequences of data. \n",
        "\n",
        "Here’s a breakdown:\n",
        "\n",
        "1. **max_sequence_len = max([len(x) for x in input_sequences])**: This line of code calculates the `maximum length` of the sequences in `input_sequences`. It does this by iterating over each sequence x in input_sequences, calculating its length with len(x), and then taking the maximum of these lengths.\n",
        "\n",
        "2. **input_sequences = np.array(pad_sequences(input_sequences, maxlen=max_sequence_len, padding='pre'))**: This line uses the `pad_sequences` function to `pad` each sequence in input_sequences to the length of the `longest` sequence (max_sequence_len). The `padding='pre'` argument means that if a sequence is `shorter` than max_sequence_len, `zeros` should be added at the beginning of the sequence until its length matches max_sequence_len. The result is then converted to a `NumPy array`.\n",
        "\n",
        "3. **input_sequences[1]**: This line simply accesses and `returns` the `second sequence` in input_sequences (since Python uses 0-based indexing, 1 refers to the second element).\n",
        "\n",
        "* So, in summary, this code is used to ensure that all `sequences` in input_sequences have the `same length` by adding `zeros` at the beginning of shorter sequences. "
      ]
    },
    {
      "cell_type": "markdown",
      "metadata": {
        "id": "w4lT7vz8GHC-"
      },
      "source": [
        "'''\n",
        "\n",
        "### **Prepare `Features` and `Labels`**\n",
        "\n",
        "* Here, we will use the `last` element of all sequences as a `label`.\n",
        "\n",
        "* We need to perform `One-hot encoding` on labels corresponding to total_words.\n",
        "\n",
        "##### **`One-hot encoding`**\n",
        "\n",
        "* `One-hot encoding` is a technique used in machine learning and deep learning to convert `categorical` data into a format that can be provided to ML algorithms. It’s used to `quantify` categorical data.\n",
        "\n",
        "* In `one-hot encoding`, each category of a categorical variable is represented as a `binary vector`. All the elements of this vector are `zero`, except for the one that represents the category, which is set to `one`. \n",
        "\n",
        "* `For example`, if we have a color feature with three categories (Red, Green, Blue), one-hot encoding will create three binary features corresponding to each category:\n",
        "\n",
        "            Red   -> [1, 0, 0]\n",
        "            Green -> [0, 1, 0]\n",
        "            Blue  -> [0, 0, 1]\n",
        "\n",
        "* `One-hot encoding` allows the use of `categorical` variables in models that require `numerical input`. It can improve model performance by providing more information to the model about the categorical variable. It can also help avoid the problem of ordinality, which can occur when a categorical variable has a natural ordering.\n"
      ]
    },
    {
      "cell_type": "code",
      "execution_count": 10,
      "metadata": {
        "execution": {
          "iopub.execute_input": "2021-08-15T06:01:48.254375Z",
          "iopub.status.busy": "2021-08-15T06:01:48.254026Z",
          "iopub.status.idle": "2021-08-15T06:01:48.356166Z",
          "shell.execute_reply": "2021-08-15T06:01:48.355311Z",
          "shell.execute_reply.started": "2021-08-15T06:01:48.254340Z"
        },
        "id": "Fk3O8Fg5GHC-",
        "trusted": true
      },
      "outputs": [],
      "source": [
        "# create features and label\n",
        "xs, labels = input_sequences[:,:-1],input_sequences[:,-1]\n",
        "ys = tf.keras.utils.to_categorical(labels, num_classes=total_words)"
      ]
    },
    {
      "cell_type": "code",
      "execution_count": 11,
      "metadata": {
        "colab": {
          "base_uri": "https://localhost:8080/"
        },
        "execution": {
          "iopub.execute_input": "2021-08-15T06:01:48.357852Z",
          "iopub.status.busy": "2021-08-15T06:01:48.357493Z",
          "iopub.status.idle": "2021-08-15T06:01:48.365385Z",
          "shell.execute_reply": "2021-08-15T06:01:48.364265Z",
          "shell.execute_reply.started": "2021-08-15T06:01:48.357816Z"
        },
        "id": "vIqw4ff2GHC-",
        "outputId": "b3d05223-3e47-4d6a-ef3e-b5b1eaa6b124",
        "trusted": true
      },
      "outputs": [
        {
          "name": "stdout",
          "output_type": "stream",
          "text": [
            "[   0    0    0    0    0    0    0    0    0    0    0    0    0    0\n",
            "    0    0    0    0    0    0    0    0    0    0    0    0    0    0\n",
            "    0    0    0    0    0    5  676   68    2  452 1518]\n",
            "14\n",
            "1.0\n"
          ]
        }
      ],
      "source": [
        "print(xs[5])\n",
        "print(labels[5])\n",
        "print(ys[5][14])"
      ]
    },
    {
      "cell_type": "markdown",
      "metadata": {},
      "source": [
        "* This code is creating `features` and `labels` to train our `Next Word Prediction` model. \n",
        "\n",
        "Here’s a breakdown:\n",
        "\n",
        "1. **xs, labels = input_sequences[:,:-1],input_sequences[:,-1]**: \n",
        "\n",
        "* This line is `splitting` input_sequences into `features` and `labels`. \n",
        "* The `:` operator is used to `slice` arrays in Python. \n",
        "* `input_sequences[:,:-1]` means `all` rows and all columns `except` the `last` one, which are used as `features` (xs). \n",
        "* `input_sequences[:,-1]` means all rows and only the last column, which is used as the `label` (labels).\n",
        "\n",
        "2. **ys = tf.keras.utils.to_categorical(labels, num_classes=total_words)**: \n",
        "\n",
        "* This line is converting the `labels` into a `one-hot` encoded format using the to_categorical function from Keras. \n",
        "* `num_classes=total_words` specifies the total number of `classes`.\n",
        "\n",
        "3. **print(xs[5])**: This line prints the `6th` element of `xs` (Python uses 0-based indexing).\n",
        "\n",
        "4. **print(labels[5])**: This line prints the `6th` element of `labels`.\n",
        "\n",
        "5. **print(ys[5][14])**: This line prints the `15th` element of the `one-hot encoded` representation of the `6th` label.\n",
        "\n",
        "'''\n",
        "\n",
        "* In summary, this code is preparing the data for training a machine learning model by creating features and labels and converting the `labels` into a `one-hot encoded` format."
      ]
    },
    {
      "cell_type": "markdown",
      "metadata": {},
      "source": [
        "***\n",
        "***"
      ]
    },
    {
      "cell_type": "markdown",
      "metadata": {
        "id": "2K5FzFi4GHC-"
      },
      "source": [
        "## **2. Building and Training Model** <a id=\"2\"></a>\n",
        "\n",
        "### **Architecture of a `Bidirectional LSTM`**\n",
        "\n",
        "* A `BiLSTM` is a sequence model which contains `two LSTM` layers, one for processing input in the `forward` direction and the other for processing in the `backward` direction. The intuition behind this approach is that by processing data in both directions, the model is able to better understand the relationship between sequences.\n",
        "\n",
        "* Both of these `LSTM` networks return a `probability vector` as output and the final output is the combination of both of these probabilities. It can be represented as:\n",
        "\n",
        "            P=Pforward​+Pbackward​\n",
        "where,\n",
        "\n",
        "            P : Final probability vector of the network.\n",
        "            Pforward​ : Probability vector from the forward LSTM network.\n",
        "            Pbackward​ : Probability vector from the backward LSTM network1.\n",
        "\n",
        "* The final `output` of each time step is the `combination` of outputs from both `forward` and `backward` LSTM nodes.\n",
        "\n",
        "Image reference: https://www.researchgate.net/figure/The-structure-of-the-Long-Short-Term-Memory-LSTM-neural-network-Reproduced-from-Yan_fig8_334268507\n",
        "![lstm.png](attachment:c34341f6-d243-478a-b4bd-bf242759cd50.png)\n",
        "\n",
        "**Bidirectional LSTM**\n",
        "Image reference: https://paperswithcode.com/method/bilstm\n",
        "![bi.png](attachment:d26c6b0c-cbdf-45a5-b88b-2b352d7b7d63.png)"
      ]
    },
    {
      "cell_type": "markdown",
      "metadata": {
        "id": "rQ408N3pGHC-"
      },
      "source": [
        "'''\n",
        "\n",
        "### **Model ` Training`**\n",
        "\n",
        "* This code below uses the `Keras` library to define and train a `Bidirectional LSTM` (BiLSTM) model for a sequence prediction task. \n",
        "\n",
        "Here’s a breakdown:\n",
        "\n",
        "1. **model = Sequential()**: This line initializes a new `sequential` model. A sequential model is appropriate for a plain stack of layers where each layer has exactly `one input` tensor and `one output` tensor.\n",
        "\n",
        "2. **model.add(Embedding(total_words, 100, input_length=max_sequence_len-1))**: This line adds an `Embedding` layer to the model. The Embedding layer is used to `convert` each `word` in our vocabulary into a `100-dimensional vector`. The input_length parameter is set to max_sequence_len-1, which means that each input sequence to the model will have this length.\n",
        "\n",
        "3. **model.add(Bidirectional(LSTM(150)))**: This line adds a `BiLSTM` layer to the model with `150 units`. The BiLSTM processes the input sequence in both forward and backward directions.\n",
        "\n",
        "4. **model.add(Dense(total_words, activation='softmax'))**: This line adds a `Dense` (fully connected) output layer to the model. The number of units is set to `total_words`, which means that the output of the model will be a probability distribution over all words in our vocabulary. The `softmax` activation function ensures that these probabilities sum up to `1`.\n",
        "\n",
        "5. **adam = Adam(lr=0.01)**: This line initializes an `Adam` optimizer with a learning rate of 0.01. Adam is an optimization algorithm that can be used instead of the classical `stochastic gradient descent` procedure to `update` network weights iterative based on training data.\n",
        "\n",
        "6. **model.compile(loss='categorical_crossentropy', optimizer=adam, metrics=['accuracy'])**: This line `compiles` the model with the `categorical crossentropy loss` function (which is suitable for multi-class classification), the Adam optimizer, and accuracy as a metric.\n",
        "\n",
        "7. **history = model.fit(xs, ys, epochs=50, verbose=1)**: This line `trains` the model for `50 epochs` on the input data `xs` and target data `ys`. The training history is saved in the history variable.\n",
        "\n",
        "8. **print(model)**: This line prints a string representation of the model."
      ]
    },
    {
      "cell_type": "code",
      "execution_count": 12,
      "metadata": {
        "colab": {
          "base_uri": "https://localhost:8080/"
        },
        "execution": {
          "iopub.execute_input": "2021-08-15T06:01:48.367655Z",
          "iopub.status.busy": "2021-08-15T06:01:48.366921Z",
          "iopub.status.idle": "2021-08-15T06:22:51.089948Z",
          "shell.execute_reply": "2021-08-15T06:22:51.089023Z",
          "shell.execute_reply.started": "2021-08-15T06:01:48.367616Z"
        },
        "id": "RgLbUn5RGHC_",
        "outputId": "02db3c91-be19-4c43-d01a-50b61c6b8dc6",
        "trusted": true
      },
      "outputs": [
        {
          "name": "stderr",
          "output_type": "stream",
          "text": [
            "WARNING:absl:`lr` is deprecated in Keras optimizer, please use `learning_rate` or use the legacy optimizer, e.g.,tf.keras.optimizers.legacy.Adam.\n"
          ]
        },
        {
          "name": "stdout",
          "output_type": "stream",
          "text": [
            "Epoch 1/50\n",
            "1515/1515 [==============================] - 38s 20ms/step - loss: 6.9849 - accuracy: 0.0855\n",
            "Epoch 2/50\n",
            "1515/1515 [==============================] - 19s 12ms/step - loss: 6.1717 - accuracy: 0.1378\n",
            "Epoch 3/50\n",
            "1515/1515 [==============================] - 18s 12ms/step - loss: 5.6749 - accuracy: 0.1636\n",
            "Epoch 4/50\n",
            "1515/1515 [==============================] - 18s 12ms/step - loss: 5.2177 - accuracy: 0.1896\n",
            "Epoch 5/50\n",
            "1515/1515 [==============================] - 17s 11ms/step - loss: 4.7772 - accuracy: 0.2130\n",
            "Epoch 6/50\n",
            "1515/1515 [==============================] - 17s 11ms/step - loss: 4.3543 - accuracy: 0.2427\n",
            "Epoch 7/50\n",
            "1515/1515 [==============================] - 17s 11ms/step - loss: 3.9554 - accuracy: 0.2806\n",
            "Epoch 8/50\n",
            "1515/1515 [==============================] - 17s 11ms/step - loss: 3.5809 - accuracy: 0.3279\n",
            "Epoch 9/50\n",
            "1515/1515 [==============================] - 17s 11ms/step - loss: 3.2308 - accuracy: 0.3810\n",
            "Epoch 10/50\n",
            "1515/1515 [==============================] - 17s 11ms/step - loss: 2.9108 - accuracy: 0.4337\n",
            "Epoch 11/50\n",
            "1515/1515 [==============================] - 17s 11ms/step - loss: 2.6248 - accuracy: 0.4833\n",
            "Epoch 12/50\n",
            "1515/1515 [==============================] - 17s 11ms/step - loss: 2.3725 - accuracy: 0.5309\n",
            "Epoch 13/50\n",
            "1515/1515 [==============================] - 17s 11ms/step - loss: 2.1454 - accuracy: 0.5747\n",
            "Epoch 14/50\n",
            "1515/1515 [==============================] - 17s 11ms/step - loss: 1.9481 - accuracy: 0.6122\n",
            "Epoch 15/50\n",
            "1515/1515 [==============================] - 17s 11ms/step - loss: 1.7690 - accuracy: 0.6478\n",
            "Epoch 16/50\n",
            "1515/1515 [==============================] - 17s 11ms/step - loss: 1.6121 - accuracy: 0.6795\n",
            "Epoch 17/50\n",
            "1515/1515 [==============================] - 17s 11ms/step - loss: 1.4746 - accuracy: 0.7082\n",
            "Epoch 18/50\n",
            "1515/1515 [==============================] - 17s 11ms/step - loss: 1.3522 - accuracy: 0.7313\n",
            "Epoch 19/50\n",
            "1515/1515 [==============================] - 17s 11ms/step - loss: 1.2468 - accuracy: 0.7510\n",
            "Epoch 20/50\n",
            "1515/1515 [==============================] - 17s 11ms/step - loss: 1.1521 - accuracy: 0.7691\n",
            "Epoch 21/50\n",
            "1515/1515 [==============================] - 17s 11ms/step - loss: 1.0709 - accuracy: 0.7842\n",
            "Epoch 22/50\n",
            "1515/1515 [==============================] - 17s 11ms/step - loss: 1.0036 - accuracy: 0.7971\n",
            "Epoch 23/50\n",
            "1515/1515 [==============================] - 17s 11ms/step - loss: 0.9400 - accuracy: 0.8086\n",
            "Epoch 24/50\n",
            "1515/1515 [==============================] - 17s 11ms/step - loss: 0.8888 - accuracy: 0.8178\n",
            "Epoch 25/50\n",
            "1515/1515 [==============================] - 17s 11ms/step - loss: 0.8444 - accuracy: 0.8255\n",
            "Epoch 26/50\n",
            "1515/1515 [==============================] - 17s 11ms/step - loss: 0.8028 - accuracy: 0.8320\n",
            "Epoch 27/50\n",
            "1515/1515 [==============================] - 17s 11ms/step - loss: 0.7717 - accuracy: 0.8369\n",
            "Epoch 28/50\n",
            "1515/1515 [==============================] - 17s 11ms/step - loss: 0.7406 - accuracy: 0.8411\n",
            "Epoch 29/50\n",
            "1515/1515 [==============================] - 17s 11ms/step - loss: 0.7174 - accuracy: 0.8445\n",
            "Epoch 30/50\n",
            "1515/1515 [==============================] - 17s 11ms/step - loss: 0.6976 - accuracy: 0.8464\n",
            "Epoch 31/50\n",
            "1515/1515 [==============================] - 17s 11ms/step - loss: 0.6800 - accuracy: 0.8489\n",
            "Epoch 32/50\n",
            "1515/1515 [==============================] - 17s 11ms/step - loss: 0.6649 - accuracy: 0.8504\n",
            "Epoch 33/50\n",
            "1515/1515 [==============================] - 17s 11ms/step - loss: 0.6511 - accuracy: 0.8514\n",
            "Epoch 34/50\n",
            "1515/1515 [==============================] - 17s 11ms/step - loss: 0.6400 - accuracy: 0.8517\n",
            "Epoch 35/50\n",
            "1515/1515 [==============================] - 17s 11ms/step - loss: 0.6325 - accuracy: 0.8533\n",
            "Epoch 36/50\n",
            "1515/1515 [==============================] - 17s 11ms/step - loss: 0.6219 - accuracy: 0.8536\n",
            "Epoch 37/50\n",
            "1515/1515 [==============================] - 17s 11ms/step - loss: 0.6158 - accuracy: 0.8543\n",
            "Epoch 38/50\n",
            "1515/1515 [==============================] - 17s 11ms/step - loss: 0.6085 - accuracy: 0.8543\n",
            "Epoch 39/50\n",
            "1515/1515 [==============================] - 17s 11ms/step - loss: 0.6037 - accuracy: 0.8546\n",
            "Epoch 40/50\n",
            "1515/1515 [==============================] - 17s 11ms/step - loss: 0.5969 - accuracy: 0.8551\n",
            "Epoch 41/50\n",
            "1515/1515 [==============================] - 17s 11ms/step - loss: 0.5952 - accuracy: 0.8557\n",
            "Epoch 42/50\n",
            "1515/1515 [==============================] - 17s 11ms/step - loss: 0.5894 - accuracy: 0.8551\n",
            "Epoch 43/50\n",
            "1515/1515 [==============================] - 17s 11ms/step - loss: 0.5850 - accuracy: 0.8560\n",
            "Epoch 44/50\n",
            "1515/1515 [==============================] - 17s 11ms/step - loss: 0.5851 - accuracy: 0.8550\n",
            "Epoch 45/50\n",
            "1515/1515 [==============================] - 17s 11ms/step - loss: 0.5804 - accuracy: 0.8553\n",
            "Epoch 46/50\n",
            "1515/1515 [==============================] - 17s 11ms/step - loss: 0.5772 - accuracy: 0.8558\n",
            "Epoch 47/50\n",
            "1515/1515 [==============================] - 17s 11ms/step - loss: 0.5739 - accuracy: 0.8553\n",
            "Epoch 48/50\n",
            "1515/1515 [==============================] - 17s 11ms/step - loss: 0.5725 - accuracy: 0.8550\n",
            "Epoch 49/50\n",
            "1515/1515 [==============================] - 17s 11ms/step - loss: 0.5724 - accuracy: 0.8553\n",
            "Epoch 50/50\n",
            "1515/1515 [==============================] - 17s 11ms/step - loss: 0.5681 - accuracy: 0.8567\n",
            "<keras.src.engine.sequential.Sequential object at 0x7cf93fd8d450>\n"
          ]
        }
      ],
      "source": [
        "model = Sequential()\n",
        "model.add(Embedding(total_words, 100, input_length=max_sequence_len-1))\n",
        "model.add(Bidirectional(LSTM(150)))\n",
        "model.add(Dense(total_words, activation='softmax'))\n",
        "adam = Adam(lr=0.01)\n",
        "model.compile(loss='categorical_crossentropy', optimizer=adam, metrics=['accuracy'])\n",
        "history = model.fit(xs, ys, epochs=50, verbose=1)\n",
        "#print model.summary()\n",
        "print(model)\n"
      ]
    },
    {
      "cell_type": "markdown",
      "metadata": {
        "id": "CWM9MXfWGHC_"
      },
      "source": [
        "'''\n",
        "\n",
        "#### **`Saving` Model and Tokenizer**"
      ]
    },
    {
      "cell_type": "code",
      "execution_count": 13,
      "metadata": {
        "colab": {
          "base_uri": "https://localhost:8080/"
        },
        "id": "9vZxj76EGHC_",
        "outputId": "f6c02c14-6e1d-478c-debb-f3351c88b4b0"
      },
      "outputs": [
        {
          "name": "stderr",
          "output_type": "stream",
          "text": [
            "/usr/local/lib/python3.10/dist-packages/keras/src/engine/training.py:3079: UserWarning: You are saving your model as an HDF5 file via `model.save()`. This file format is considered legacy. We recommend using instead the native Keras format, e.g. `model.save('my_model.keras')`.\n",
            "  saving_api.save_model(\n"
          ]
        }
      ],
      "source": [
        "import pickle\n",
        "\n",
        "\n",
        "\n",
        "# Save the tokenizer\n",
        "with open('/content/drive/My Drive/Model/tokenizer.pkl', 'wb') as tokenizer_file:\n",
        "    pickle.dump(tokenizer, tokenizer_file)\n",
        "\n",
        "# Save the model\n",
        "model.save('/content/drive/My Drive/Model/story_generator_model.h5')"
      ]
    },
    {
      "cell_type": "markdown",
      "metadata": {
        "id": "zs8_zzXrGHC_"
      },
      "source": [
        "'''\n",
        "\n",
        "#### **`Loading` Model and Tokenizer**"
      ]
    },
    {
      "cell_type": "code",
      "execution_count": 14,
      "metadata": {
        "id": "7Q5WLUELGHC_"
      },
      "outputs": [],
      "source": [
        "import pickle\n",
        "from keras.models import load_model\n",
        "\n",
        "\n",
        "\n",
        "# Load the tokenizer\n",
        "with open('/content/drive/My Drive/Model/tokenizer.pkl', 'rb') as tokenizer_file:\n",
        "    tokenizer = pickle.load(tokenizer_file)\n",
        "\n",
        "# Load the model\n",
        "model = load_model('/content/drive/My Drive/Model/story_generator_model.h5')"
      ]
    },
    {
      "cell_type": "markdown",
      "metadata": {
        "id": "coR7XoXkGHC_"
      },
      "source": [
        "'''\n",
        "\n",
        "### **`Plotting` model accuracy and loss**\n",
        "\n",
        "* The code defines a function `plot_graphs` that takes a Keras training `history` and a metric name as `inputs`, and `plots` the specified metric as a function of the number of `epochs`. \n",
        "\n",
        "* The `matplotlib.pyplot` module is used for creating the plot. \n",
        "\n",
        "* The function first plots the specified metric from the training history, then `labels` the x-axis as `“Epochs”` and the y-axis as the specified `metric`, and finally displays the plot using `plt.show()`. \n",
        "\n",
        "* The metric plotted against is model `accuracy` and `loss`."
      ]
    },
    {
      "cell_type": "code",
      "execution_count": 15,
      "metadata": {
        "execution": {
          "iopub.execute_input": "2021-08-15T06:22:51.092945Z",
          "iopub.status.busy": "2021-08-15T06:22:51.092692Z",
          "iopub.status.idle": "2021-08-15T06:22:51.097521Z",
          "shell.execute_reply": "2021-08-15T06:22:51.096585Z",
          "shell.execute_reply.started": "2021-08-15T06:22:51.092921Z"
        },
        "id": "4xuj2cQuGHC_",
        "trusted": true
      },
      "outputs": [],
      "source": [
        "import matplotlib.pyplot as plt\n",
        "\n",
        "\n",
        "def plot_graphs(history, string):\n",
        "    plt.plot(history.history[string])\n",
        "    plt.xlabel(\"Epochs\")\n",
        "    plt.ylabel(string)\n",
        "    plt.show()"
      ]
    },
    {
      "cell_type": "code",
      "execution_count": 16,
      "metadata": {
        "colab": {
          "base_uri": "https://localhost:8080/",
          "height": 449
        },
        "execution": {
          "iopub.execute_input": "2021-08-15T06:22:51.099252Z",
          "iopub.status.busy": "2021-08-15T06:22:51.098715Z",
          "iopub.status.idle": "2021-08-15T06:22:51.256410Z",
          "shell.execute_reply": "2021-08-15T06:22:51.255568Z",
          "shell.execute_reply.started": "2021-08-15T06:22:51.099215Z"
        },
        "id": "Dp1a06VRGHC_",
        "outputId": "4fa277fc-09c5-4a2d-aa37-2f9024c92401",
        "trusted": true
      },
      "outputs": [
        {
          "data": {
            "image/png": "[encoded data removed]",
            "text/plain": [
              "<Figure size 640x480 with 1 Axes>"
            ]
          },
          "metadata": {},
          "output_type": "display_data"
        }
      ],
      "source": [
        "plot_graphs(history, 'accuracy')"
      ]
    },
    {
      "cell_type": "code",
      "execution_count": 17,
      "metadata": {
        "colab": {
          "base_uri": "https://localhost:8080/",
          "height": 449
        },
        "execution": {
          "iopub.execute_input": "2021-08-15T06:22:51.257867Z",
          "iopub.status.busy": "2021-08-15T06:22:51.257557Z",
          "iopub.status.idle": "2021-08-15T06:22:51.379243Z",
          "shell.execute_reply": "2021-08-15T06:22:51.378467Z",
          "shell.execute_reply.started": "2021-08-15T06:22:51.257833Z"
        },
        "id": "JKL7LBeJGHC_",
        "outputId": "d5de3da1-e435-4dbb-9af2-970a361b7134",
        "trusted": true
      },
      "outputs": [
        {
          "data": {
            "image/png": "[encoded data removed]",
            "text/plain": [
              "<Figure size 640x480 with 1 Axes>"
            ]
          },
          "metadata": {},
          "output_type": "display_data"
        }
      ],
      "source": [
        "plot_graphs(history, 'loss')"
      ]
    },
    {
      "cell_type": "markdown",
      "metadata": {},
      "source": [
        "***\n",
        "***"
      ]
    },
    {
      "cell_type": "markdown",
      "metadata": {
        "id": "eF5sXHyWGHC_"
      },
      "source": [
        "# **3. Generating Stories** <a id=\"3\"></a>\n",
        "\n",
        "* This code uses the `Keras` library to predict the next words in a sequence. \n",
        "\n",
        "Here’s a breakdown:\n",
        "\n",
        "1. **from keras.preprocessing.sequence import pad_sequences**: This line imports the `pad_sequences` function from Keras, which is used to ensure that all sequences in a list have the `same length`.\n",
        "\n",
        "2. **import numpy as np**: This line imports the `numpy` library, which provides support for `arrays` and many mathematical operations.\n",
        "\n",
        "3. **def predict_next_words(model, tokenizer, text, num_words):**: This line defines a function named `predict_next_words` that takes four arguments: a Keras model (`model`), a tokenizer (`tokenizer`), an input text (`text`), and the number of words to predict (`num_words`).\n",
        "\n",
        "4. Inside the function:\n",
        "\n",
        "        The input text is tokenized using the provided tokenizer.\n",
        "        The tokenized sequence is padded to a length of 100 using the pad_sequences function.\n",
        "        The model is used to predict the probabilities of the next word for the given input sequence.\n",
        "        The word with the highest probability is selected as the predicted word.\n",
        "        The predicted word is then appended to the input text.\n",
        "        This process is repeated num_words times.\n"
      ]
    },
    {
      "cell_type": "code",
      "execution_count": 21,
      "metadata": {
        "execution": {
          "iopub.execute_input": "2021-08-15T06:22:51.380838Z",
          "iopub.status.busy": "2021-08-15T06:22:51.380501Z",
          "iopub.status.idle": "2021-08-15T06:22:52.015269Z",
          "shell.execute_reply": "2021-08-15T06:22:52.014289Z",
          "shell.execute_reply.started": "2021-08-15T06:22:51.380802Z"
        },
        "id": "mAOSYvNsGHC_",
        "trusted": true
      },
      "outputs": [],
      "source": [
        "from keras.preprocessing.sequence import pad_sequences\n",
        "import numpy as np\n",
        "\n",
        "\n",
        "def predict_next_words(model, tokenizer, text, num_words):\n",
        "    for _ in range(num_words):\n",
        "        # Tokenize the input text\n",
        "        sequence = tokenizer.texts_to_sequences([text])[0]\n",
        "\n",
        "        # Pad the sequence\n",
        "        sequence = pad_sequences([sequence], maxlen=100)\n",
        "\n",
        "        # Predict the probabilities for each class\n",
        "        probabilities = model.predict(sequence, verbose=0)\n",
        "\n",
        "        # Find the class with the highest probability\n",
        "        predicted = np.argmax(probabilities, axis=-1)\n",
        "\n",
        "        # Convert the predicted word index to word\n",
        "        output_word = \"\"\n",
        "        for word, index in tokenizer.word_index.items():\n",
        "            if index == predicted:\n",
        "                output_word = word\n",
        "                break\n",
        "\n",
        "        # Append the predicted word to the input text\n",
        "        text += \" \" + output_word\n",
        "\n",
        "    return text"
      ]
    },
    {
      "cell_type": "code",
      "execution_count": 22,
      "metadata": {
        "colab": {
          "base_uri": "https://localhost:8080/",
          "height": 52
        },
        "id": "vQ7SsKCVPEwN",
        "outputId": "003d02ee-a49f-4e63-f457-f3b491e4fac4"
      },
      "outputs": [
        {
          "data": {
            "application/vnd.google.colaboratory.intrinsic+json": {
              "type": "string"
            },
            "text/plain": [
              "'implementation of rnn lstm and gru using opencv and knowledge users for python how trip into wide day in the application of its'"
            ]
          },
          "execution_count": 22,
          "metadata": {},
          "output_type": "execute_result"
        }
      ],
      "source": [
        "predict_next_words(model=model, tokenizer=tokenizer, text=\"implementation of\", num_words=21)"
      ]
    },
    {
      "cell_type": "markdown",
      "metadata": {},
      "source": [
        "'''\n",
        "\n",
        "### **Conclusion**\n",
        "\n",
        "* The `text` this Model generates `loses` `context` over long distance. \n",
        "\n",
        "* One way to counter this is to `include more words` as labels to get `greater context` from the data. \n",
        "\n",
        "* We can also `train` the model on clean and `diverse text` from the internet."
      ]
    },
    {
      "cell_type": "markdown",
      "metadata": {},
      "source": [
        "***\n",
        "***"
      ]
    },
    {
      "cell_type": "code",
      "execution_count": null,
      "metadata": {
        "id": "Lla1sMAKGHDA"
      },
      "outputs": [],
      "source": []
    }
  ],
  "metadata": {
    "accelerator": "GPU",
    "colab": {
      "gpuType": "V100",
      "machine_shape": "hm",
      "provenance": []
    },
    "kernelspec": {
      "display_name": "Python 3",
      "name": "python3"
    },
    "language_info": {
      "codemirror_mode": {
        "name": "ipython",
        "version": 3
      },
      "file_extension": ".py",
      "mimetype": "text/x-python",
      "name": "python",
      "nbconvert_exporter": "python",
      "pygments_lexer": "ipython3",
      "version": "3.11.4"
    }
  },
  "nbformat": 4,
  "nbformat_minor": 0
}
