{
 "cells": [
  {
   "cell_type": "markdown",
   "metadata": {},
   "source": [
    "* **`App`** - [Ai Comic Generator]()\n",
    "\n",
    "* **`Full Project`** - [Ai Comic Generator](https://github.com/sanskarGupta551/AI_work/tree/main/Portfolio_project___Ai_Comic_Generator) "
   ]
  },
  {
   "cell_type": "markdown",
   "metadata": {},
   "source": [
    "# **1.1 Story Generation**\n",
    "\n",
    "* After taking the `User Inputs`, the next step is to write the `Story-telling` of the Comics. \n",
    "* In this notebook, we will build the entire pipeline for `Story Generation` for our `Comics` that uses specific `Prompts` to generate high quality `stories` with great context.  \n",
    "\n",
    "'''\n",
    "\n",
    "### **Generating Stories using specific Prompts**\n",
    "\n",
    "* Building a model that generates text and stories using `specific prompts` involves a few key steps. \n",
    "* These include `understanding` the concept of `prompt engineering`, identifying `the task` and purpose of your prompt, being `specific` with your prompt, and `refining your model` through an iterative approach.\n",
    "\n",
    "##### **Prompt Engineering**\n",
    "\n",
    "* `Prompt engineering` is a critical concept when it comes to generating text using AI models. \n",
    "* It involves crafting a `framework` OR a `set of instructions` that the AI can use to generate the desired text. \n",
    "* The `GPT` model, for example, uses the prompt to `determine` the structure and content of the `text` it needs to generate.\n",
    "\n",
    "##### **Identify the Task and Purpose of Your Prompt**\n",
    "\n",
    "* Before you start creating your prompt, it is vital to know what task you want the model to accomplish and what the `desired result` should be. \n",
    "* This could be `generating a narrative`, acquiring knowledge, or another type of artistic expression. \n",
    "* Having a clear `understanding` of the task at hand will make it easier to compose a `prompt` that is specific and relevant to the topic at hand.\n",
    "\n",
    "##### **Be Specific In Your Writing**\n",
    "\n",
    "* The `quality` and relevance of the generated `text` will be greatly influenced by the `specificity` of your `prompt`. \n",
    "* For instance, if you're using a story generation model, you could start with an `input` like \"Once upon a time in a town called XYZ\" instead of a more general input like \"Once upon a time\".\n",
    "\n",
    "##### **Iterative Refinement**\n",
    "\n",
    "* It's important to note that `generating` high-quality text using AI models is an `iterative process`. \n",
    "* This means that you may need to `refine` your prompt or adjust your `model parameters` based on the quality of the generated text. \n",
    "* This process of refinement and optimization can help you achieve more accurate and natural-sounding results.\n",
    "\n",
    "'''\n",
    "\n",
    "### **Pipeline** \n",
    "\n",
    "* In a detailed outline, our **Story Generation Pipeline** will work something like this - \n",
    "\n",
    "1. **User** > `User Inputs`  \n",
    "2. `User Inputs` > **Prompts Generator** > `Prompts` > **Story Generator** > `Story` \n",
    "3. `Story` > **Summarizer** > `Story Plot Summary` & `Comic Title` \n",
    "\n",
    "'''\n",
    "\n",
    "#### **Process**\n",
    "\n",
    "* We will solve the task of **Story Generation** through following process - \n",
    "    * [1. User Inputs](#1)\n",
    "    * [2. Prompts Generator](#2)\n",
    "    * [3. Story Generator](#3)\n",
    "    * [4. Summarizer](#4)\n",
    "\n",
    "***\n",
    "***"
   ]
  },
  {
   "cell_type": "markdown",
   "metadata": {},
   "source": [
    "## **1. User Inputs** <a id=\"1\"></a>\n",
    "\n",
    "* The following `User Inputs` that will influence the `Story` elements of the `Comic`.\n",
    "\n",
    "##### **a. Comic Idea** :- \n",
    "* An **Optional** `Text` Input. \n",
    "* General Idea of the Comic. \n",
    "\n",
    "##### **b. Have Dialogues** :- \n",
    "* A `Boolean` Input. \n",
    "* Determines whether the Comic will have Dialogues. \n",
    "\n",
    "##### **c. Literary Elements** :- \n",
    "* A list of `Options` to choose from in `Text` format. \n",
    "* Determines the flavour of the Comics. \n",
    "\n",
    "Below are the `Literary elements` with the `Options` listed for them.\n",
    "\n",
    "* `Style` :- Plot First, Full Script, Classic Comic Strip, Western Comic Style, Modern Age Styles, ~Pick Any \n",
    "* `Tone` :- Joyful, Serious, Humorous, Sad, Formal, Informal, Optimistic, Pessimistic, Horror, ~Pick Any \n",
    "* `Mood` :- Cheerful, Humorous, Idyllic, Madness, Melancholic, Suspenseful, Romantic, Horrrifying, Inspirational, ~Pick Any \n",
    "* `Pace` :- Fast-paced, Slow-paced, Variable pacing, Steady pacing, ~Pick Any \n",
    "* `Theme` :- Fantasy, Reality, Autobiography, Humor, Politics, Love and Freindship, Courage and Heroism, Good vs Evil, ~Pick Any \n",
    "\n",
    "##### **d. Conflict** :- \n",
    "* An **Optional** `Text` input. \n",
    "* Plot Conflict around which the Story revolves. \n",
    "\n",
    "##### **e. Villain** :- \n",
    "* An **Optional** `Text` input. \n",
    "* Describes the main Antagonist in the Comic if any. \n",
    "\n",
    "##### **f. Ending** :- \n",
    "* An **Optional** `Text` input. \n",
    "* Describes an Ending the User prefers to see. \n",
    "\n",
    "##### **g. Keywords** :- \n",
    "* An **Optional** `Text` input.\n",
    "* Additional keywords that determine the features of the story-telling.\n",
    "\n",
    "***\n",
    "***"
   ]
  },
  {
   "cell_type": "markdown",
   "metadata": {},
   "source": [
    "## **2. Prompts Generator** <a id=\"2\"></a> \n",
    "\n",
    "* There are some things to mention here - \n",
    "    * First, we only need `prompts` for `one` purpose - **Story Generation**. \n",
    "    * Secondly, our `User Inputs` are `fixed` and `predictable`. \n",
    "* This means that we can use a `simple function` that creates a `string` with all the `User Inputs` filled in right places, and then use prompts as such to `Generate` Stories and `Training` the Model. \n",
    "\n",
    "'''\n",
    "\n",
    "* Below is the list of `User Inputs` that we will use in our `Prompts` - \n",
    "    * Comic Idea \n",
    "    * Have Dialogues \n",
    "    * Literary Elements `(Style, Tone, Mood, Pace, Theme)` \n",
    "    * Conflict \n",
    "    * Villain \n",
    "    * Ending \n",
    "    * Keywords \n",
    "* Let's create a `Prompt Generator` function based on these `Inputs`."
   ]
  },
  {
   "cell_type": "code",
   "execution_count": 13,
   "metadata": {},
   "outputs": [],
   "source": [
    "def Prompt_Generator(comic_idea, have_dialogues, style, tone, mood, pace, theme, \n",
    "                     conflict, villain, ending, keywords): \n",
    "\n",
    "    prompt = f\"\"\"Write a {style}, {tone}, {mood}, {pace}, {theme} story. The story is based on - {comic_idea}. The story will {have_dialogues}have dialogues. The conflict is {conflict}. The villain is {villain}. The ending is {ending}. More keywords are {keywords}.\"\"\" \n",
    "    return prompt \n"
   ]
  },
  {
   "cell_type": "markdown",
   "metadata": {},
   "source": [
    "* Now let's assign these `User Inputs` a random value for testing that can be used in the `Prompts`. "
   ]
  },
  {
   "cell_type": "code",
   "execution_count": 14,
   "metadata": {},
   "outputs": [],
   "source": [
    "comic_idea = \"A Dog in space\" \n",
    "have_dialogues = \"\" \n",
    "style = \"Plot First\" \n",
    "tone = \"Joyful\" \n",
    "mood = \"Cheerful\" \n",
    "pace = \"Fast-paced\" \n",
    "theme = \"Fantasy\" \n",
    "conflict = \"A sandwich\" \n",
    "villain = \"A cute teddy bear\" \n",
    "ending = \"A good ending\" \n",
    "keywords = \"suspense, thriller, action, travelling\" "
   ]
  },
  {
   "cell_type": "code",
   "execution_count": 15,
   "metadata": {},
   "outputs": [
    {
     "data": {
      "text/plain": [
       "'Write a Plot First, Joyful, Cheerful, Fast-paced, Fantasy story. The story is based on - A Dog in space. The story will have dialogues. The conflict is A sandwich. The villain is A cute teddy bear. The ending is A good ending. More keywords are suspense, thriller, action, travelling.'"
      ]
     },
     "execution_count": 15,
     "metadata": {},
     "output_type": "execute_result"
    }
   ],
   "source": [
    "Prompt_Generator(comic_idea, have_dialogues, style, tone, mood, pace, theme, \n",
    "                     conflict, villain, ending, keywords)"
   ]
  },
  {
   "cell_type": "markdown",
   "metadata": {},
   "source": [
    "***\n",
    "***"
   ]
  },
  {
   "cell_type": "markdown",
   "metadata": {},
   "source": [
    "## **3. Story Generator** <a id=\"3\"></a> \n",
    "\n",
    "* Here, we will build and `Train` a `Deep Learning Model` that takes instructions from `prompts` and generates `stories`. \n",
    "* Even though `Prompt Generation` is done earlier in the pipeline, `Story Generation` being the `focal` point here, we will begin with it. \n",
    "\n",
    "#### **Story Generation Method - `Neural Network-Based Story Generation`**\n",
    "\n",
    "* This method involves `training neural networks` on a corpus of text, enabling them to generate a wide range of stories on various topics. \n",
    "\n",
    "* Some approaches use a `language model` as a resource to answer questions about a story world, with the answers becoming the content of the story itself.  \n",
    "\n",
    "* Other methods, like the `C2PO` system, use neural networks like `COMET` to infer what might come next in a story, creating a directed acyclic graph of plausible successors and predecessors until a complete path from start to end is found. \n",
    "\n",
    "* Another approach in neural story generation is the `controllable story generation`. In this method, `key points` in the story are provided, and the model is tasked with `in-filling` the narrative. For instance, given `a beginning and an ending`, the model attempts to generate the `middle part` of the story, ensuring overall `coherence`.\n",
    "\n",
    "* Neural network-based systems can `generate` a wider range of stories but may `struggle` with maintaining coherence over `longer` narratives. \n",
    "\n",
    "'''\n",
    "\n",
    "#### **Process** \n",
    "\n",
    "* [a. Building a Custom Dataset](#11)\n",
    "* [b. Building a GPT Model](#12)\n",
    "* [c. Training the GPT Model](#13)\n",
    "* [d. Evaluating the Model](#14)\n",
    "\n",
    "***"
   ]
  },
  {
   "cell_type": "markdown",
   "metadata": {},
   "source": [
    "### **a. Building a Custom Dataset** <a id=\"11\"></a>\n",
    "\n",
    "> **`Your Model is as good as your Data`**. \n",
    "\n",
    "* Our dataset for training our `Story Generation` model will consist of two things - \n",
    "    1. **Prompts** with context as `Labels`. \n",
    "    2. **Stories** as `Training Data`. \n",
    "* Through this data, our model will learn the `relation` between `Prompts` and `Generated Stories`. \n",
    "* Thus, will our model be able to `generate` Better `stories` based on `User Inputs`. \n",
    "\n",
    "'''\n",
    "\n",
    "#### **Process** \n",
    "\n",
    "1. **Collecting Stories** \n",
    "2. **Creating Prompts** \n",
    "3. **Data Preprocessing** \n",
    "\n",
    "'''\n",
    "\n",
    "#### **1. Collecting Stories** \n",
    "\n",
    "* `Books Dataset` - [books3](https://github.com/soskek/bookcorpus/issues/27#issuecomment-716104208) (37 GB)\n",
    "\n",
    "'''\n",
    "\n",
    "####  **`Wattpad Dataset`** \n",
    "\n",
    "* The `Wattpad Dataset` is a collection of over `600,000 stories` from the popular online platform `Wattpad`. \n",
    "\n",
    "> Wattpad is a website and app where users can create and share their own stories in various `categories`, such as fanfiction, horror, humor, and adventure. Wattpad has over `90 million monthly users` and hosts stories in over `50 languages`.\n",
    "\n",
    "* The `Wattpad Dataset` was created by researchers from the University of Padova, Italy, who scraped the `metadata and text of the stories` from the Wattpad website in 2018. The dataset contains information such as the `title, author, genre, tags, description, votes, comments, reads, and parts of each story`. The dataset also includes the network structure of the authors and readers, such as who follows whom and who votes for which stories.\n",
    "\n",
    "* The `Wattpad Dataset` can be used for various `purposes`, such as analyzing the characteristics and trends of online storytelling, exploring the social dynamics and interactions of the Wattpad community, and developing natural language processing and `text generation models` based on the stories. The dataset is publicly available on GitHub, where you can also find the scripts and tools used to create and process it. \n"
   ]
  },
  {
   "cell_type": "code",
   "execution_count": null,
   "metadata": {},
   "outputs": [],
   "source": [
    "# Find as many stories as possible under 10000 words. (~100000 stories) \n",
    "# Collect them in a .csv file with metadata. \n",
    "# Generate other data. (~such as those in prompts) "
   ]
  },
  {
   "cell_type": "markdown",
   "metadata": {},
   "source": [
    "'''\n",
    "\n",
    "#### **2. Creating Prompts**\n",
    "\n",
    "* \n",
    "\n",
    "'''\n",
    "\n",
    "**Notes:-** \n",
    "* When generating prompts for the dataset, leave some of the inputs empty strings. This is to simulate the real life scenario of User using the app as intended. \n",
    "* Set a limit on the number of characters that we take from each input. "
   ]
  },
  {
   "cell_type": "code",
   "execution_count": null,
   "metadata": {},
   "outputs": [],
   "source": []
  },
  {
   "cell_type": "markdown",
   "metadata": {},
   "source": [
    "'''\n",
    "\n",
    "#### **3. Data Preprocessing** <a id=\"13\"></a> \n",
    "\n",
    "*"
   ]
  },
  {
   "cell_type": "code",
   "execution_count": null,
   "metadata": {},
   "outputs": [],
   "source": []
  },
  {
   "cell_type": "markdown",
   "metadata": {},
   "source": [
    "***"
   ]
  },
  {
   "cell_type": "code",
   "execution_count": null,
   "metadata": {},
   "outputs": [],
   "source": []
  }
 ],
 "metadata": {
  "kernelspec": {
   "display_name": "CV",
   "language": "python",
   "name": "python3"
  },
  "language_info": {
   "codemirror_mode": {
    "name": "ipython",
    "version": 3
   },
   "file_extension": ".py",
   "mimetype": "text/x-python",
   "name": "python",
   "nbconvert_exporter": "python",
   "pygments_lexer": "ipython3",
   "version": "3.9.17"
  },
  "orig_nbformat": 4
 },
 "nbformat": 4,
 "nbformat_minor": 2
}
