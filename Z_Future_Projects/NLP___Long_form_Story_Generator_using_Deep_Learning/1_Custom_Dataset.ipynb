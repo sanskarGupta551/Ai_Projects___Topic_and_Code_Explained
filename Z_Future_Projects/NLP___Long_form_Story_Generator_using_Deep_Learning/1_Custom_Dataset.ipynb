{
 "cells": [
  {
   "cell_type": "markdown",
   "metadata": {},
   "source": [
    "# **Custom Dataset** `(1/3)`\n",
    "\n",
    "* \n",
    "\n",
    "'''\n",
    "\n",
    "### **Process**\n",
    "\n",
    "* [1. Collecting Stories](#1)\n",
    "* [2. ](#2)\n",
    "\n",
    "***\n",
    "***"
   ]
  },
  {
   "cell_type": "markdown",
   "metadata": {},
   "source": [
    "## **1. Collecting Stories** <a id=\"1\"></a>\n",
    "\n",
    "* Google Books Ngrams\n",
    "* GutenBerg Standardized Corpus\n",
    "* ArXiv\n",
    "* Project Gutenberg"
   ]
  },
  {
   "cell_type": "code",
   "execution_count": null,
   "metadata": {},
   "outputs": [],
   "source": []
  }
 ],
 "metadata": {
  "kernelspec": {
   "display_name": "tf",
   "language": "python",
   "name": "python3"
  },
  "language_info": {
   "codemirror_mode": {
    "name": "ipython",
    "version": 3
   },
   "file_extension": ".py",
   "mimetype": "text/x-python",
   "name": "python",
   "nbconvert_exporter": "python",
   "pygments_lexer": "ipython3",
   "version": "3.9.18"
  },
  "orig_nbformat": 4
 },
 "nbformat": 4,
 "nbformat_minor": 2
}
